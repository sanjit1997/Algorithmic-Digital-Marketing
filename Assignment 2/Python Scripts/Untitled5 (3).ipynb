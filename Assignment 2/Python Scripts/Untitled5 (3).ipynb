{
 "cells": [
  {
   "cell_type": "code",
   "execution_count": 47,
   "id": "04041479",
   "metadata": {},
   "outputs": [],
   "source": [
    "import warnings\n",
    "warnings.filterwarnings(\"ignore\")\n",
    "\n",
    "import pandas as pd\n",
    "import string\n",
    "\n",
    "#nltk\n",
    "import nltk\n",
    "from nltk.corpus import stopwords\n",
    "from nltk.tokenize import word_tokenize, sent_tokenize\n",
    "from nltk.stem import PorterStemmer, WordNetLemmatizer\n",
    "from nltk import tokenize\n",
    "from nltk.corpus import subjectivity\n",
    "from nltk.sentiment import SentimentAnalyzer, SentimentIntensityAnalyzer\n",
    "from nltk.sentiment.util import *\n",
    "\n",
    "#sci-kit learn\n",
    "from sklearn.feature_extraction.text import CountVectorizer, TfidfVectorizer\n",
    "import numpy as np\n",
    "from sklearn.metrics import (accuracy_score, roc_auc_score, confusion_matrix, roc_curve, auc, \n",
    "                             mean_squared_error, log_loss, precision_recall_curve, classification_report, \n",
    "                             precision_recall_fscore_support)\n",
    "from sklearn import preprocessing\n",
    "from sklearn.model_selection import train_test_split, GridSearchCV, validation_curve\n",
    "from sklearn.ensemble import RandomForestClassifier\n",
    "from sklearn.naive_bayes import MultinomialNB\n",
    "import scikitplot as skplt\n",
    "\n",
    "# Gensim\n",
    "import gensim\n",
    "import gensim.corpora as corpora\n",
    "from gensim.utils import simple_preprocess\n",
    "from gensim.models import CoherenceModel\n",
    "from gensim.models import word2vec\n",
    "\n",
    "from collections import Counter\n",
    "%matplotlib inline\n",
    "import matplotlib.pyplot as plt\n",
    "import seaborn as sns\n",
    "from pprint import pprint"
   ]
  },
  {
   "cell_type": "code",
   "execution_count": 44,
   "id": "82d9b6fd",
   "metadata": {},
   "outputs": [],
   "source": [
    "from nltk.corpus import PlaintextCorpusReader\n",
    "#\n",
    "# Root folder where the text files are located\n",
    "#\n",
    "corpus_root = 'C:\\\\Users\\\\raksh\\\\Downloads\\\\op_spam_v1.4\\\\op_spam_v1.4\\\\positive_polarity'\n",
    "corpus_root1 = 'C:\\\\Users\\\\raksh\\\\Downloads\\\\op_spam_v1.4\\\\op_spam_v1.4\\\\negative_polarity'\n",
    "#\n",
    "# Read the list of files\n",
    "#\n",
    "filelists = PlaintextCorpusReader(corpus_root, '.*')\n",
    "filelists1 = PlaintextCorpusReader(corpus_root1, '.*')\n",
    "#\n",
    "# List down the IDs of the files read from the local storage\n",
    "#\n",
    "filelists.fileids()\n",
    "filelists1.fileids()\n",
    "\n",
    "list_pos=[]\n",
    "list_neg=[]\n",
    "\n",
    "for i in filelists.fileids():\n",
    "    with open(\"C:\\\\Users\\\\raksh\\\\Downloads\\\\op_spam_v1.4\\\\op_spam_v1.4\\\\positive_polarity\\\\\"+i,'r') as file:\n",
    "        countriesStr = file.read().replace('\\n','')\n",
    "        list_pos.append(countriesStr)\n",
    "\n",
    "for i in filelists1.fileids():\n",
    "    with open(\"C:\\\\Users\\\\raksh\\\\Downloads\\\\op_spam_v1.4\\\\op_spam_v1.4\\\\negative_polarity\\\\\"+i,'r') as file:\n",
    "        countriesStr = file.read().replace('\\n','')\n",
    "        list_neg.append(countriesStr)\n"
   ]
  },
  {
   "cell_type": "code",
   "execution_count": 49,
   "id": "a42f2ea5",
   "metadata": {},
   "outputs": [],
   "source": [
    "positive_features = pd.DataFrame(\n",
    "    {'review':f,'label': 'pos'} for f in list_pos\n",
    ")"
   ]
  },
  {
   "cell_type": "code",
   "execution_count": 50,
   "id": "929ac13f",
   "metadata": {},
   "outputs": [
    {
     "data": {
      "text/html": [
       "<div>\n",
       "<style scoped>\n",
       "    .dataframe tbody tr th:only-of-type {\n",
       "        vertical-align: middle;\n",
       "    }\n",
       "\n",
       "    .dataframe tbody tr th {\n",
       "        vertical-align: top;\n",
       "    }\n",
       "\n",
       "    .dataframe thead th {\n",
       "        text-align: right;\n",
       "    }\n",
       "</style>\n",
       "<table border=\"1\" class=\"dataframe\">\n",
       "  <thead>\n",
       "    <tr style=\"text-align: right;\">\n",
       "      <th></th>\n",
       "      <th>review</th>\n",
       "      <th>label</th>\n",
       "    </tr>\n",
       "  </thead>\n",
       "  <tbody>\n",
       "    <tr>\n",
       "      <th>0</th>\n",
       "      <td>After recent week stay at the Affinia Hotels, ...</td>\n",
       "      <td>pos</td>\n",
       "    </tr>\n",
       "    <tr>\n",
       "      <th>1</th>\n",
       "      <td>Although much too overpriced in my opinion, th...</td>\n",
       "      <td>pos</td>\n",
       "    </tr>\n",
       "    <tr>\n",
       "      <th>2</th>\n",
       "      <td>The Affinia hotel in Chicago was superb. the r...</td>\n",
       "      <td>pos</td>\n",
       "    </tr>\n",
       "    <tr>\n",
       "      <th>3</th>\n",
       "      <td>THIS HOTEL IS FANTASTIC. I stayed there on my ...</td>\n",
       "      <td>pos</td>\n",
       "    </tr>\n",
       "    <tr>\n",
       "      <th>4</th>\n",
       "      <td>The Affinia Chicago is a wonderful place to st...</td>\n",
       "      <td>pos</td>\n",
       "    </tr>\n",
       "    <tr>\n",
       "      <th>...</th>\n",
       "      <td>...</td>\n",
       "      <td>...</td>\n",
       "    </tr>\n",
       "    <tr>\n",
       "      <th>795</th>\n",
       "      <td>I stayed at The Talbott for 3 nights on busine...</td>\n",
       "      <td>pos</td>\n",
       "    </tr>\n",
       "    <tr>\n",
       "      <th>796</th>\n",
       "      <td>We loved the Talbott. The location was fabulou...</td>\n",
       "      <td>pos</td>\n",
       "    </tr>\n",
       "    <tr>\n",
       "      <th>797</th>\n",
       "      <td>My husband attended a conference in Chicago fo...</td>\n",
       "      <td>pos</td>\n",
       "    </tr>\n",
       "    <tr>\n",
       "      <th>798</th>\n",
       "      <td>This is a great find for downtown Chicago. The...</td>\n",
       "      <td>pos</td>\n",
       "    </tr>\n",
       "    <tr>\n",
       "      <th>799</th>\n",
       "      <td>Chicago is one of our favorite cities to visit...</td>\n",
       "      <td>pos</td>\n",
       "    </tr>\n",
       "  </tbody>\n",
       "</table>\n",
       "<p>800 rows × 2 columns</p>\n",
       "</div>"
      ],
      "text/plain": [
       "                                                review label\n",
       "0    After recent week stay at the Affinia Hotels, ...   pos\n",
       "1    Although much too overpriced in my opinion, th...   pos\n",
       "2    The Affinia hotel in Chicago was superb. the r...   pos\n",
       "3    THIS HOTEL IS FANTASTIC. I stayed there on my ...   pos\n",
       "4    The Affinia Chicago is a wonderful place to st...   pos\n",
       "..                                                 ...   ...\n",
       "795  I stayed at The Talbott for 3 nights on busine...   pos\n",
       "796  We loved the Talbott. The location was fabulou...   pos\n",
       "797  My husband attended a conference in Chicago fo...   pos\n",
       "798  This is a great find for downtown Chicago. The...   pos\n",
       "799  Chicago is one of our favorite cities to visit...   pos\n",
       "\n",
       "[800 rows x 2 columns]"
      ]
     },
     "execution_count": 50,
     "metadata": {},
     "output_type": "execute_result"
    }
   ],
   "source": [
    "positive_features"
   ]
  },
  {
   "cell_type": "code",
   "execution_count": 51,
   "id": "c23d7dd5",
   "metadata": {},
   "outputs": [],
   "source": [
    "negative_features = pd.DataFrame(\n",
    "    {'review':f,'label': 'neg'} for f in list_neg\n",
    ")"
   ]
  },
  {
   "cell_type": "code",
   "execution_count": 52,
   "id": "2002dc81",
   "metadata": {},
   "outputs": [
    {
     "data": {
      "text/html": [
       "<div>\n",
       "<style scoped>\n",
       "    .dataframe tbody tr th:only-of-type {\n",
       "        vertical-align: middle;\n",
       "    }\n",
       "\n",
       "    .dataframe tbody tr th {\n",
       "        vertical-align: top;\n",
       "    }\n",
       "\n",
       "    .dataframe thead th {\n",
       "        text-align: right;\n",
       "    }\n",
       "</style>\n",
       "<table border=\"1\" class=\"dataframe\">\n",
       "  <thead>\n",
       "    <tr style=\"text-align: right;\">\n",
       "      <th></th>\n",
       "      <th>review</th>\n",
       "      <th>label</th>\n",
       "    </tr>\n",
       "  </thead>\n",
       "  <tbody>\n",
       "    <tr>\n",
       "      <th>0</th>\n",
       "      <td>Affinia Chicago is one of the worst hotels I h...</td>\n",
       "      <td>neg</td>\n",
       "    </tr>\n",
       "    <tr>\n",
       "      <th>1</th>\n",
       "      <td>I recently stayed at the Affina Chicago hotel ...</td>\n",
       "      <td>neg</td>\n",
       "    </tr>\n",
       "    <tr>\n",
       "      <th>2</th>\n",
       "      <td>I stayed at the Affina Chicago for my annivers...</td>\n",
       "      <td>neg</td>\n",
       "    </tr>\n",
       "    <tr>\n",
       "      <th>3</th>\n",
       "      <td>If you are looking for a high end hotel on the...</td>\n",
       "      <td>neg</td>\n",
       "    </tr>\n",
       "    <tr>\n",
       "      <th>4</th>\n",
       "      <td>I just returned from a long weekend in Chicago...</td>\n",
       "      <td>neg</td>\n",
       "    </tr>\n",
       "    <tr>\n",
       "      <th>...</th>\n",
       "      <td>...</td>\n",
       "      <td>...</td>\n",
       "    </tr>\n",
       "    <tr>\n",
       "      <th>795</th>\n",
       "      <td>I have stayed in the Talbott a few times and h...</td>\n",
       "      <td>neg</td>\n",
       "    </tr>\n",
       "    <tr>\n",
       "      <th>796</th>\n",
       "      <td>We reserved a room with a sleeper couch a few ...</td>\n",
       "      <td>neg</td>\n",
       "    </tr>\n",
       "    <tr>\n",
       "      <th>797</th>\n",
       "      <td>I can easily say this is one of the worst hote...</td>\n",
       "      <td>neg</td>\n",
       "    </tr>\n",
       "    <tr>\n",
       "      <th>798</th>\n",
       "      <td>Just back from spending Memorial Day weekend i...</td>\n",
       "      <td>neg</td>\n",
       "    </tr>\n",
       "    <tr>\n",
       "      <th>799</th>\n",
       "      <td>I can't recall another time I've had to deal w...</td>\n",
       "      <td>neg</td>\n",
       "    </tr>\n",
       "  </tbody>\n",
       "</table>\n",
       "<p>800 rows × 2 columns</p>\n",
       "</div>"
      ],
      "text/plain": [
       "                                                review label\n",
       "0    Affinia Chicago is one of the worst hotels I h...   neg\n",
       "1    I recently stayed at the Affina Chicago hotel ...   neg\n",
       "2    I stayed at the Affina Chicago for my annivers...   neg\n",
       "3    If you are looking for a high end hotel on the...   neg\n",
       "4    I just returned from a long weekend in Chicago...   neg\n",
       "..                                                 ...   ...\n",
       "795  I have stayed in the Talbott a few times and h...   neg\n",
       "796  We reserved a room with a sleeper couch a few ...   neg\n",
       "797  I can easily say this is one of the worst hote...   neg\n",
       "798  Just back from spending Memorial Day weekend i...   neg\n",
       "799  I can't recall another time I've had to deal w...   neg\n",
       "\n",
       "[800 rows x 2 columns]"
      ]
     },
     "execution_count": 52,
     "metadata": {},
     "output_type": "execute_result"
    }
   ],
   "source": [
    "negative_features"
   ]
  },
  {
   "cell_type": "code",
   "execution_count": 55,
   "id": "6b95b59c",
   "metadata": {},
   "outputs": [],
   "source": [
    "positive_features.review = positive_features.review.apply(lambda x:x.lower())"
   ]
  },
  {
   "cell_type": "code",
   "execution_count": 56,
   "id": "815ef106",
   "metadata": {},
   "outputs": [],
   "source": [
    "negative_features.review = negative_features.review.apply(lambda x:x.lower())"
   ]
  },
  {
   "cell_type": "code",
   "execution_count": 57,
   "id": "28ebc034",
   "metadata": {},
   "outputs": [
    {
     "data": {
      "text/plain": [
       "\"the affinia hotel in chicago was superb. the room service was exemplary and the food, i don't even know were to start. the chef obviously knew what he was doing, i especially loved the seafood, my personal favorite was the shrimp. aside from this, i loved how beautiful the hotel was. it is definetly a bargain for the price, for that price you would probably get a good 3 star hotel but, i felt as if i was in a $10,000 a night 5 star hotel in the europe. great bang for your buck. would recommend it to anybody looking to relax at a great hotel with great amenities in a great city. my friends actually went their a while back because of me. they loved it! i know you will too.\""
      ]
     },
     "execution_count": 57,
     "metadata": {},
     "output_type": "execute_result"
    }
   ],
   "source": [
    "positive_features.review[2]"
   ]
  },
  {
   "cell_type": "code",
   "execution_count": 58,
   "id": "940b7524",
   "metadata": {},
   "outputs": [
    {
     "data": {
      "text/plain": [
       "['the', 'affinia', 'hotel', 'in', 'chicago']"
      ]
     },
     "execution_count": 58,
     "metadata": {},
     "output_type": "execute_result"
    }
   ],
   "source": [
    "\n",
    "positive_features.review[2].split()[0:5]"
   ]
  },
  {
   "cell_type": "code",
   "execution_count": 59,
   "id": "39f4787d",
   "metadata": {},
   "outputs": [
    {
     "data": {
      "text/plain": [
       "['\"', '#', '$', '%', '&', \"'\", '(', ')', '*']"
      ]
     },
     "execution_count": 59,
     "metadata": {},
     "output_type": "execute_result"
    }
   ],
   "source": [
    "punctuations = list(string.punctuation)\n",
    "punctuations[1:10]"
   ]
  },
  {
   "cell_type": "code",
   "execution_count": 60,
   "id": "04894fc1",
   "metadata": {},
   "outputs": [],
   "source": [
    "positive_features.review = positive_features.review.apply(lambda x: \" \".join(x for x in x.split() if x not in punctuations))\n",
    "negative_features.review = negative_features.review.apply(lambda x: \" \".join(x for x in x.split() if x not in punctuations))"
   ]
  },
  {
   "cell_type": "code",
   "execution_count": 61,
   "id": "ea30d0de",
   "metadata": {},
   "outputs": [
    {
     "data": {
      "text/plain": [
       "\"the affinia hotel in chicago was superb. the room service was exemplary and the food, i don't even know were to start. the chef obviously knew what he was doing, i especially loved the seafood, my personal favorite was the shrimp. aside from this, i loved how beautiful the hotel was. it is definetly a bargain for the price, for that price you would probably get a good 3 star hotel but, i felt as if i was in a $10,000 a night 5 star hotel in the europe. great bang for your buck. would recommend it to anybody looking to relax at a great hotel with great amenities in a great city. my friends actually went their a while back because of me. they loved it! i know you will too.\""
      ]
     },
     "execution_count": 61,
     "metadata": {},
     "output_type": "execute_result"
    }
   ],
   "source": [
    "positive_features.review[2]"
   ]
  },
  {
   "cell_type": "code",
   "execution_count": 62,
   "id": "b9a60dba",
   "metadata": {},
   "outputs": [
    {
     "name": "stderr",
     "output_type": "stream",
     "text": [
      "[nltk_data] Downloading package stopwords to\n",
      "[nltk_data]     C:\\Users\\raksh\\AppData\\Roaming\\nltk_data...\n",
      "[nltk_data]   Unzipping corpora\\stopwords.zip.\n"
     ]
    },
    {
     "data": {
      "text/plain": [
       "True"
      ]
     },
     "execution_count": 62,
     "metadata": {},
     "output_type": "execute_result"
    }
   ],
   "source": [
    "nltk.download('stopwords')"
   ]
  },
  {
   "cell_type": "code",
   "execution_count": 63,
   "id": "6d25baa3",
   "metadata": {},
   "outputs": [],
   "source": [
    "stop = stopwords.words('english')"
   ]
  },
  {
   "cell_type": "code",
   "execution_count": 64,
   "id": "be9bf557",
   "metadata": {},
   "outputs": [
    {
     "data": {
      "text/plain": [
       "['i', 'me', 'my', 'myself', 'we', 'our', 'ours', 'ourselves', 'you', \"you're\"]"
      ]
     },
     "execution_count": 64,
     "metadata": {},
     "output_type": "execute_result"
    }
   ],
   "source": [
    "stop[0:10]"
   ]
  },
  {
   "cell_type": "code",
   "execution_count": 65,
   "id": "c38816e2",
   "metadata": {},
   "outputs": [
    {
     "name": "stdout",
     "output_type": "stream",
     "text": [
      "Total stop words: 179\n"
     ]
    }
   ],
   "source": [
    "print('Total stop words:',len(stop))"
   ]
  },
  {
   "cell_type": "code",
   "execution_count": 66,
   "id": "b49ed793",
   "metadata": {},
   "outputs": [],
   "source": [
    "positive_features.review = positive_features.review.apply(lambda x: \" \".join(x for x in x.split() if x not in stop))\n",
    "negative_features.review = negative_features.review.apply(lambda x: \" \".join(x for x in x.split() if x not in stop))"
   ]
  },
  {
   "cell_type": "code",
   "execution_count": 67,
   "id": "44744f33",
   "metadata": {},
   "outputs": [
    {
     "data": {
      "text/plain": [
       "'affinia hotel chicago superb. room service exemplary food, even know start. chef obviously knew doing, especially loved seafood, personal favorite shrimp. aside this, loved beautiful hotel was. definetly bargain price, price would probably get good 3 star hotel but, felt $10,000 night 5 star hotel europe. great bang buck. would recommend anybody looking relax great hotel great amenities great city. friends actually went back me. loved it! know too.'"
      ]
     },
     "execution_count": 67,
     "metadata": {},
     "output_type": "execute_result"
    }
   ],
   "source": [
    "positive_features.review[2]"
   ]
  },
  {
   "cell_type": "code",
   "execution_count": 68,
   "id": "00d28a44",
   "metadata": {},
   "outputs": [
    {
     "name": "stderr",
     "output_type": "stream",
     "text": [
      "[nltk_data] Downloading package punkt to\n",
      "[nltk_data]     C:\\Users\\raksh\\AppData\\Roaming\\nltk_data...\n",
      "[nltk_data]   Unzipping tokenizers\\punkt.zip.\n"
     ]
    },
    {
     "data": {
      "text/plain": [
       "True"
      ]
     },
     "execution_count": 68,
     "metadata": {},
     "output_type": "execute_result"
    }
   ],
   "source": [
    "nltk.download('punkt')"
   ]
  },
  {
   "cell_type": "code",
   "execution_count": 69,
   "id": "39fc89b8",
   "metadata": {},
   "outputs": [
    {
     "data": {
      "text/plain": [
       "['affinia hotel chicago superb.',\n",
       " 'room service exemplary food, even know start.',\n",
       " 'chef obviously knew doing, especially loved seafood, personal favorite shrimp.',\n",
       " 'aside this, loved beautiful hotel was.',\n",
       " 'definetly bargain price, price would probably get good 3 star hotel but, felt $10,000 night 5 star hotel europe.',\n",
       " 'great bang buck.',\n",
       " 'would recommend anybody looking relax great hotel great amenities great city.',\n",
       " 'friends actually went back me.',\n",
       " 'loved it!',\n",
       " 'know too.']"
      ]
     },
     "execution_count": 69,
     "metadata": {},
     "output_type": "execute_result"
    }
   ],
   "source": [
    "sent_tokenize(positive_features.review[2])"
   ]
  },
  {
   "cell_type": "code",
   "execution_count": 70,
   "id": "5fb28b6d",
   "metadata": {},
   "outputs": [],
   "source": [
    "positive_features['review_tokenized'] = positive_features.review.apply(lambda x: word_tokenize(x))\n",
    "negative_features['review_tokenized'] = negative_features.review.apply(lambda x: word_tokenize(x))"
   ]
  },
  {
   "cell_type": "code",
   "execution_count": 71,
   "id": "2e73b1d7",
   "metadata": {},
   "outputs": [
    {
     "data": {
      "text/plain": [
       "0    [recent, week, stay, affinia, hotels, ,, defin...\n",
       "1    [although, much, overpriced, opinion, ,, hotel...\n",
       "2    [affinia, hotel, chicago, superb, ., room, ser...\n",
       "3    [hotel, fantastic, ., stayed, way, chicago, to...\n",
       "4    [affinia, chicago, wonderful, place, stay, ,, ...\n",
       "Name: review_tokenized, dtype: object"
      ]
     },
     "execution_count": 71,
     "metadata": {},
     "output_type": "execute_result"
    }
   ],
   "source": [
    "positive_features['review_tokenized'].head()"
   ]
  },
  {
   "cell_type": "code",
   "execution_count": 72,
   "id": "9c4a4871",
   "metadata": {},
   "outputs": [
    {
     "name": "stdout",
     "output_type": "stream",
     "text": [
      "work\n"
     ]
    }
   ],
   "source": [
    "stemmer = PorterStemmer()\n",
    "print(stemmer.stem('working'))"
   ]
  },
  {
   "cell_type": "code",
   "execution_count": 73,
   "id": "4205f007",
   "metadata": {},
   "outputs": [],
   "source": [
    "positive_features['review_stemmed'] = positive_features.review_tokenized.apply(lambda x: [stemmer.stem(word) for word in x])\n",
    "negative_features['review_stemmed'] = negative_features.review_tokenized.apply(lambda x: [stemmer.stem(word) for word in x])"
   ]
  },
  {
   "cell_type": "code",
   "execution_count": 74,
   "id": "ac8b60f8",
   "metadata": {},
   "outputs": [
    {
     "data": {
      "text/plain": [
       "0    [recent, week, stay, affinia, hotels, ,, defin...\n",
       "1    [although, much, overpriced, opinion, ,, hotel...\n",
       "2    [affinia, hotel, chicago, superb, ., room, ser...\n",
       "3    [hotel, fantastic, ., stayed, way, chicago, to...\n",
       "4    [affinia, chicago, wonderful, place, stay, ,, ...\n",
       "Name: review_tokenized, dtype: object"
      ]
     },
     "execution_count": 74,
     "metadata": {},
     "output_type": "execute_result"
    }
   ],
   "source": [
    "positive_features.review_tokenized.head()"
   ]
  },
  {
   "cell_type": "code",
   "execution_count": 75,
   "id": "a9ad825c",
   "metadata": {},
   "outputs": [
    {
     "data": {
      "text/plain": [
       "0    [recent, week, stay, affinia, hotel, ,, defini...\n",
       "1    [although, much, overpr, opinion, ,, hotel, sp...\n",
       "2    [affinia, hotel, chicago, superb, ., room, ser...\n",
       "3    [hotel, fantast, ., stay, way, chicago, toward...\n",
       "4    [affinia, chicago, wonder, place, stay, ,, hus...\n",
       "Name: review_stemmed, dtype: object"
      ]
     },
     "execution_count": 75,
     "metadata": {},
     "output_type": "execute_result"
    }
   ],
   "source": [
    "\n",
    "positive_features.review_stemmed.head()"
   ]
  },
  {
   "cell_type": "code",
   "execution_count": 76,
   "id": "ef59c916",
   "metadata": {},
   "outputs": [
    {
     "name": "stderr",
     "output_type": "stream",
     "text": [
      "[nltk_data] Downloading package wordnet to\n",
      "[nltk_data]     C:\\Users\\raksh\\AppData\\Roaming\\nltk_data...\n",
      "[nltk_data]   Unzipping corpora\\wordnet.zip.\n"
     ]
    },
    {
     "data": {
      "text/plain": [
       "True"
      ]
     },
     "execution_count": 76,
     "metadata": {},
     "output_type": "execute_result"
    }
   ],
   "source": [
    "nltk.download('wordnet')"
   ]
  },
  {
   "cell_type": "code",
   "execution_count": 77,
   "id": "c9f1f1ec",
   "metadata": {},
   "outputs": [
    {
     "name": "stdout",
     "output_type": "stream",
     "text": [
      "increase\n"
     ]
    }
   ],
   "source": [
    "lemmatizer = WordNetLemmatizer()\n",
    " \n",
    "print(lemmatizer.lemmatize('increases'))"
   ]
  },
  {
   "cell_type": "code",
   "execution_count": 78,
   "id": "30c9198d",
   "metadata": {},
   "outputs": [
    {
     "name": "stdout",
     "output_type": "stream",
     "text": [
      "playing\n",
      "play\n"
     ]
    }
   ],
   "source": [
    "print(lemmatizer.lemmatize('playing'))\n",
    "print(lemmatizer.lemmatize('playing', pos=\"v\"))"
   ]
  },
  {
   "cell_type": "code",
   "execution_count": 79,
   "id": "0e483475",
   "metadata": {},
   "outputs": [
    {
     "name": "stdout",
     "output_type": "stream",
     "text": [
      "play\n",
      "playing\n",
      "playing\n",
      "playing\n"
     ]
    }
   ],
   "source": [
    "print(lemmatizer.lemmatize('playing', pos=\"v\"))\n",
    " \n",
    "print(lemmatizer.lemmatize('playing', pos=\"n\"))\n",
    " \n",
    "print(lemmatizer.lemmatize('playing', pos=\"a\"))\n",
    " \n",
    "print(lemmatizer.lemmatize('playing', pos=\"r\"))"
   ]
  },
  {
   "cell_type": "code",
   "execution_count": 80,
   "id": "6f2cf747",
   "metadata": {},
   "outputs": [],
   "source": [
    "positive_features['review_lemmatized'] = positive_features.review_tokenized.apply(lambda x: [lemmatizer.lemmatize(word) for word in x])\n",
    "negative_features['review_lemmatized'] = negative_features.review_tokenized.apply(lambda x: [lemmatizer.lemmatize(word) for word in x])"
   ]
  },
  {
   "cell_type": "code",
   "execution_count": 81,
   "id": "8dd17777",
   "metadata": {},
   "outputs": [
    {
     "data": {
      "text/plain": [
       "0    [recent, week, stay, affinia, hotels, ,, defin...\n",
       "1    [although, much, overpriced, opinion, ,, hotel...\n",
       "2    [affinia, hotel, chicago, superb, ., room, ser...\n",
       "3    [hotel, fantastic, ., stayed, way, chicago, to...\n",
       "4    [affinia, chicago, wonderful, place, stay, ,, ...\n",
       "Name: review_tokenized, dtype: object"
      ]
     },
     "execution_count": 81,
     "metadata": {},
     "output_type": "execute_result"
    }
   ],
   "source": [
    "positive_features.review_tokenized.head()"
   ]
  },
  {
   "cell_type": "code",
   "execution_count": 82,
   "id": "6111ea05",
   "metadata": {},
   "outputs": [
    {
     "data": {
      "text/plain": [
       "0    [recent, week, stay, affinia, hotel, ,, defini...\n",
       "1    [although, much, overpriced, opinion, ,, hotel...\n",
       "2    [affinia, hotel, chicago, superb, ., room, ser...\n",
       "3    [hotel, fantastic, ., stayed, way, chicago, to...\n",
       "4    [affinia, chicago, wonderful, place, stay, ,, ...\n",
       "Name: review_lemmatized, dtype: object"
      ]
     },
     "execution_count": 82,
     "metadata": {},
     "output_type": "execute_result"
    }
   ],
   "source": [
    "positive_features.review_lemmatized.head()"
   ]
  },
  {
   "cell_type": "code",
   "execution_count": 83,
   "id": "999dce03",
   "metadata": {},
   "outputs": [
    {
     "name": "stdout",
     "output_type": "stream",
     "text": [
      "stones: stone\n",
      "speaking: speak\n",
      "bedroom: bedroom\n",
      "jokes: joke\n",
      "lisa: lisa\n",
      "purple: purpl\n",
      "----------------------\n",
      "stones: stone\n",
      "speaking: speak\n",
      "bedroom: bedroom\n",
      "jokes: joke\n",
      "lisa: lisa\n",
      "purple: purple\n"
     ]
    }
   ],
   "source": [
    "print('stones:',stemmer.stem('stones'))\n",
    " \n",
    "print('speaking:',stemmer.stem('speaking'))\n",
    " \n",
    "print('bedroom:',stemmer.stem('bedroom'))\n",
    " \n",
    "print('jokes:',stemmer.stem('jokes'))\n",
    " \n",
    "print('lisa:',stemmer.stem('lisa'))\n",
    " \n",
    "print('purple:',stemmer.stem('purple'))\n",
    " \n",
    "print('----------------------')\n",
    " \n",
    "print('stones:',lemmatizer.lemmatize('stones'))\n",
    " \n",
    "print('speaking:',lemmatizer.lemmatize('speaking', pos = 'v'))\n",
    " \n",
    "print('bedroom:',lemmatizer.lemmatize('bedroom'))\n",
    " \n",
    "print('jokes:',lemmatizer.lemmatize('jokes'))\n",
    " \n",
    "print('lisa:',lemmatizer.lemmatize('lisa'))\n",
    " \n",
    "print('purple:',lemmatizer.lemmatize('purple'))"
   ]
  },
  {
   "cell_type": "code",
   "execution_count": 84,
   "id": "7c1324c3",
   "metadata": {},
   "outputs": [],
   "source": [
    "positive_review_list = positive_features['review_lemmatized'].tolist()\n",
    "negative_review_list = negative_features['review_lemmatized'].tolist()"
   ]
  },
  {
   "cell_type": "code",
   "execution_count": 85,
   "id": "465fda52",
   "metadata": {},
   "outputs": [],
   "source": [
    "positive_review_list = [item for sublist in positive_review_list for item in sublist]\n",
    "negative_review_list = [item for sublist in negative_review_list for item in sublist]"
   ]
  },
  {
   "cell_type": "code",
   "execution_count": 86,
   "id": "eabfa1ea",
   "metadata": {},
   "outputs": [
    {
     "name": "stdout",
     "output_type": "stream",
     "text": [
      "Number of positive words 61274\n"
     ]
    }
   ],
   "source": [
    "print('Number of positive words',len(positive_review_list))"
   ]
  },
  {
   "cell_type": "code",
   "execution_count": 87,
   "id": "6ad1532f",
   "metadata": {},
   "outputs": [
    {
     "name": "stdout",
     "output_type": "stream",
     "text": [
      "Number of negative words 88445\n"
     ]
    }
   ],
   "source": [
    "\n",
    "print('Number of negative words',len(negative_review_list))"
   ]
  },
  {
   "cell_type": "code",
   "execution_count": 88,
   "id": "535ef13d",
   "metadata": {},
   "outputs": [],
   "source": [
    "all_words = (positive_review_list + negative_review_list)"
   ]
  },
  {
   "cell_type": "code",
   "execution_count": 89,
   "id": "a5740653",
   "metadata": {},
   "outputs": [
    {
     "name": "stdout",
     "output_type": "stream",
     "text": [
      "Number of total words in corpus 149719\n"
     ]
    }
   ],
   "source": [
    "print('Number of total words in corpus',len(all_words))"
   ]
  },
  {
   "cell_type": "code",
   "execution_count": 90,
   "id": "9d6e31e3",
   "metadata": {},
   "outputs": [],
   "source": [
    "word_counter = Counter(all_words)"
   ]
  },
  {
   "cell_type": "code",
   "execution_count": 91,
   "id": "6ae73619",
   "metadata": {},
   "outputs": [
    {
     "data": {
      "text/html": [
       "<div>\n",
       "<style scoped>\n",
       "    .dataframe tbody tr th:only-of-type {\n",
       "        vertical-align: middle;\n",
       "    }\n",
       "\n",
       "    .dataframe tbody tr th {\n",
       "        vertical-align: top;\n",
       "    }\n",
       "\n",
       "    .dataframe thead th {\n",
       "        text-align: right;\n",
       "    }\n",
       "</style>\n",
       "<table border=\"1\" class=\"dataframe\">\n",
       "  <thead>\n",
       "    <tr style=\"text-align: right;\">\n",
       "      <th></th>\n",
       "      <th>word</th>\n",
       "      <th>freq</th>\n",
       "    </tr>\n",
       "  </thead>\n",
       "  <tbody>\n",
       "    <tr>\n",
       "      <th>0</th>\n",
       "      <td>.</td>\n",
       "      <td>13509</td>\n",
       "    </tr>\n",
       "    <tr>\n",
       "      <th>1</th>\n",
       "      <td>,</td>\n",
       "      <td>8689</td>\n",
       "    </tr>\n",
       "    <tr>\n",
       "      <th>2</th>\n",
       "      <td>hotel</td>\n",
       "      <td>3634</td>\n",
       "    </tr>\n",
       "    <tr>\n",
       "      <th>3</th>\n",
       "      <td>room</td>\n",
       "      <td>3458</td>\n",
       "    </tr>\n",
       "    <tr>\n",
       "      <th>4</th>\n",
       "      <td>!</td>\n",
       "      <td>1565</td>\n",
       "    </tr>\n",
       "    <tr>\n",
       "      <th>5</th>\n",
       "      <td>chicago</td>\n",
       "      <td>1522</td>\n",
       "    </tr>\n",
       "    <tr>\n",
       "      <th>6</th>\n",
       "      <td>stay</td>\n",
       "      <td>1321</td>\n",
       "    </tr>\n",
       "    <tr>\n",
       "      <th>7</th>\n",
       "      <td>would</td>\n",
       "      <td>926</td>\n",
       "    </tr>\n",
       "    <tr>\n",
       "      <th>8</th>\n",
       "      <td>great</td>\n",
       "      <td>864</td>\n",
       "    </tr>\n",
       "    <tr>\n",
       "      <th>9</th>\n",
       "      <td>service</td>\n",
       "      <td>858</td>\n",
       "    </tr>\n",
       "  </tbody>\n",
       "</table>\n",
       "</div>"
      ],
      "text/plain": [
       "      word   freq\n",
       "0        .  13509\n",
       "1        ,   8689\n",
       "2    hotel   3634\n",
       "3     room   3458\n",
       "4        !   1565\n",
       "5  chicago   1522\n",
       "6     stay   1321\n",
       "7    would    926\n",
       "8    great    864\n",
       "9  service    858"
      ]
     },
     "execution_count": 91,
     "metadata": {},
     "output_type": "execute_result"
    }
   ],
   "source": [
    "most_common_words = word_counter.most_common()[:10]\n",
    "most_common_words = pd.DataFrame(most_common_words)\n",
    "most_common_words.columns = ['word', 'freq']\n",
    "most_common_words"
   ]
  },
  {
   "cell_type": "code",
   "execution_count": 92,
   "id": "abbd067a",
   "metadata": {},
   "outputs": [
    {
     "data": {
      "text/plain": [
       "<AxesSubplot:ylabel='word'>"
      ]
     },
     "execution_count": 92,
     "metadata": {},
     "output_type": "execute_result"
    },
    {
     "data": {
      "image/png": "[encoded data removed]",
      "text/plain": [
       "<Figure size 432x288 with 1 Axes>"
      ]
     },
     "metadata": {
      "needs_background": "light"
     },
     "output_type": "display_data"
    }
   ],
   "source": [
    "\n",
    "most_common_words.sort_values(by='freq',ascending=True).plot(x='word', kind='barh')"
   ]
  },
  {
   "cell_type": "code",
   "execution_count": 93,
   "id": "738d2caa",
   "metadata": {},
   "outputs": [
    {
     "data": {
      "image/png": "[encoded data removed]",
      "text/plain": [
       "<Figure size 432x288 with 1 Axes>"
      ]
     },
     "metadata": {
      "needs_background": "light"
     },
     "output_type": "display_data"
    }
   ],
   "source": [
    "sorted_word_counts = sorted(list(word_counter.values()), reverse=True)\n",
    "\n",
    "plt.loglog(sorted_word_counts)\n",
    "plt.ylabel(\"Freq\")\n",
    "plt.xlabel(\"Word Rank\");"
   ]
  },
  {
   "cell_type": "code",
   "execution_count": 94,
   "id": "c92cb3a5",
   "metadata": {},
   "outputs": [
    {
     "data": {
      "image/png": "[encoded data removed]",
      "text/plain": [
       "<Figure size 432x288 with 1 Axes>"
      ]
     },
     "metadata": {
      "needs_background": "light"
     },
     "output_type": "display_data"
    }
   ],
   "source": [
    "plt.hist(sorted_word_counts, bins=50);"
   ]
  },
  {
   "cell_type": "code",
   "execution_count": 95,
   "id": "f0719793",
   "metadata": {},
   "outputs": [
    {
     "data": {
      "image/png": "[encoded data removed]",
      "text/plain": [
       "<Figure size 432x288 with 1 Axes>"
      ]
     },
     "metadata": {
      "needs_background": "light"
     },
     "output_type": "display_data"
    }
   ],
   "source": [
    "plt.hist(sorted_word_counts, bins=50, log=True);"
   ]
  },
  {
   "cell_type": "code",
   "execution_count": 96,
   "id": "6dd0ac4a",
   "metadata": {},
   "outputs": [
    {
     "data": {
      "image/png": "[encoded data removed]",
      "text/plain": [
       "<Figure size 432x288 with 1 Axes>"
      ]
     },
     "metadata": {
      "needs_background": "light"
     },
     "output_type": "display_data"
    }
   ],
   "source": [
    "sns.distplot(positive_features['review'].apply(lambda y: len(y)), label='positive reviews',hist=False)\n",
    "sns.distplot(negative_features['review'].apply(lambda y: len(y)), label='negative reviews',hist=False)\n",
    "plt.legend()\n",
    "plt.show()"
   ]
  },
  {
   "cell_type": "code",
   "execution_count": 97,
   "id": "555121d9",
   "metadata": {},
   "outputs": [
    {
     "data": {
      "text/plain": [
       "['.', ',', 'hotel']"
      ]
     },
     "execution_count": 97,
     "metadata": {},
     "output_type": "execute_result"
    }
   ],
   "source": [
    "most_common_words.word.tolist()[:3]"
   ]
  },
  {
   "cell_type": "code",
   "execution_count": 98,
   "id": "70b296ca",
   "metadata": {},
   "outputs": [
    {
     "data": {
      "text/plain": [
       "['.', ',', 'hotel']"
      ]
     },
     "execution_count": 98,
     "metadata": {},
     "output_type": "execute_result"
    }
   ],
   "source": [
    "\n",
    "remove = most_common_words.word.tolist()[:3]\n",
    "remove"
   ]
  },
  {
   "cell_type": "code",
   "execution_count": 99,
   "id": "28573d25",
   "metadata": {},
   "outputs": [],
   "source": [
    "negative_features['review_lemmatized'] = negative_features['review_lemmatized'].apply(lambda x: [y for y in x if y not in remove])\n",
    "positive_features['review_lemmatized'] = positive_features['review_lemmatized'].apply(lambda x: [y for y in x if y not in remove])"
   ]
  },
  {
   "cell_type": "code",
   "execution_count": 100,
   "id": "c078d7f6",
   "metadata": {},
   "outputs": [],
   "source": [
    "positive_features['review_lemmatized_train'] = positive_features.review_lemmatized.apply(lambda x: ' '.join(x))\n",
    "negative_features['review_lemmatized_train'] = negative_features.review_lemmatized.apply(lambda x: ' '.join(x))"
   ]
  },
  {
   "cell_type": "code",
   "execution_count": 101,
   "id": "87a1bb52",
   "metadata": {},
   "outputs": [],
   "source": [
    "x = (positive_features['review_lemmatized_train'].append(negative_features['review_lemmatized_train']))\n",
    "y = (positive_features['label'].append(negative_features['label']))"
   ]
  },
  {
   "cell_type": "code",
   "execution_count": 102,
   "id": "438d0254",
   "metadata": {},
   "outputs": [
    {
     "data": {
      "text/plain": [
       "['neg', 'pos']"
      ]
     },
     "execution_count": 102,
     "metadata": {},
     "output_type": "execute_result"
    }
   ],
   "source": [
    "le = preprocessing.LabelEncoder()\n",
    "le.fit(y)\n",
    "\n",
    "list(le.classes_)"
   ]
  },
  {
   "cell_type": "code",
   "execution_count": 103,
   "id": "3e416e00",
   "metadata": {},
   "outputs": [],
   "source": [
    "y = le.transform(y)"
   ]
  },
  {
   "cell_type": "code",
   "execution_count": 104,
   "id": "1df218fd",
   "metadata": {},
   "outputs": [
    {
     "name": "stdout",
     "output_type": "stream",
     "text": [
      "Labels for '['neg' 'pos']' are '[0 1]' respectively.\n"
     ]
    }
   ],
   "source": [
    "print('Labels for \\'{}\\' are \\'{}\\' respectively.'.format(le.inverse_transform(np.unique(y)),np.unique(y)))"
   ]
  },
  {
   "cell_type": "code",
   "execution_count": 105,
   "id": "6ae8c8cb",
   "metadata": {},
   "outputs": [
    {
     "data": {
      "text/plain": [
       "<1600x8664 sparse matrix of type '<class 'numpy.int64'>'\n",
       "\twith 100148 stored elements in Compressed Sparse Row format>"
      ]
     },
     "execution_count": 105,
     "metadata": {},
     "output_type": "execute_result"
    }
   ],
   "source": [
    "bow = CountVectorizer(max_features=25000, lowercase=True,analyzer = \"word\")\n",
    "train_bow_neg = bow.fit_transform(x)\n",
    "train_bow_neg"
   ]
  },
  {
   "cell_type": "code",
   "execution_count": 106,
   "id": "c2827532",
   "metadata": {},
   "outputs": [
    {
     "data": {
      "text/plain": [
       "(1600, 8664)"
      ]
     },
     "execution_count": 106,
     "metadata": {},
     "output_type": "execute_result"
    }
   ],
   "source": [
    "train_bow_neg.toarray().shape"
   ]
  },
  {
   "cell_type": "code",
   "execution_count": 107,
   "id": "4c4deee3",
   "metadata": {},
   "outputs": [
    {
     "data": {
      "text/plain": [
       "array([[0, 0, 0, ..., 0, 0, 0],\n",
       "       [0, 1, 0, ..., 0, 0, 0],\n",
       "       [0, 0, 0, ..., 0, 0, 0],\n",
       "       [0, 0, 0, ..., 0, 0, 0]], dtype=int64)"
      ]
     },
     "execution_count": 107,
     "metadata": {},
     "output_type": "execute_result"
    }
   ],
   "source": [
    "train_bow_neg.toarray()[1:5]"
   ]
  },
  {
   "cell_type": "code",
   "execution_count": 108,
   "id": "965e9dcd",
   "metadata": {},
   "outputs": [],
   "source": [
    "vocab = bow.get_feature_names()"
   ]
  },
  {
   "cell_type": "code",
   "execution_count": 109,
   "id": "36a2ec6c",
   "metadata": {},
   "outputs": [],
   "source": [
    "# Sum up the counts of each vocabulary word\n",
    "dist = np.sum(train_bow_neg.toarray(), axis=0)\n",
    "\n",
    "word_freq = pd.DataFrame({'word':vocab,'freq':dist})"
   ]
  },
  {
   "cell_type": "code",
   "execution_count": 110,
   "id": "367c1029",
   "metadata": {},
   "outputs": [
    {
     "data": {
      "text/html": [
       "<div>\n",
       "<style scoped>\n",
       "    .dataframe tbody tr th:only-of-type {\n",
       "        vertical-align: middle;\n",
       "    }\n",
       "\n",
       "    .dataframe tbody tr th {\n",
       "        vertical-align: top;\n",
       "    }\n",
       "\n",
       "    .dataframe thead th {\n",
       "        text-align: right;\n",
       "    }\n",
       "</style>\n",
       "<table border=\"1\" class=\"dataframe\">\n",
       "  <thead>\n",
       "    <tr style=\"text-align: right;\">\n",
       "      <th></th>\n",
       "      <th>word</th>\n",
       "      <th>freq</th>\n",
       "    </tr>\n",
       "  </thead>\n",
       "  <tbody>\n",
       "    <tr>\n",
       "      <th>6496</th>\n",
       "      <td>room</td>\n",
       "      <td>3500</td>\n",
       "    </tr>\n",
       "    <tr>\n",
       "      <th>1535</th>\n",
       "      <td>chicago</td>\n",
       "      <td>1527</td>\n",
       "    </tr>\n",
       "    <tr>\n",
       "      <th>7296</th>\n",
       "      <td>stay</td>\n",
       "      <td>1322</td>\n",
       "    </tr>\n",
       "    <tr>\n",
       "      <th>8597</th>\n",
       "      <td>would</td>\n",
       "      <td>926</td>\n",
       "    </tr>\n",
       "    <tr>\n",
       "      <th>6768</th>\n",
       "      <td>service</td>\n",
       "      <td>869</td>\n",
       "    </tr>\n",
       "    <tr>\n",
       "      <th>3544</th>\n",
       "      <td>great</td>\n",
       "      <td>866</td>\n",
       "    </tr>\n",
       "    <tr>\n",
       "      <th>7253</th>\n",
       "      <td>staff</td>\n",
       "      <td>841</td>\n",
       "    </tr>\n",
       "    <tr>\n",
       "      <th>5146</th>\n",
       "      <td>night</td>\n",
       "      <td>764</td>\n",
       "    </tr>\n",
       "    <tr>\n",
       "      <th>5319</th>\n",
       "      <td>one</td>\n",
       "      <td>735</td>\n",
       "    </tr>\n",
       "    <tr>\n",
       "      <th>7297</th>\n",
       "      <td>stayed</td>\n",
       "      <td>665</td>\n",
       "    </tr>\n",
       "  </tbody>\n",
       "</table>\n",
       "</div>"
      ],
      "text/plain": [
       "         word  freq\n",
       "6496     room  3500\n",
       "1535  chicago  1527\n",
       "7296     stay  1322\n",
       "8597    would   926\n",
       "6768  service   869\n",
       "3544    great   866\n",
       "7253    staff   841\n",
       "5146    night   764\n",
       "5319      one   735\n",
       "7297   stayed   665"
      ]
     },
     "execution_count": 110,
     "metadata": {},
     "output_type": "execute_result"
    }
   ],
   "source": [
    "word_freq.sort_values(by='freq',ascending=False)[:10]"
   ]
  },
  {
   "cell_type": "code",
   "execution_count": 111,
   "id": "fb703bd1",
   "metadata": {},
   "outputs": [],
   "source": [
    "xtrain, xtest, ytrain, ytest = train_test_split \\\n",
    "                (train_bow_neg.toarray(), y,test_size=0.3, \\\n",
    "                random_state=1000)"
   ]
  },
  {
   "cell_type": "code",
   "execution_count": 112,
   "id": "1544d2d7",
   "metadata": {},
   "outputs": [
    {
     "name": "stdout",
     "output_type": "stream",
     "text": [
      "No. of True Cases in training data set for 562\n",
      "No. of True Cases in testing data set for 238\n",
      "Ratio of True Cases in training data set:  0.5\n",
      "Ratio of True Cases in testing data set:  0.5\n"
     ]
    }
   ],
   "source": [
    "print (\"No. of True Cases in training data set for\" , ytrain.sum())\n",
    "print (\"No. of True Cases in testing data set for\",ytest.sum())\n",
    "\n",
    "print (\"Ratio of True Cases in training data set: \" , round(ytrain.sum()/len(ytrain),2))\n",
    "print (\"Ratio of True Cases in testing data set: \", round(ytest.sum()/len(ytest),2))"
   ]
  },
  {
   "cell_type": "code",
   "execution_count": 113,
   "id": "cddda807",
   "metadata": {},
   "outputs": [
    {
     "data": {
      "text/plain": [
       "(1120, 8664)"
      ]
     },
     "execution_count": 113,
     "metadata": {},
     "output_type": "execute_result"
    }
   ],
   "source": [
    "xtrain.shape"
   ]
  },
  {
   "cell_type": "code",
   "execution_count": 114,
   "id": "84bfd1bd",
   "metadata": {},
   "outputs": [
    {
     "data": {
      "text/plain": [
       "<1600x8664 sparse matrix of type '<class 'numpy.int64'>'\n",
       "\twith 100148 stored elements in Compressed Sparse Row format>"
      ]
     },
     "execution_count": 114,
     "metadata": {},
     "output_type": "execute_result"
    }
   ],
   "source": [
    "train_bow_neg"
   ]
  },
  {
   "cell_type": "code",
   "execution_count": 115,
   "id": "4ea9a37c",
   "metadata": {},
   "outputs": [
    {
     "name": "stdout",
     "output_type": "stream",
     "text": [
      "Training the multinomial Naive Bayes Classifier\n"
     ]
    }
   ],
   "source": [
    "print( \"Training the multinomial Naive Bayes Classifier\")\n",
    "\n",
    "# Initialize a Random Forest classifier with 100 trees\n",
    "NB = MultinomialNB() \n",
    "\n",
    "# This may take a few minutes to run\n",
    "NB_clf = NB.fit( xtrain, ytrain )"
   ]
  },
  {
   "cell_type": "code",
   "execution_count": 116,
   "id": "db2962d3",
   "metadata": {},
   "outputs": [],
   "source": [
    "\n",
    "prob_test  = NB.predict_proba(xtest)\n",
    "prob_train = NB.predict_proba(xtrain)\n",
    "\n",
    "#Probability Threshold = 0.5 (default) \n",
    "pred_test  = NB.predict(xtest)\n",
    "pred_train = NB.predict(xtrain)"
   ]
  },
  {
   "cell_type": "code",
   "execution_count": 117,
   "id": "f6190c7a",
   "metadata": {},
   "outputs": [
    {
     "name": "stdout",
     "output_type": "stream",
     "text": [
      "Model ROC-AUC score for training sample: 0.999\n",
      "Model ROC-AUC score for test sample: 0.986\n"
     ]
    }
   ],
   "source": [
    "auc_score = roc_auc_score(ytrain, prob_train[:,1])\n",
    "print (\"Model ROC-AUC score for training sample: %.3f\" \\\n",
    "                                      % auc_score)\n",
    "auc_score = roc_auc_score(ytest, prob_test[:,1])\n",
    "print (\"Model ROC-AUC score for test sample: %.3f\" \\\n",
    "                                      % auc_score)"
   ]
  },
  {
   "cell_type": "code",
   "execution_count": 118,
   "id": "6c1931ea",
   "metadata": {},
   "outputs": [
    {
     "name": "stdout",
     "output_type": "stream",
     "text": [
      "Train Accuracy ::  0.9830357142857142\n",
      "Test Accuracy ::  0.94375\n"
     ]
    }
   ],
   "source": [
    "train_acc = accuracy_score(ytrain, pred_train)\n",
    "test_acc  = accuracy_score(ytest, pred_test)\n",
    "print (\"Train Accuracy :: \", train_acc)\n",
    "print (\"Test Accuracy :: \", test_acc)"
   ]
  },
  {
   "cell_type": "code",
   "execution_count": 119,
   "id": "e2aed6a4",
   "metadata": {},
   "outputs": [
    {
     "name": "stdout",
     "output_type": "stream",
     "text": [
      "\n",
      " Confusion matrix: \n",
      "\n"
     ]
    },
    {
     "data": {
      "image/png": "[encoded data removed]",
      "text/plain": [
       "<Figure size 432x288 with 2 Axes>"
      ]
     },
     "metadata": {
      "needs_background": "light"
     },
     "output_type": "display_data"
    }
   ],
   "source": [
    "print (\"\\n Confusion matrix: \\n\")\n",
    "skplt.metrics.plot_confusion_matrix(ytest, pred_test, title=\"Confusion Matrix\",\n",
    "                text_fontsize='large')\n",
    "plt.show()"
   ]
  },
  {
   "cell_type": "code",
   "execution_count": 120,
   "id": "80399cb6",
   "metadata": {},
   "outputs": [
    {
     "name": "stdout",
     "output_type": "stream",
     "text": [
      "\n",
      " Classification report (weighted average across classes) ::\n",
      "               precision    recall  f1-score   support\n",
      "\n",
      "           0       0.96      0.93      0.94       242\n",
      "           1       0.93      0.96      0.94       238\n",
      "\n",
      "    accuracy                           0.94       480\n",
      "   macro avg       0.94      0.94      0.94       480\n",
      "weighted avg       0.94      0.94      0.94       480\n",
      "\n"
     ]
    }
   ],
   "source": [
    "#Calculate classification model evaluation metrics like precision, recall, f1 score\n",
    "report = classification_report(ytest, pred_test)\n",
    "precision,recall,fscore,support = precision_recall_fscore_support(ytest,pred_test,average='weighted')\n",
    "print(\"\\n Classification report (weighted average across classes) ::\\n\", classification_report(ytest, pred_test))"
   ]
  },
  {
   "cell_type": "code",
   "execution_count": 121,
   "id": "8edc0dfc",
   "metadata": {},
   "outputs": [],
   "source": [
    "\n",
    "bow = CountVectorizer(max_features=25000, lowercase=True,analyzer = \"word\",ngram_range=(1, 2))\n",
    "train_bow_neg = bow.fit_transform(x)"
   ]
  },
  {
   "cell_type": "code",
   "execution_count": 122,
   "id": "d2da6845",
   "metadata": {},
   "outputs": [
    {
     "data": {
      "text/plain": [
       "['00 night',\n",
       " '00 per',\n",
       " '00 pm',\n",
       " '10 00',\n",
       " '10 10',\n",
       " '10 15',\n",
       " '10 30',\n",
       " '10 charge',\n",
       " '10 day',\n",
       " '10 min',\n",
       " '10 minute',\n",
       " '10 pm',\n",
       " '10 year',\n",
       " '100 00',\n",
       " '100 night',\n",
       " '100 per',\n",
       " '100 time',\n",
       " '10th anniversary',\n",
       " '10th floor',\n",
       " '10th wedding',\n",
       " '11 30',\n",
       " '11 pm',\n",
       " '11th floor',\n",
       " '12 hour',\n",
       " '12th floor',\n",
       " '13 per',\n",
       " '13 year',\n",
       " '130 night',\n",
       " '14 dollar',\n",
       " '14th floor',\n",
       " '15 20',\n",
       " '15 am',\n",
       " '15 day',\n",
       " '15 inch',\n",
       " '15 min',\n",
       " '15 minute',\n",
       " '155 michigan',\n",
       " '15th floor',\n",
       " '16th floor',\n",
       " '17 floor',\n",
       " '170 night',\n",
       " '18th floor',\n",
       " '1st time',\n",
       " '20 dollar',\n",
       " '20 foot',\n",
       " '20 minute',\n",
       " '20 room',\n",
       " '200 night',\n",
       " '200 per',\n",
       " '200 room',\n",
       " '20th anniversary',\n",
       " '20th floor',\n",
       " '21st birthday',\n",
       " '21st century',\n",
       " '22nd floor',\n",
       " '23rd floor',\n",
       " '24 hour',\n",
       " '249 night',\n",
       " '24th floor',\n",
       " '25 00',\n",
       " '25 min',\n",
       " '250 dollar',\n",
       " '250 night',\n",
       " '250 per',\n",
       " '25th floor',\n",
       " '27 inch',\n",
       " '29th floor',\n",
       " '2nd floor',\n",
       " '2nd room',\n",
       " '2nd time',\n",
       " '2nd wedding',\n",
       " '30 40',\n",
       " '30 breakfast',\n",
       " '30 min',\n",
       " '30 minute',\n",
       " '30 night',\n",
       " '30 pm',\n",
       " '30 second',\n",
       " '300 night',\n",
       " '30am go',\n",
       " '30pm still',\n",
       " '30pm told',\n",
       " '312 restaurant',\n",
       " '32 inch',\n",
       " '32nd floor',\n",
       " '33rd floor',\n",
       " '35 minute',\n",
       " '35 night',\n",
       " '350 night',\n",
       " '37 inch',\n",
       " '38 day',\n",
       " '3pm check',\n",
       " '3rd coast',\n",
       " '3rd room',\n",
       " '40 minute',\n",
       " '40 taxi',\n",
       " '400 night',\n",
       " '40th birthday',\n",
       " '42 inch',\n",
       " '42nd floor',\n",
       " '45 min',\n",
       " '45 minute',\n",
       " '45 valet',\n",
       " '48 hour',\n",
       " '49 night',\n",
       " '4th floor',\n",
       " '4th july',\n",
       " '4th weekend',\n",
       " '50 00',\n",
       " '50 per',\n",
       " '50 valet',\n",
       " '51 night',\n",
       " '53 00',\n",
       " '54 year',\n",
       " '58 night',\n",
       " '5th floor',\n",
       " '676 restaurant',\n",
       " '6th floor',\n",
       " '72 hour',\n",
       " '75 night',\n",
       " '75 per',\n",
       " '78 degree',\n",
       " '7th floor',\n",
       " '80 per',\n",
       " '800 number',\n",
       " '85 degree',\n",
       " '89 night',\n",
       " '8th floor',\n",
       " '90 minute',\n",
       " '95 24',\n",
       " '99 night',\n",
       " '99 per',\n",
       " '9th floor',\n",
       " 'aaa member',\n",
       " 'able bring',\n",
       " 'able check',\n",
       " 'able enjoy',\n",
       " 'able find',\n",
       " 'able fix',\n",
       " 'able get',\n",
       " 'able give',\n",
       " 'able go',\n",
       " 'able provide',\n",
       " 'able relax',\n",
       " 'able secure',\n",
       " 'able see',\n",
       " 'able stay',\n",
       " 'able take',\n",
       " 'able use',\n",
       " 'able walk',\n",
       " 'able watch',\n",
       " 'able work',\n",
       " 'absolute favorite',\n",
       " 'absolutely amazing',\n",
       " 'absolutely beautiful',\n",
       " 'absolutely exquisite',\n",
       " 'absolutely fantastic',\n",
       " 'absolutely gorgeous',\n",
       " 'absolutely horrible',\n",
       " 'absolutely incredible',\n",
       " 'absolutely loved',\n",
       " 'absolutely nothing',\n",
       " 'absolutely nowhere',\n",
       " 'absolutely ridiculous',\n",
       " 'absolutely stay',\n",
       " 'absolutely stunning',\n",
       " 'access also',\n",
       " 'access chicago',\n",
       " 'access everything',\n",
       " 'access fee',\n",
       " 'access free',\n",
       " 'access internet',\n",
       " 'access michigan',\n",
       " 'access nice',\n",
       " 'access personal',\n",
       " 'access room',\n",
       " 'access wifi',\n",
       " 'access worked',\n",
       " 'accessible room',\n",
       " 'accommodate me',\n",
       " 'accommodate night',\n",
       " 'accommodating room',\n",
       " 'accommodation even',\n",
       " 'accommodation next',\n",
       " 'accommodation room',\n",
       " 'accommodation service',\n",
       " 'accomodate need',\n",
       " 'according website',\n",
       " 'accustomed great',\n",
       " 'acknowledged me',\n",
       " 'across elevator',\n",
       " 'across hall',\n",
       " 'across road',\n",
       " 'across street',\n",
       " 'across town',\n",
       " 'act together',\n",
       " 'acted like',\n",
       " 'action chicago',\n",
       " 'activate card',\n",
       " 'actual room',\n",
       " 'actually asked',\n",
       " 'actually booked',\n",
       " 'actually get',\n",
       " 'actually got',\n",
       " 'actually open',\n",
       " 'actually room',\n",
       " 'actually treat',\n",
       " 'actually went',\n",
       " 'add insult',\n",
       " 'add room',\n",
       " 'added bonus',\n",
       " 'added name',\n",
       " 'added plus',\n",
       " 'additional charge',\n",
       " 'additional cost',\n",
       " 'additional dollar',\n",
       " 'additional expense',\n",
       " 'additional fee',\n",
       " 'address chicago',\n",
       " 'adjacent building',\n",
       " 'adjacent room',\n",
       " 'adjoining room',\n",
       " 'adult arrived',\n",
       " 'advance one',\n",
       " 'advantage free',\n",
       " 'advertised check',\n",
       " 'advertises luxury',\n",
       " 'advice restaurant',\n",
       " 'advisor review',\n",
       " 'affina chicago',\n",
       " 'affinia chain',\n",
       " 'affinia chicago',\n",
       " 'affinia even',\n",
       " 'affinia one',\n",
       " 'affinia soo',\n",
       " 'after two',\n",
       " 'afternoon went',\n",
       " 'again apology',\n",
       " 'again avoid',\n",
       " 'again called',\n",
       " 'again definitely',\n",
       " 'again especially',\n",
       " 'again even',\n",
       " 'again first',\n",
       " 'again going',\n",
       " 'again great',\n",
       " 'again location',\n",
       " 'again make',\n",
       " 'again maybe',\n",
       " 'again never',\n",
       " 'again oh',\n",
       " 'again problem',\n",
       " 'again room',\n",
       " 'again sent',\n",
       " 'again staff',\n",
       " 'again think',\n",
       " 'again waited',\n",
       " 'again worth',\n",
       " 'again would',\n",
       " 'age show',\n",
       " 'ago stayed',\n",
       " 'agreed switch',\n",
       " 'agreed take',\n",
       " 'ahead time',\n",
       " 'air condition',\n",
       " 'air conditioner',\n",
       " 'air conditioning',\n",
       " 'air freshener',\n",
       " 'air purification',\n",
       " 'air room',\n",
       " 'air water',\n",
       " 'airport shuttle',\n",
       " 'airport traffic',\n",
       " 'alarm clock',\n",
       " 'all day',\n",
       " 'all disappointing',\n",
       " 'all even',\n",
       " 'all experience',\n",
       " 'all felt',\n",
       " 'all got',\n",
       " 'all great',\n",
       " 'all overall',\n",
       " 'all price',\n",
       " 'all room',\n",
       " 'all stay',\n",
       " 'all thought',\n",
       " 'all would',\n",
       " 'allegro again',\n",
       " 'allegro chicago',\n",
       " 'allegro room',\n",
       " 'allegro seemed',\n",
       " 'allergenic room',\n",
       " 'allergic smoke',\n",
       " 'allergy attack',\n",
       " 'allergy friendly',\n",
       " 'allow pet',\n",
       " 'allowed go',\n",
       " 'allows pet',\n",
       " 'almost 20',\n",
       " 'almost 400',\n",
       " 'almost 500',\n",
       " 'almost asked',\n",
       " 'almost every',\n",
       " 'almost everything',\n",
       " 'almost half',\n",
       " 'almost hour',\n",
       " 'almost impossible',\n",
       " 'almost like',\n",
       " 'almost made',\n",
       " 'almost want',\n",
       " 'almost whole',\n",
       " 'alone weekend',\n",
       " 'along chicago',\n",
       " 'along dog',\n",
       " 'along excellent',\n",
       " 'along michigan',\n",
       " 'along shopping',\n",
       " 'along way',\n",
       " 'aloof front',\n",
       " 'already bad',\n",
       " 'already booked',\n",
       " 'already credited',\n",
       " 'already it',\n",
       " 'already paying',\n",
       " 'already planning',\n",
       " 'already sent',\n",
       " 'already upset',\n",
       " 'alright nothing',\n",
       " 'also add',\n",
       " 'also allowed',\n",
       " 'also appreciated',\n",
       " 'also asked',\n",
       " 'also bathroom',\n",
       " 'also beautiful',\n",
       " 'also bed',\n",
       " 'also carpet',\n",
       " 'also charge',\n",
       " 'also clean',\n",
       " 'also close',\n",
       " 'also coffee',\n",
       " 'also cold',\n",
       " 'also come',\n",
       " 'also couple',\n",
       " 'also dirty',\n",
       " 'also dog',\n",
       " 'also enjoyed',\n",
       " 'also even',\n",
       " 'also extremely',\n",
       " 'also flat',\n",
       " 'also free',\n",
       " 'also gave',\n",
       " 'also get',\n",
       " 'also good',\n",
       " 'also got',\n",
       " 'also great',\n",
       " 'also highly',\n",
       " 'also hot',\n",
       " 'also included',\n",
       " 'also internet',\n",
       " 'also layout',\n",
       " 'also left',\n",
       " 'also looked',\n",
       " 'also lot',\n",
       " 'also love',\n",
       " 'also loved',\n",
       " 'also made',\n",
       " 'also make',\n",
       " 'also never',\n",
       " 'also nice',\n",
       " 'also note',\n",
       " 'also offer',\n",
       " 'also ordered',\n",
       " 'also pay',\n",
       " 'also pet',\n",
       " 'also quiet',\n",
       " 'also quite',\n",
       " 'also really',\n",
       " 'also room',\n",
       " 'also seem',\n",
       " 'also seems',\n",
       " 'also size',\n",
       " 'also smaller',\n",
       " 'also stay',\n",
       " 'also surprised',\n",
       " 'also thought',\n",
       " 'also told',\n",
       " 'also took',\n",
       " 'also tried',\n",
       " 'also used',\n",
       " 'also wanted',\n",
       " 'also well',\n",
       " 'also within',\n",
       " 'also work',\n",
       " 'although bed',\n",
       " 'although could',\n",
       " 'although free',\n",
       " 'although know',\n",
       " 'although little',\n",
       " 'although lobby',\n",
       " 'although located',\n",
       " 'although look',\n",
       " 'although much',\n",
       " 'although nice',\n",
       " 'although one',\n",
       " 'although pricey',\n",
       " 'although room',\n",
       " 'although service',\n",
       " 'always attentive',\n",
       " 'always available',\n",
       " 'always check',\n",
       " 'always clean',\n",
       " 'always come',\n",
       " 'always friendly',\n",
       " 'always get',\n",
       " 'always greeted',\n",
       " 'always helpful',\n",
       " 'always hot',\n",
       " 'always nice',\n",
       " 'always room',\n",
       " 'always said',\n",
       " 'always seems',\n",
       " 'always smiling',\n",
       " 'always stay',\n",
       " 'always stayed',\n",
       " 'always tend',\n",
       " 'always wanted',\n",
       " 'always willing',\n",
       " 'amalfi again',\n",
       " 'amalfi anyone',\n",
       " 'amalfi chicago',\n",
       " 'amalfi last',\n",
       " 'amalfi located',\n",
       " 'amalfi look',\n",
       " 'amalfi looking',\n",
       " 'amalfi made',\n",
       " 'amalfi may',\n",
       " 'amalfi me',\n",
       " 'amalfi modification',\n",
       " 'amalfi night',\n",
       " 'amalfi number',\n",
       " 'amalfi offer',\n",
       " 'amalfi one',\n",
       " 'amalfi place',\n",
       " 'amalfi plain',\n",
       " 'amalfi queen',\n",
       " 'amalfi reading',\n",
       " 'amalfi really',\n",
       " 'amalfi room',\n",
       " 'amalfi superb',\n",
       " 'amalfi ta',\n",
       " 'amalfi take',\n",
       " 'amalfi trip',\n",
       " 'amalfi visited',\n",
       " 'amalfitini cocktail',\n",
       " 'amalfitinis nice',\n",
       " 'amalifa chicago',\n",
       " 'amateur know',\n",
       " 'amateur personal',\n",
       " 'amazed always',\n",
       " 'amazed architecture',\n",
       " 'amazed breathtaking',\n",
       " 'amazed even',\n",
       " 'amazed first',\n",
       " 'amazed got',\n",
       " 'amazed knickerbocker',\n",
       " 'amazed location',\n",
       " 'amazed much',\n",
       " 'amazed size',\n",
       " 'amazed well',\n",
       " 'amazement appeared',\n",
       " 'amazing accommodation',\n",
       " 'amazing also',\n",
       " 'amazing always',\n",
       " 'amazing and',\n",
       " 'amazing architecture',\n",
       " 'amazing array',\n",
       " 'amazing bar',\n",
       " 'amazing bathroom',\n",
       " 'amazing beautiful',\n",
       " 'amazing bed',\n",
       " 'amazing berghoff',\n",
       " 'amazing beutiful',\n",
       " 'amazing blackout',\n",
       " 'amazing booked',\n",
       " 'amazing chic',\n",
       " 'amazing chicago',\n",
       " 'amazing choice',\n",
       " 'amazing city',\n",
       " 'amazing close',\n",
       " 'amazing complimentary',\n",
       " 'amazing coplaint',\n",
       " 'amazing could',\n",
       " 'amazing customer',\n",
       " 'amazing customization',\n",
       " 'amazing deal',\n",
       " 'amazing decoration',\n",
       " 'amazing defiantly',\n",
       " 'amazing elevator',\n",
       " 'amazing even',\n",
       " 'amazing everybody',\n",
       " 'amazing everyone',\n",
       " 'amazing experience',\n",
       " 'amazing food',\n",
       " 'amazing found',\n",
       " 'amazing french',\n",
       " 'amazing fully',\n",
       " 'amazing gotten',\n",
       " 'amazing great',\n",
       " 'amazing helpful',\n",
       " 'amazing italian',\n",
       " 'amazing knew',\n",
       " 'amazing little',\n",
       " 'amazing ll',\n",
       " 'amazing location',\n",
       " 'amazing looking',\n",
       " 'amazing meal',\n",
       " 'amazing moment',\n",
       " 'amazing need',\n",
       " 'amazing never',\n",
       " 'amazing offer',\n",
       " 'amazing one',\n",
       " 'amazing paid',\n",
       " 'amazing part',\n",
       " 'amazing people',\n",
       " 'amazing place',\n",
       " 'amazing price',\n",
       " 'amazing problem',\n",
       " 'amazing rate',\n",
       " 'amazing recommend',\n",
       " 'amazing renovation',\n",
       " 'amazing right',\n",
       " 'amazing room',\n",
       " 'amazing seriously',\n",
       " 'amazing shop',\n",
       " 'amazing sound',\n",
       " 'amazing staff',\n",
       " 'amazing stay',\n",
       " 'amazing staying',\n",
       " 'amazing sunday',\n",
       " 'amazing swept',\n",
       " 'amazing that',\n",
       " 'amazing thing',\n",
       " 'amazing thoroughly',\n",
       " 'amazing time',\n",
       " 'amazing took',\n",
       " 'amazing travel',\n",
       " 'amazing truly',\n",
       " 'amazing two',\n",
       " 'amazing view',\n",
       " 'amazing vista',\n",
       " 'amazing waking',\n",
       " 'amazing walking',\n",
       " 'amazing well',\n",
       " 'amazing went',\n",
       " 'amazing wine',\n",
       " 'amazing wonderful',\n",
       " 'amazing worth',\n",
       " 'amazing would',\n",
       " 'amazingly aloof',\n",
       " 'amazingly clean',\n",
       " 'amazingly competent',\n",
       " 'amazingly designed',\n",
       " 'amazingly friendly',\n",
       " 'amazingly helpful',\n",
       " 'amazingly lavish',\n",
       " 'amazingly low',\n",
       " 'amazingly pet',\n",
       " 'ambassador club',\n",
       " 'ambassador east',\n",
       " 'ambassador great',\n",
       " 'ambassador located',\n",
       " 'ambassador member',\n",
       " 'ambassador membership',\n",
       " 'ambassador met',\n",
       " 'ambassador next',\n",
       " 'ambassador really',\n",
       " 'ambassador room',\n",
       " 'ambassador say',\n",
       " 'ambassador seem',\n",
       " 'ambassador suite',\n",
       " 'ambassador the',\n",
       " 'ambassador two',\n",
       " 'ambassador would',\n",
       " 'ambiance asked',\n",
       " 'ambiance could',\n",
       " 'ambiance ever',\n",
       " 'ambiance exactly',\n",
       " 'ambiance good',\n",
       " 'ambiance grand',\n",
       " 'ambiance impressive',\n",
       " 'ambiance it',\n",
       " 'ambiance made',\n",
       " 'ambiance mean',\n",
       " 'ambiance overlook',\n",
       " 'ambiance staff',\n",
       " 'ambiance thanks',\n",
       " 'ambiance way',\n",
       " 'ambien go',\n",
       " 'ambience charm',\n",
       " 'ambience look',\n",
       " 'ambience place',\n",
       " 'ambience there',\n",
       " 'ambience upstairs',\n",
       " 'ambulance come',\n",
       " 'ambulance siren',\n",
       " 'ambulance street',\n",
       " 'amd arrived',\n",
       " 'ameliorate situation',\n",
       " 'amenity air',\n",
       " 'amenity all',\n",
       " 'amenity also',\n",
       " 'amenity and',\n",
       " 'amenity appeared',\n",
       " 'amenity appreciated',\n",
       " 'amenity attention',\n",
       " 'amenity available',\n",
       " 'amenity bathroom',\n",
       " 'amenity bed',\n",
       " 'amenity built',\n",
       " 'amenity caring',\n",
       " 'amenity cheaper',\n",
       " 'amenity cleanliness',\n",
       " 'amenity combined',\n",
       " 'amenity comfort',\n",
       " 'amenity conduct',\n",
       " 'amenity consistent',\n",
       " 'amenity continental',\n",
       " 'amenity convenient',\n",
       " 'amenity cost',\n",
       " 'amenity could',\n",
       " 'amenity currently',\n",
       " 'amenity deep',\n",
       " 'amenity downtown',\n",
       " 'amenity enjoy',\n",
       " 'amenity etc',\n",
       " 'amenity everyone',\n",
       " 'amenity everything',\n",
       " 'amenity excellent',\n",
       " 'amenity experience',\n",
       " 'amenity far',\n",
       " 'amenity fitness',\n",
       " 'amenity fixture',\n",
       " 'amenity found',\n",
       " 'amenity free',\n",
       " 'amenity get',\n",
       " 'amenity good',\n",
       " 'amenity great',\n",
       " 'amenity holiday',\n",
       " 'amenity homey',\n",
       " 'amenity huge',\n",
       " 'amenity imaginable',\n",
       " 'amenity including',\n",
       " 'amenity indoor',\n",
       " 'amenity inside',\n",
       " 'amenity internet',\n",
       " 'amenity like',\n",
       " 'amenity likely',\n",
       " 'amenity looking',\n",
       " 'amenity make',\n",
       " 'amenity match',\n",
       " 'amenity mistakenly',\n",
       " 'amenity modern',\n",
       " 'amenity needed',\n",
       " 'amenity offered',\n",
       " 'amenity offeredd',\n",
       " 'amenity omni',\n",
       " 'amenity one',\n",
       " 'amenity open',\n",
       " 'amenity paying',\n",
       " 'amenity personal',\n",
       " 'amenity plan',\n",
       " 'amenity pleasant',\n",
       " 'amenity plush',\n",
       " 'amenity pool',\n",
       " 'amenity premium',\n",
       " 'amenity price',\n",
       " 'amenity recieve',\n",
       " 'amenity recommend',\n",
       " 'amenity room',\n",
       " 'amenity satisfactory',\n",
       " 'amenity service',\n",
       " 'amenity severely',\n",
       " 'amenity slipping',\n",
       " 'amenity smoke',\n",
       " 'amenity sony',\n",
       " 'amenity sought',\n",
       " 'amenity speak',\n",
       " 'amenity stay',\n",
       " 'amenity suite',\n",
       " 'amenity superior',\n",
       " 'amenity swimming',\n",
       " 'amenity talbott',\n",
       " 'amenity totally',\n",
       " 'amenity training',\n",
       " 'amenity turned',\n",
       " 'amenity unbelieveable',\n",
       " 'amenity unfortunately',\n",
       " 'amenity unfriendly',\n",
       " 'amenity unmatched',\n",
       " 'amenity usually',\n",
       " 'amenity without',\n",
       " 'amenity wonderful',\n",
       " 'amenity would',\n",
       " 'amenity you',\n",
       " 'amenties traveler',\n",
       " 'amentites ready',\n",
       " 'america chicago',\n",
       " 'america europe',\n",
       " 'america staff',\n",
       " 'america waste',\n",
       " 'american cheese',\n",
       " 'american cuisine',\n",
       " 'american dish',\n",
       " 'american doll',\n",
       " 'american express',\n",
       " 'american fare',\n",
       " 'american girl',\n",
       " 'american medium',\n",
       " 'american slim',\n",
       " 'american style',\n",
       " 'amex starwood',\n",
       " 'amiable attentive',\n",
       " 'amidst managed',\n",
       " 'ammenities beautiful',\n",
       " 'ammenities far',\n",
       " 'ammenities good',\n",
       " 'ammenities within',\n",
       " 'ammenity would',\n",
       " 'among 40',\n",
       " 'among best',\n",
       " 'among classiest',\n",
       " 'among comfortable',\n",
       " 'among major',\n",
       " 'among perk',\n",
       " 'among poorly',\n",
       " 'among spent',\n",
       " 'amongst skyscraper',\n",
       " 'amongst standard',\n",
       " 'amount bed',\n",
       " 'amount charged',\n",
       " 'amount cleaning',\n",
       " 'amount excuse',\n",
       " 'amount finally',\n",
       " 'amount gear',\n",
       " 'amount james',\n",
       " 'amount luxury',\n",
       " 'amount marijuana',\n",
       " 'amount money',\n",
       " 'amount noise',\n",
       " 'amount omni',\n",
       " 'amount one',\n",
       " 'amount paid',\n",
       " 'amount people',\n",
       " 'amount point',\n",
       " 'amount receive',\n",
       " 'amount still',\n",
       " 'amount time',\n",
       " 'amount well',\n",
       " 'ample bathroom',\n",
       " 'ample clean',\n",
       " 'ample closet',\n",
       " 'ample comfortable',\n",
       " 'ample parking',\n",
       " 'ample room',\n",
       " 'amusement park',\n",
       " 'amy los',\n",
       " 'an absolute',\n",
       " 'an easy',\n",
       " 'an essential',\n",
       " 'an incredible',\n",
       " 'anaerobic workout',\n",
       " 'analyst event',\n",
       " 'ancient tempermental',\n",
       " 'and 107',\n",
       " 'and able',\n",
       " 'and absolutely',\n",
       " 'and according',\n",
       " 'and affordable',\n",
       " 'and and',\n",
       " 'and appears',\n",
       " 'and approx',\n",
       " 'and awaken',\n",
       " 'and bathroom',\n",
       " 'and bell',\n",
       " 'and bummed',\n",
       " 'and charge',\n",
       " 'and charging',\n",
       " 'and choice',\n",
       " 'and close',\n",
       " 'and complimentary',\n",
       " 'and confirmed',\n",
       " 'and course',\n",
       " 'and dimed',\n",
       " 'and dirty',\n",
       " 'and drink',\n",
       " 'and enjoyed',\n",
       " 'and even',\n",
       " 'and experience',\n",
       " 'and family',\n",
       " 'and felt',\n",
       " 'and fine',\n",
       " 'and food',\n",
       " 'and frankly',\n",
       " 'and front',\n",
       " 'and gift',\n",
       " 'and guess',\n",
       " 'and hard',\n",
       " 'and highly',\n",
       " 'and housekeeping',\n",
       " 'and instead',\n",
       " 'and kid',\n",
       " 'and le',\n",
       " 'and like',\n",
       " 'and linnens',\n",
       " 'and loved',\n",
       " 'and mine',\n",
       " 'and more',\n",
       " 'and mp3',\n",
       " 'and near',\n",
       " 'and nice',\n",
       " 'and nothing',\n",
       " 'and one',\n",
       " 'and or',\n",
       " 'and picky',\n",
       " 'and possibly',\n",
       " 'and quick',\n",
       " 'and return',\n",
       " 'and room',\n",
       " 'and said',\n",
       " 'and seemed',\n",
       " 'and something',\n",
       " 'and sorry',\n",
       " 'and steer',\n",
       " 'and still',\n",
       " 'and sure',\n",
       " 'and thing',\n",
       " 'and took',\n",
       " 'and treated',\n",
       " 'and used',\n",
       " 'and valet',\n",
       " 'and way',\n",
       " 'and well',\n",
       " 'and went',\n",
       " 'and wow',\n",
       " 'andi also',\n",
       " 'andrew excellent',\n",
       " 'andrew gulli',\n",
       " 'android tablet',\n",
       " 'ands many',\n",
       " 'ands see',\n",
       " 'angel concert',\n",
       " 'angel king',\n",
       " 'angelas california',\n",
       " 'angeles decided',\n",
       " 'angie front',\n",
       " 'angie suggested',\n",
       " 'angle the',\n",
       " 'angonizingly slow',\n",
       " 'angrily stormed',\n",
       " 'angrily would',\n",
       " 'angry could',\n",
       " 'angry maid',\n",
       " 'angry point',\n",
       " 'angry went',\n",
       " 'animal barked',\n",
       " 'animal friendly',\n",
       " 'animal gift',\n",
       " 'animal or',\n",
       " 'animal print',\n",
       " 'animal treated',\n",
       " 'ankle several',\n",
       " 'anne never',\n",
       " 'annexed party',\n",
       " 'anniversary always',\n",
       " 'anniversary ambiance',\n",
       " 'anniversary asked',\n",
       " 'anniversary automatically',\n",
       " 'anniversary beautiful',\n",
       " 'anniversary booked',\n",
       " 'anniversary cake',\n",
       " 'anniversary came',\n",
       " 'anniversary chicago',\n",
       " 'anniversary conrad',\n",
       " 'anniversary could',\n",
       " 'anniversary decided',\n",
       " 'anniversary desk',\n",
       " 'anniversary dinner',\n",
       " 'anniversary dream',\n",
       " 'anniversary ever',\n",
       " 'anniversary gave',\n",
       " 'anniversary gone',\n",
       " 'anniversary got',\n",
       " 'anniversary great',\n",
       " 'anniversary heart',\n",
       " 'anniversary internet',\n",
       " 'anniversary knickerbocker',\n",
       " 'anniversary looking',\n",
       " 'anniversary love',\n",
       " 'anniversary past',\n",
       " 'anniversary place',\n",
       " 'anniversary pleasant',\n",
       " 'anniversary pleasantly',\n",
       " 'anniversary second',\n",
       " 'anniversary shedd',\n",
       " 'anniversary stay',\n",
       " 'anniversary stayed',\n",
       " 'anniversary stumbled',\n",
       " 'anniversary thought',\n",
       " 'anniversary told',\n",
       " 'anniversary trip',\n",
       " 'anniversary tripped',\n",
       " 'anniversary unfortunately',\n",
       " 'anniversary wanted',\n",
       " 'anniversary weekend',\n",
       " 'anniversary went',\n",
       " 'anniversary wonderful',\n",
       " 'anniversary written',\n",
       " 'anniversary year',\n",
       " 'announced holding',\n",
       " 'announcer meeting',\n",
       " 'annoyance lighted',\n",
       " 'annoyance loud',\n",
       " 'annoyance night',\n",
       " 'annoyed answer',\n",
       " 'annoyed bad',\n",
       " 'annoyed complained',\n",
       " 'annoyed every',\n",
       " 'annoyed made',\n",
       " 'annoyed many',\n",
       " 'annoyed mostly',\n",
       " 'annoyed muttered',\n",
       " 'annoyed need',\n",
       " 'annoyed nobody',\n",
       " 'annoyed noise',\n",
       " 'annoyed now',\n",
       " 'annoyed request',\n",
       " 'annoyed son',\n",
       " 'annoyed stare',\n",
       " 'annoyed wanted',\n",
       " 'annoying addition',\n",
       " 'annoying aggravating',\n",
       " 'annoying also',\n",
       " 'annoying aspect',\n",
       " 'annoying bar',\n",
       " 'annoying decor',\n",
       " 'annoying face',\n",
       " 'annoying fitness',\n",
       " 'annoying going',\n",
       " 'annoying king',\n",
       " 'annoying least',\n",
       " 'annoying managed',\n",
       " 'annoying receptionist',\n",
       " 'annoying reserve',\n",
       " 'annoying staff',\n",
       " 'annoying switch',\n",
       " 'annoying that',\n",
       " 'annoying think',\n",
       " 'annoying two',\n",
       " 'annoying wifi',\n",
       " 'annoying worst',\n",
       " 'annoyingly slow',\n",
       " 'annual air',\n",
       " 'annual anniversary',\n",
       " 'anonymous experience',\n",
       " 'another 10',\n",
       " 'another 15',\n",
       " 'another 20',\n",
       " 'another 30',\n",
       " 'another 80',\n",
       " 'another absolutely',\n",
       " 'another actually',\n",
       " 'another amalfi',\n",
       " 'another annoyance',\n",
       " 'another appreciated',\n",
       " 'another area',\n",
       " 'another bath',\n",
       " 'another bathroom',\n",
       " 'another better',\n",
       " 'another bigger',\n",
       " 'another blanket',\n",
       " 'another block',\n",
       " 'another building',\n",
       " 'another call',\n",
       " 'another could',\n",
       " 'another couple',\n",
       " 'another day',\n",
       " 'another dollar',\n",
       " 'another downtown',\n",
       " 'another employee',\n",
       " 'another failed',\n",
       " 'another feature',\n",
       " 'another first',\n",
       " 'another fitfull',\n",
       " 'another flat',\n",
       " 'another floor',\n",
       " 'another fork',\n",
       " 'another gang',\n",
       " 'another great',\n",
       " 'another guest',\n",
       " 'another half',\n",
       " ...]"
      ]
     },
     "execution_count": 122,
     "metadata": {},
     "output_type": "execute_result"
    }
   ],
   "source": [
    "[x for x in bow.get_feature_names() if len(x.split())>1]"
   ]
  },
  {
   "cell_type": "code",
   "execution_count": 123,
   "id": "f32ad308",
   "metadata": {},
   "outputs": [
    {
     "data": {
      "text/plain": [
       "0    recent week stay affinia definitely say coming...\n",
       "1    although much overpriced opinion spotless staf...\n",
       "2    affinia chicago superb room service exemplary ...\n",
       "3    fantastic stayed way chicago towards arizona c...\n",
       "4    affinia chicago wonderful place stay husband s...\n",
       "Name: review_lemmatized_train, dtype: object"
      ]
     },
     "execution_count": 123,
     "metadata": {},
     "output_type": "execute_result"
    }
   ],
   "source": [
    "x.head()"
   ]
  },
  {
   "cell_type": "code",
   "execution_count": 124,
   "id": "d4a0f4fd",
   "metadata": {},
   "outputs": [],
   "source": [
    "tf = TfidfVectorizer(smooth_idf=False, sublinear_tf=False, norm=None, analyzer='word')\n",
    "txt_fitted = tf.fit(x)\n",
    "txt_transformed = txt_fitted.transform(x)"
   ]
  },
  {
   "cell_type": "code",
   "execution_count": 125,
   "id": "3a3128e5",
   "metadata": {},
   "outputs": [
    {
     "data": {
      "text/plain": [
       "(1600, 8664)"
      ]
     },
     "execution_count": 125,
     "metadata": {},
     "output_type": "execute_result"
    }
   ],
   "source": [
    "txt_transformed.shape"
   ]
  },
  {
   "cell_type": "code",
   "execution_count": 126,
   "id": "d5688b96",
   "metadata": {},
   "outputs": [
    {
     "data": {
      "text/plain": [
       "array([[0.        , 0.        , 0.        , ..., 0.        , 0.        ,\n",
       "        0.        ],\n",
       "       [0.        , 6.99146455, 0.        , ..., 0.        , 0.        ,\n",
       "        0.        ],\n",
       "       [0.        , 0.        , 0.        , ..., 0.        , 0.        ,\n",
       "        0.        ],\n",
       "       [0.        , 0.        , 0.        , ..., 0.        , 0.        ,\n",
       "        0.        ]])"
      ]
     },
     "execution_count": 126,
     "metadata": {},
     "output_type": "execute_result"
    }
   ],
   "source": [
    "txt_transformed.toarray()[1:5]"
   ]
  },
  {
   "cell_type": "code",
   "execution_count": 127,
   "id": "ddd2677b",
   "metadata": {},
   "outputs": [
    {
     "name": "stdout",
     "output_type": "stream",
     "text": [
      "Features with lowest idf:\n",
      "['room' 'chicago' 'stay' 'staff' 'would' 'service' 'stayed' 'great'\n",
      " 'night' 'one']\n",
      "\n",
      "Features with highest idf:\n",
      "['porter' 'porthole' 'eeewwhh' 'portioned' 'portrait' 'edit' 'edible'\n",
      " 'posh' 'positioning' 'kicked']\n"
     ]
    }
   ],
   "source": [
    "# get feature names\n",
    "feature_names = np.array(tf.get_feature_names())\n",
    "sorted_by_idf = np.argsort(tf.idf_)\n",
    "print(\"Features with lowest idf:\\n{}\".format(\n",
    "       feature_names[sorted_by_idf[:10]]))\n",
    "print(\"\\nFeatures with highest idf:\\n{}\".format(\n",
    "       feature_names[sorted_by_idf[-10:]]))"
   ]
  },
  {
   "cell_type": "code",
   "execution_count": 128,
   "id": "f61b5fa3",
   "metadata": {},
   "outputs": [],
   "source": [
    "xtrain, xtest, ytrain, ytest = train_test_split \\\n",
    "                (txt_transformed.toarray(), y,test_size=0.3, \\\n",
    "                random_state=1000)"
   ]
  },
  {
   "cell_type": "code",
   "execution_count": 129,
   "id": "2f39e542",
   "metadata": {},
   "outputs": [
    {
     "name": "stdout",
     "output_type": "stream",
     "text": [
      "No. of True Cases in training data set for 562\n",
      "No. of True Cases in testing data set for 238\n",
      "Ratio of True Cases in training data set:  0.5\n",
      "Ratio of True Cases in testing data set:  0.5\n"
     ]
    }
   ],
   "source": [
    "\n",
    "print (\"No. of True Cases in training data set for\" , ytrain.sum())\n",
    "print (\"No. of True Cases in testing data set for\",ytest.sum())\n",
    "\n",
    "print (\"Ratio of True Cases in training data set: \" , round(ytrain.sum()/len(ytrain),2))\n",
    "print (\"Ratio of True Cases in testing data set: \", round(ytest.sum()/len(ytest),2))"
   ]
  },
  {
   "cell_type": "code",
   "execution_count": 130,
   "id": "a4b074a6",
   "metadata": {},
   "outputs": [
    {
     "name": "stdout",
     "output_type": "stream",
     "text": [
      "Training the random forest...\n"
     ]
    },
    {
     "name": "stderr",
     "output_type": "stream",
     "text": [
      "[Parallel(n_jobs=1)]: Using backend SequentialBackend with 1 concurrent workers.\n",
      "[Parallel(n_jobs=1)]: Done 1000 out of 1000 | elapsed:   18.6s finished\n"
     ]
    }
   ],
   "source": [
    "print( \"Training the random forest...\")\n",
    "from sklearn.ensemble import RandomForestClassifier\n",
    "\n",
    "# Initialize a Random Forest classifier\n",
    "forest = RandomForestClassifier(n_estimators = 1000,verbose=True) \n",
    "\n",
    "# Fit the forest to the training set\n",
    "forest = forest.fit( xtrain, ytrain )"
   ]
  },
  {
   "cell_type": "code",
   "execution_count": 131,
   "id": "571c4a5a",
   "metadata": {},
   "outputs": [
    {
     "name": "stderr",
     "output_type": "stream",
     "text": [
      "[Parallel(n_jobs=1)]: Using backend SequentialBackend with 1 concurrent workers.\n",
      "[Parallel(n_jobs=1)]: Done 1000 out of 1000 | elapsed:    0.2s finished\n",
      "[Parallel(n_jobs=1)]: Using backend SequentialBackend with 1 concurrent workers.\n",
      "[Parallel(n_jobs=1)]: Done 1000 out of 1000 | elapsed:    0.5s finished\n",
      "[Parallel(n_jobs=1)]: Using backend SequentialBackend with 1 concurrent workers.\n",
      "[Parallel(n_jobs=1)]: Done 1000 out of 1000 | elapsed:    0.2s finished\n",
      "[Parallel(n_jobs=1)]: Using backend SequentialBackend with 1 concurrent workers.\n",
      "[Parallel(n_jobs=1)]: Done 1000 out of 1000 | elapsed:    0.5s finished\n"
     ]
    }
   ],
   "source": [
    "prob_test  = forest.predict_proba(xtest)\n",
    "prob_train = forest.predict_proba(xtrain)\n",
    "\n",
    "#Probability Threshold = 0.5 (default) \n",
    "pred_test  = forest.predict(xtest)\n",
    "pred_train = forest.predict(xtrain)"
   ]
  },
  {
   "cell_type": "code",
   "execution_count": 132,
   "id": "4f65e56b",
   "metadata": {},
   "outputs": [
    {
     "name": "stdout",
     "output_type": "stream",
     "text": [
      "Model ROC-AUC score for training sample: 1.000\n",
      "Model ROC-AUC score for test sample: 0.976\n"
     ]
    }
   ],
   "source": [
    "auc_score = roc_auc_score(ytrain, prob_train[:,1])\n",
    "print (\"Model ROC-AUC score for training sample: %.3f\" \\\n",
    "                                      % auc_score)\n",
    "auc_score = roc_auc_score(ytest, prob_test[:,1])\n",
    "print (\"Model ROC-AUC score for test sample: %.3f\" \\\n",
    "                                      % auc_score)"
   ]
  },
  {
   "cell_type": "code",
   "execution_count": 133,
   "id": "1efb1ead",
   "metadata": {},
   "outputs": [
    {
     "name": "stdout",
     "output_type": "stream",
     "text": [
      "Train Accuracy ::  1.0\n",
      "Test Accuracy ::  0.9166666666666666\n"
     ]
    }
   ],
   "source": [
    "#Calculate train and test accuracy\n",
    "train_acc = accuracy_score(ytrain, pred_train)\n",
    "test_acc  = accuracy_score(ytest, pred_test)\n",
    "print (\"Train Accuracy :: \", train_acc)\n",
    "print (\"Test Accuracy :: \", test_acc)"
   ]
  },
  {
   "cell_type": "code",
   "execution_count": 134,
   "id": "16c4414b",
   "metadata": {},
   "outputs": [
    {
     "name": "stdout",
     "output_type": "stream",
     "text": [
      "Top 15 - RF Feature Importance\n"
     ]
    },
    {
     "data": {
      "text/html": [
       "<style  type=\"text/css\" >\n",
       "#T_49808_row0_col1{\n",
       "            background-color:  #4aa44a;\n",
       "            color:  #000000;\n",
       "        }#T_49808_row1_col1{\n",
       "            background-color:  #63b163;\n",
       "            color:  #000000;\n",
       "        }#T_49808_row2_col1{\n",
       "            background-color:  #82c082;\n",
       "            color:  #000000;\n",
       "        }#T_49808_row3_col1{\n",
       "            background-color:  #91c791;\n",
       "            color:  #000000;\n",
       "        }#T_49808_row4_col1{\n",
       "            background-color:  #97ca97;\n",
       "            color:  #000000;\n",
       "        }#T_49808_row5_col1,#T_49808_row6_col1{\n",
       "            background-color:  #9fce9f;\n",
       "            color:  #000000;\n",
       "        }#T_49808_row7_col1{\n",
       "            background-color:  #a6d1a6;\n",
       "            color:  #000000;\n",
       "        }#T_49808_row8_col1{\n",
       "            background-color:  #acd4ac;\n",
       "            color:  #000000;\n",
       "        }#T_49808_row9_col1{\n",
       "            background-color:  #aed5ae;\n",
       "            color:  #000000;\n",
       "        }#T_49808_row10_col1{\n",
       "            background-color:  #b6d9b6;\n",
       "            color:  #000000;\n",
       "        }#T_49808_row11_col1{\n",
       "            background-color:  #b7dab7;\n",
       "            color:  #000000;\n",
       "        }#T_49808_row12_col1{\n",
       "            background-color:  #bdddbd;\n",
       "            color:  #000000;\n",
       "        }#T_49808_row13_col1,#T_49808_row14_col1{\n",
       "            background-color:  #c0dec0;\n",
       "            color:  #000000;\n",
       "        }#T_49808_row15_col1{\n",
       "            background-color:  #c2dfc2;\n",
       "            color:  #000000;\n",
       "        }#T_49808_row16_col1{\n",
       "            background-color:  #c3e0c3;\n",
       "            color:  #000000;\n",
       "        }#T_49808_row17_col1,#T_49808_row18_col1{\n",
       "            background-color:  #c5e0c5;\n",
       "            color:  #000000;\n",
       "        }#T_49808_row19_col1{\n",
       "            background-color:  #c6e1c6;\n",
       "            color:  #000000;\n",
       "        }</style><table id=\"T_49808_\" ><thead>    <tr>        <th class=\"blank level0\" ></th>        <th class=\"col_heading level0 col0\" >Feature</th>        <th class=\"col_heading level0 col1\" >Var Imp</th>    </tr></thead><tbody>\n",
       "                <tr>\n",
       "                        <th id=\"T_49808_level0_row0\" class=\"row_heading level0 row0\" >0</th>\n",
       "                        <td id=\"T_49808_row0_col0\" class=\"data row0 col0\" >great</td>\n",
       "                        <td id=\"T_49808_row0_col1\" class=\"data row0 col1\" >0.015774</td>\n",
       "            </tr>\n",
       "            <tr>\n",
       "                        <th id=\"T_49808_level0_row1\" class=\"row_heading level0 row1\" >1</th>\n",
       "                        <td id=\"T_49808_row1_col0\" class=\"data row1 col0\" >rude</td>\n",
       "                        <td id=\"T_49808_row1_col1\" class=\"data row1 col1\" >0.013516</td>\n",
       "            </tr>\n",
       "            <tr>\n",
       "                        <th id=\"T_49808_level0_row2\" class=\"row_heading level0 row2\" >2</th>\n",
       "                        <td id=\"T_49808_row2_col0\" class=\"data row2 col0\" >told</td>\n",
       "                        <td id=\"T_49808_row2_col1\" class=\"data row2 col1\" >0.010814</td>\n",
       "            </tr>\n",
       "            <tr>\n",
       "                        <th id=\"T_49808_level0_row3\" class=\"row_heading level0 row3\" >3</th>\n",
       "                        <td id=\"T_49808_row3_col0\" class=\"data row3 col0\" >room</td>\n",
       "                        <td id=\"T_49808_row3_col1\" class=\"data row3 col1\" >0.009412</td>\n",
       "            </tr>\n",
       "            <tr>\n",
       "                        <th id=\"T_49808_level0_row4\" class=\"row_heading level0 row4\" >4</th>\n",
       "                        <td id=\"T_49808_row4_col0\" class=\"data row4 col0\" >wonderful</td>\n",
       "                        <td id=\"T_49808_row4_col1\" class=\"data row4 col1\" >0.008958</td>\n",
       "            </tr>\n",
       "            <tr>\n",
       "                        <th id=\"T_49808_level0_row5\" class=\"row_heading level0 row5\" >5</th>\n",
       "                        <td id=\"T_49808_row5_col0\" class=\"data row5 col0\" >comfortable</td>\n",
       "                        <td id=\"T_49808_row5_col1\" class=\"data row5 col1\" >0.008251</td>\n",
       "            </tr>\n",
       "            <tr>\n",
       "                        <th id=\"T_49808_level0_row6\" class=\"row_heading level0 row6\" >6</th>\n",
       "                        <td id=\"T_49808_row6_col0\" class=\"data row6 col0\" >finally</td>\n",
       "                        <td id=\"T_49808_row6_col1\" class=\"data row6 col1\" >0.008231</td>\n",
       "            </tr>\n",
       "            <tr>\n",
       "                        <th id=\"T_49808_level0_row7\" class=\"row_heading level0 row7\" >7</th>\n",
       "                        <td id=\"T_49808_row7_col0\" class=\"data row7 col0\" >enjoyed</td>\n",
       "                        <td id=\"T_49808_row7_col1\" class=\"data row7 col1\" >0.007611</td>\n",
       "            </tr>\n",
       "            <tr>\n",
       "                        <th id=\"T_49808_level0_row8\" class=\"row_heading level0 row8\" >8</th>\n",
       "                        <td id=\"T_49808_row8_col0\" class=\"data row8 col0\" >dirty</td>\n",
       "                        <td id=\"T_49808_row8_col1\" class=\"data row8 col1\" >0.007116</td>\n",
       "            </tr>\n",
       "            <tr>\n",
       "                        <th id=\"T_49808_level0_row9\" class=\"row_heading level0 row9\" >9</th>\n",
       "                        <td id=\"T_49808_row9_col0\" class=\"data row9 col0\" >disappointed</td>\n",
       "                        <td id=\"T_49808_row9_col1\" class=\"data row9 col1\" >0.006919</td>\n",
       "            </tr>\n",
       "            <tr>\n",
       "                        <th id=\"T_49808_level0_row10\" class=\"row_heading level0 row10\" >10</th>\n",
       "                        <td id=\"T_49808_row10_col0\" class=\"data row10 col0\" >perfect</td>\n",
       "                        <td id=\"T_49808_row10_col1\" class=\"data row10 col1\" >0.006151</td>\n",
       "            </tr>\n",
       "            <tr>\n",
       "                        <th id=\"T_49808_level0_row11\" class=\"row_heading level0 row11\" >11</th>\n",
       "                        <td id=\"T_49808_row11_col0\" class=\"data row11 col0\" >amazing</td>\n",
       "                        <td id=\"T_49808_row11_col1\" class=\"data row11 col1\" >0.006119</td>\n",
       "            </tr>\n",
       "            <tr>\n",
       "                        <th id=\"T_49808_level0_row12\" class=\"row_heading level0 row12\" >12</th>\n",
       "                        <td id=\"T_49808_row12_col0\" class=\"data row12 col0\" >call</td>\n",
       "                        <td id=\"T_49808_row12_col1\" class=\"data row12 col1\" >0.005493</td>\n",
       "            </tr>\n",
       "            <tr>\n",
       "                        <th id=\"T_49808_level0_row13\" class=\"row_heading level0 row13\" >13</th>\n",
       "                        <td id=\"T_49808_row13_col0\" class=\"data row13 col0\" >friendly</td>\n",
       "                        <td id=\"T_49808_row13_col1\" class=\"data row13 col1\" >0.005321</td>\n",
       "            </tr>\n",
       "            <tr>\n",
       "                        <th id=\"T_49808_level0_row14\" class=\"row_heading level0 row14\" >14</th>\n",
       "                        <td id=\"T_49808_row14_col0\" class=\"data row14 col0\" >poor</td>\n",
       "                        <td id=\"T_49808_row14_col1\" class=\"data row14 col1\" >0.005243</td>\n",
       "            </tr>\n",
       "            <tr>\n",
       "                        <th id=\"T_49808_level0_row15\" class=\"row_heading level0 row15\" >15</th>\n",
       "                        <td id=\"T_49808_row15_col0\" class=\"data row15 col0\" >never</td>\n",
       "                        <td id=\"T_49808_row15_col1\" class=\"data row15 col1\" >0.005152</td>\n",
       "            </tr>\n",
       "            <tr>\n",
       "                        <th id=\"T_49808_level0_row16\" class=\"row_heading level0 row16\" >16</th>\n",
       "                        <td id=\"T_49808_row16_col0\" class=\"data row16 col0\" >loved</td>\n",
       "                        <td id=\"T_49808_row16_col1\" class=\"data row16 col1\" >0.005067</td>\n",
       "            </tr>\n",
       "            <tr>\n",
       "                        <th id=\"T_49808_level0_row17\" class=\"row_heading level0 row17\" >17</th>\n",
       "                        <td id=\"T_49808_row17_col0\" class=\"data row17 col0\" >reservation</td>\n",
       "                        <td id=\"T_49808_row17_col1\" class=\"data row17 col1\" >0.004905</td>\n",
       "            </tr>\n",
       "            <tr>\n",
       "                        <th id=\"T_49808_level0_row18\" class=\"row_heading level0 row18\" >18</th>\n",
       "                        <td id=\"T_49808_row18_col0\" class=\"data row18 col0\" >shopping</td>\n",
       "                        <td id=\"T_49808_row18_col1\" class=\"data row18 col1\" >0.004884</td>\n",
       "            </tr>\n",
       "            <tr>\n",
       "                        <th id=\"T_49808_level0_row19\" class=\"row_heading level0 row19\" >19</th>\n",
       "                        <td id=\"T_49808_row19_col0\" class=\"data row19 col0\" >called</td>\n",
       "                        <td id=\"T_49808_row19_col1\" class=\"data row19 col1\" >0.004788</td>\n",
       "            </tr>\n",
       "    </tbody></table>"
      ],
      "text/plain": [
       "<pandas.io.formats.style.Styler at 0x2934646fdf0>"
      ]
     },
     "execution_count": 134,
     "metadata": {},
     "output_type": "execute_result"
    }
   ],
   "source": [
    "#Define colormap\n",
    "cm = sns.light_palette(\"green\", as_cmap=True)\n",
    "var_imp_rf = pd.DataFrame({'Feature':txt_fitted.get_feature_names(),'Var Imp':forest.feature_importances_}).sort_values(by='Var Imp',ascending = False).reset_index(drop=True)\n",
    "print(\"Top 15 - RF Feature Importance\")\n",
    "var_imp_rf.head(20).style.background_gradient(cmap = cm, high = 0.6, low = 0.3, axis = 0)"
   ]
  },
  {
   "cell_type": "code",
   "execution_count": 135,
   "id": "91a9c5af",
   "metadata": {},
   "outputs": [
    {
     "name": "stderr",
     "output_type": "stream",
     "text": [
      "[nltk_data] Downloading package vader_lexicon to\n",
      "[nltk_data]     C:\\Users\\raksh\\AppData\\Roaming\\nltk_data...\n"
     ]
    },
    {
     "data": {
      "text/plain": [
       "True"
      ]
     },
     "execution_count": 135,
     "metadata": {},
     "output_type": "execute_result"
    }
   ],
   "source": [
    "nltk.download('vader_lexicon')"
   ]
  },
  {
   "cell_type": "code",
   "execution_count": 136,
   "id": "bf704131",
   "metadata": {},
   "outputs": [],
   "source": [
    "vader = SentimentIntensityAnalyzer()"
   ]
  },
  {
   "cell_type": "code",
   "execution_count": 137,
   "id": "390c3d82",
   "metadata": {},
   "outputs": [
    {
     "data": {
      "text/plain": [
       "'affinia chicago superb room service exemplary food even know start chef obviously knew doing especially loved seafood personal favorite shrimp aside this loved beautiful wa definetly bargain price price would probably get good 3 star but felt $ 10,000 night 5 star europe great bang buck would recommend anybody looking relax great great amenity great city friend actually went back me loved it ! know too'"
      ]
     },
     "execution_count": 137,
     "metadata": {},
     "output_type": "execute_result"
    }
   ],
   "source": [
    "x.tolist()[2]"
   ]
  },
  {
   "cell_type": "code",
   "execution_count": 138,
   "id": "147ccebf",
   "metadata": {},
   "outputs": [
    {
     "data": {
      "text/plain": [
       "{'neg': 0.0, 'neu': 0.458, 'pos': 0.542, 'compound': 0.9955}"
      ]
     },
     "execution_count": 138,
     "metadata": {},
     "output_type": "execute_result"
    }
   ],
   "source": [
    "ss = vader.polarity_scores(x.tolist()[2])\n",
    "ss"
   ]
  },
  {
   "cell_type": "code",
   "execution_count": 139,
   "id": "0789e371",
   "metadata": {},
   "outputs": [
    {
     "name": "stdout",
     "output_type": "stream",
     "text": [
      "1 1\n"
     ]
    }
   ],
   "source": [
    "def vader_polarity(text):\n",
    "    \"\"\" Transform the output to a binary 0/1 result \"\"\"\n",
    "    score = vader.polarity_scores(text)\n",
    "    return 1 if score['pos'] > score['neg'] else 0\n",
    " \n",
    "print (vader_polarity(x.tolist()[2]), y[2]) # 0 1"
   ]
  },
  {
   "cell_type": "code",
   "execution_count": 140,
   "id": "658d5fe2",
   "metadata": {},
   "outputs": [],
   "source": [
    "pred_y = [vader_polarity(text) for text in x.tolist()]"
   ]
  },
  {
   "cell_type": "code",
   "execution_count": 141,
   "id": "1ba75a2e",
   "metadata": {},
   "outputs": [
    {
     "name": "stdout",
     "output_type": "stream",
     "text": [
      "0.665625\n"
     ]
    }
   ],
   "source": [
    "print (accuracy_score(y, pred_y))"
   ]
  },
  {
   "cell_type": "code",
   "execution_count": 142,
   "id": "4e695670",
   "metadata": {},
   "outputs": [
    {
     "data": {
      "text/plain": [
       "['Group1 (1).csv',\n",
       " 'Original+review+file_team2.csv',\n",
       " 'Review_file_Team5 (1).csv',\n",
       " 'Reviews.csv',\n",
       " 'Reviews_Dataset_Final_Team3 (1).csv',\n",
       " 'hotels_review_for_s3 (1).csv',\n",
       " 'reviewsteam6 (1).csv']"
      ]
     },
     "execution_count": 142,
     "metadata": {},
     "output_type": "execute_result"
    }
   ],
   "source": [
    "corpus_root = 'C:\\\\Users\\\\raksh\\\\OneDrive\\\\Desktop\\\\DAMG\\\\New folder'\n",
    "#\n",
    "# Read the list of files\n",
    "#\n",
    "filelists = PlaintextCorpusReader(corpus_root, '.*')\n",
    "#\n",
    "# List down the IDs of the files read from the local storage\n",
    "#\n",
    "filelists.fileids()"
   ]
  },
  {
   "cell_type": "code",
   "execution_count": 213,
   "id": "7ad7dc30",
   "metadata": {},
   "outputs": [],
   "source": [
    "import csv\n",
    "list_new=[]\n",
    "for i in filelists.fileids()[1:5]:\n",
    "    with open('C:\\\\Users\\\\raksh\\\\OneDrive\\\\Desktop\\\\DAMG\\\\New folder\\\\'+i,encoding='utf-8') as csvfile:\n",
    "        readCSV = csv.reader(csvfile, delimiter=',')\n",
    "        for row in readCSV:\n",
    "            list_new.append(row)"
   ]
  },
  {
   "cell_type": "code",
   "execution_count": 215,
   "id": "b57d3408",
   "metadata": {},
   "outputs": [],
   "source": [
    "with open('C:\\\\Users\\\\raksh\\\\OneDrive\\\\Desktop\\\\DAMG\\\\New folder\\\\hotels_review_for_s3 (1).csv',encoding='cp1252') as csvfile:\n",
    "    readCSV = csv.reader(csvfile, delimiter=',')\n",
    "    for row in readCSV:\n",
    "        list_new.append(row)"
   ]
  },
  {
   "cell_type": "code",
   "execution_count": 216,
   "id": "06512824",
   "metadata": {},
   "outputs": [
    {
     "data": {
      "text/plain": [
       "[['\\ufeffAll was great'],\n",
       " ['Placed order and very quick delivery'],\n",
       " ['Was great thank you'],\n",
       " ['Great support and help through the entire process.'],\n",
       " ['Great and very quick help with refund!!!'],\n",
       " ['Always love my seasonings! Fast delivery and great taste!'],\n",
       " ['Size came back great'],\n",
       " ['Easy to find the part I needed which was delivered quickly.'],\n",
       " ['Chat Agent-was very helpful!'],\n",
       " ['Great Company and Great service'],\n",
       " ['Fast delivery & what I needed'],\n",
       " ['Hi... after my review Specsavers solved my issue.'],\n",
       " ['Fantastic service with a personal touch which was nice. Thank you!'],\n",
       " ['SMM Panel is a Social Media Marketing website. I was delighted with this and the excellent service it provides.  thank you very much for this.'],\n",
       " [\"I have been using Spreaker for at least 5 years. My only complaint is that they need to not give our payments later than the date it's due.\"],\n",
       " ['World of Books did an oustanding job. The book arrived in fine condition.'],\n",
       " [\"Terrible quality for a high priced item. Took a long time to get it. No returns because it's a foreign based company. Beware!!\"],\n",
       " ['Very pleased with our settees. Very helpful all the way through as always. Thank you.'],\n",
       " ['This is a great and best website to use. I am very satisfied with the services provided. Thanks for everything.'],\n",
       " ['Lovely door knobs. Beautifully wrapped and speedy delivery. Really pleased with them. Thank you'],\n",
       " ['The product was great, the quality was good, fitted properly.'],\n",
       " ['Little bit small and long'],\n",
       " ['I love this top. I am obssesed with the colour brown.'],\n",
       " ['Ordered both colours, I love them'],\n",
       " ['l Love this beanie so much, it sags just right. Been searching for one like it for a long time.'],\n",
       " ['Auto ships works great. I have it timed to arrive just when we are on the last bottle.  They have been good about working with me to set up a schedule for auto delivery'],\n",
       " ['Service Was good!!! And Delivery was on time.'],\n",
       " ['Will always use this service! Great products!'],\n",
       " ['Great products and great service'],\n",
       " ['A friend recommended this page to me because the supplements they sell are very effective in boosting my immune system. And just as I thank my friend for telling me about this I also thank BetterWayHealth for the fantastic supplements that have helped me and for the kind service provided'],\n",
       " ['Very happy with products and delivery'],\n",
       " ['The products were very helpful in getting my supplements level to the point'],\n",
       " ['Always great products and great service with Better Way Health!'],\n",
       " ['Health is wealth.Very good experience and totally satisfied.'],\n",
       " ['Great Products and also satisfied with the service.'],\n",
       " ['It would be helpful if they could improve the payment services.'],\n",
       " ['Had trouble navigating website and accessing discount code but a nice rep followed up and helped sort it out. Thanks.'],\n",
       " ['If the delivery is within the expected time  it would be nice. Bit frustating if the order is delayed.'],\n",
       " ['Everyone is always helpful.  I had to change  payment methods and delivery dates and it is always a pleasure to talk to them.'],\n",
       " ['Have been using Better Way Health Beta Glucan consistently for 3 years. Love the product backed up by scientific research. Ordering is a breeze & their text notification pre-auto shipment makes it super easy if I need to amend my order. Great customer service. Also recommend the Vitamin D & Curcumin.'],\n",
       " ['Poor Service'],\n",
       " ['Excellent service'],\n",
       " ['Premium quality of supplements. Great Shop would recommend this store to my friends'],\n",
       " ['Easy to order and the text message from Better Way Health is great way for me to monitor or adjust future ordering.'],\n",
       " ['Products are Good but it would be nice if some improvements are made in the way to order. '],\n",
       " [\"Best phone service. They have all your info right there to help you place your next order. All representatives I've dealt with over the years  have been very friendly.\"],\n",
       " ['The customer service was so good and it was so helpful.'],\n",
       " ['The benefits of better health supplement is to get you in tip top shape.'],\n",
       " ['I couldn\\x92t get my phone to purchase my items  so I ended up calling.  I got excellent help and was able to finish my order.  She was very helpful in helping me order the right items for my situation.'],\n",
       " ['This company is a must-visit for everyone on a diet who wants to try a dieting supplement. The Quality of the products were top notch.'],\n",
       " ['This company is a must-visit for everyone on a diet who wants to try a dieting supplement. They have a trustworthy  organic and non-toxic supplement and you may choose and choose which vitamins you need based on your health\\xa0condition.'],\n",
       " ['Some 0f the supplements quality were bad and disappointing.'],\n",
       " ['Best hotel everrr!'],\n",
       " ['Back at The Verb!'],\n",
       " ['We loved Verb & Ryan so much'],\n",
       " ['Stay here if you get the chance'],\n",
       " ['Best Hotel in Boston'],\n",
       " ['Amazing!'],\n",
       " ['Heated outdoor pool a must'],\n",
       " ['Rock Boston at the Verb!'],\n",
       " ['Breakfast at The Verb'],\n",
       " ['Fun, funky and fantastic staff'],\n",
       " ['Our two boys (5 and 7) absolutely love this place. It’s our second visit and just as good as the first. Amalia and Paula took great care of us at breakfast (magical breakfast feast of all the things banned at home with some healthy stuff to placate the parents) and the vinyl selection is so fun. Now we’re off to jump in the pool again - in November - in Massachusetts…'],\n",
       " ['As always, a wonderful, vinyl spinning stay in the Fenway, at The Verb Hotel. Come for the funky atmosphere & vinyl, stay for the wonderful staff & Hojoko restaurant. Crisela will make you feel welcome at Breakfast and Audrey takes care of everything else!'],\n",
       " ['This hotel is beautiful, service is amazing. Ryan is one of the best workers here. We loved him! so friendly and all around cool guy. Also shout out to Chris too. Thank you Verb for the lovely experience, will be back soon xx'],\n",
       " ['Staff was warm and exciting the minute we stepped in. The ambiance was as cool as it gets. It’s like you step into a time warp that somehow includes the 50s through today. Staff and room cleaning was more than accommodating. Super fun location right by Fenway and only a short Uber to and from popular spots. Couldn’t recommend this place enough.'],\n",
       " [\"What an amazing, funky place to stay! We loved our experience at the Verb Hotel in Boston. ALL of the staff was super friendly, knowledge and cared about our trip and our experiences while we were in Boston. We loved the vinyl library and having our very own record player in our room! We were in town for a show at the House of Blues, easy walk from the Hotel and plenty of places to grab yummy food nearby. We'll be back for sure!\"],\n",
       " ['Our stay was absolutely wonderful! We loved this hotel! Everyone was so nice we especially liked Cisco and Mustafa! They were so accommodating and gave good advice which helped since we had never been to Boston. We would definitely stay here again!'],\n",
       " ['very unique hotel and a plus for the kids because there’s an outside heated pool. It was heated to I think close to 90° or maybe 100 which was needed especially if you’re visiting this hotel in the month of February. Not a fan of the breakfast at the diner attached to the hotel but the hotel is located in Fenway so many options for you to choose from. The front desk was very patient, friendly, and helpful. I had such a great time that I booked for another two nights in a month of April with my husband.'],\n",
       " ['The hotel was so fun and had such a great vibe. It was decorated retro music complete with a record player in your room and records in the lobby available for you to listen to in your room. The room was well equipped and had clever touches throughout. In fact, the whole hotel had unexpected, original design from signage to your hotel key to the exterior. The service was even better! Our flight was delayed, and they were very accommodating. Every person we dealt with was friendly, knowledgable, and eager to help with anything we needed. Great location too!'],\n",
       " ['Amalia and her team made our morning so much better! They were all so friendly, helpful and kind, not to mention the breakfast was delicious!! We will be back just for that alone. They took great care of us!'],\n",
       " ['We were in town for appointments at Boston Children’s. I’ve always wanted to try out this hotel. Wish I’d been picking this one every time! Clean, excellent staff, good quality quick breakfast, relaxing in our room with great records to play on the record player was just unique and fun… especially with my young adult son.'],\n",
       " ['I was taking my high school senior daughter on a college tour to schools in Boston when I accidentally discovered this gem. I’ve been to many hotels. I’ve almost never written a review, but what an amazing, novel experience this was! In addition to an incredibly friendly staff, the rock n roll vibe and decor is everywhere. Love the record players in every room AND the hundreds of vinyl albums to choose from in the lobby. And electric guitars we could jam on near the front desk? Wow! One of the coolest, best value places one could find anywhere in the country.'],\n",
       " ['The complementary breakfast at the Verb is delicious and the attendants are great! (Thanks Crisela Amador.)I had a waffle and a muffin and they both were wonderful. What a fantastic start to a east coast road trip.'],\n",
       " ['crislea was very helpful with serving us breakfast and helping us and offering us anything we needed. I got a choclate crossiant and it was really good. i also got a bowl of cereal. It was all very good.'],\n",
       " ['Brooked The Verb for a 1 night stay to take my 9yo son to his first game at Fenway. Staff was awesome and the location was perfect. Should have made it a longer stay in Boston but I already had my son miss two days of school for this trip. Absolutely will stay again when I take the rest of the family to Boston. Plenty of food choices near the hotel and in the hotel. My son also learned what a typewriter and record player was thanks to both being in the room. He was amazed at the typewriter.'],\n",
       " ['Great stay! Was there for a medical need and staff was super accommodating. In particular a front desk staff went out to the local CVS to buy me some medicine I didn’t have. And they brought my dinner up to my room from the downstairs ramen restaurant. The breakfast staff, Paula and Kristala were super great too! 10/10 would stay again.'],\n",
       " ['This was such a great little eclectic hotel... everyone was so friendly and helpful - the evening manager (sorry I forgot his name) to Saulo and Blanca who were both helpful and kept my room clean. My room had a record player - and you could pick your choice of oldies but goodies and bring them to your room... Will definitely return...'],\n",
       " ['An exciting hotel to tease your visual and audible senses! The decor, the music, and the vibe was more than we expected. And not to forget the complimentary breakfast! Chisela and her staff made every accommodation so that we enjoyed every bite. Highly recommend the Verb, it was perfect from start to finish! The Lindsay’s from VA'],\n",
       " ['My friend and I attended a concert at Fenway and stayed at The Verb Hotel afterwards. The location was great and convenient, the staff was very friendly and nice, the room was clean, and the ambiance was amazing'],\n",
       " ['Not only was the location great, but the hotel itself is awesome. Staff was very friendly and rooms were very clean. They even had a record player in every room-totally worth the price!!! If you’re looking for a hotel to stay at for a Fenway event, look no further!'],\n",
       " ['This place was awesome. It is a must stay place for music lovers. The staff was friendly and the hotel was very clean and located within walking distance of many of our needs. We will definitely be back!'],\n",
       " ['This place was better than I expected. Perfect location and within walking distance of restaurants, souvenir stores, and Fenway Park. The zebra robes were a hit with my husband! Super friendly and helpful staff.'],\n",
       " ['The Verb Hotel is such a fun, retro environment! Very friendly staff, including Crisela Amador who served a delicious breakfast, offer a welcoming vibe. Highly recommend a stay at the Verb, especially if you need a quick walk to Fenway Park!'],\n",
       " ['Truly the coolest and cleanest hotel we have ever stayed in. So neat and different. The staff is INCREDIBLE. Everyone is so kind and really helpful. Chris the valet was fantastic and always had our car ready quickly. 10/10 recommend staying here if you get the chance. Best hotel experience in Boston.'],\n",
       " ['hi, i’m korean. i can’t speak english very well. this hotel giving for us very nice night. so If I come to Boston again, I will come to this hotel. Especially the curly-haired male staff, thank you for being so kind to me.'],\n",
       " ['Our stay was awesome! We stayed at the Verb so we could be with in walking distance of Fenway! The room was clean, we had free breakfast, free coffee, and even had a couple discounts for local restaurants when you showed them your room key! Overall we had a great time and would definitely stay at the Verb again!'],\n",
       " ['This hotel is the full rock ‘n’ roll experience, from the mid century modern meets rock ‘n’ roll lobby to the clean lines minimalist modern room decor, our stay was top notch. There were some really cool little details like free 24 cold brew in the lobby, to the bottle of champagne delivered to my room because it was my birthday, to the zebra rock ‘n’ roll robes, and the most unique thing was the in-room record player and the huge library of vinyl that you could choose from to bring up to your room The location also cannot be beat, a few minutes walk to the green line train and Fenway Park was right out my window! So very cool!'],\n",
       " ['Cool place. Great location. Clean and comfortable. Friendly staff. Lots of great music memorabilia. Pool looked nice but we didn’t use it. Valet parking and amenities fee is going to run you an additional $100 bucks per night. Just an FYI.'],\n",
       " [\"Where do I even begin? This place is like a rock stars dream come true! And if you are dreaming of the Rockstar life then look no further! From playable guitars in the lobby to a heated salt water pool! You feel like you just went backstage after your own show! There are even record players in each room and a FULL ASS SELECTION of LPS to choose from if you feel the need to rock out in your room! Or you can stroll the halls and check out all the memorabilia that they change out to keep it fresh or read the names of all the famous peeps that have stayed here that Aretha Franklin is singing out Witten on the wall near the lobby. I'm writing this out right now sitting out front while there is a band playing in fenway that I can hear is clear as if I'm in the venue. This isn't my\"],\n",
       " [\"This rock and roll themed hotel is right behind Fenway Park - it took us 2 minutes to walk there. Easy valet parking and in minutes we were sitting on our balcony listening to the tunes of Stevie Wonder as we had a pre-game cocktail. Upon check in, they upgraded us to a deluxe themed room! We stayed in the Led Zeppelin room, which had authentic memorabilia from the band covering the walls. There are record players in each room with a collection of albums in each room, but there is also a large assortment of albums from which to choose from in the lobby. The atmosphere in this place is awesome - trendy, hip and fun. The lobby has nitro cold brew and hot coffee on tap and unlimited water bottles available to guests. We didn't know this upon arrival, but it is a dog friendly hotel!\"],\n",
       " ['Every employee, every visitor all were so nice! Check in and out were easy, valet parking was great. Record player and records in the rooms were so fun, and the pool was heavenly. The walk around the building to be at the Red Sox game couldn’t have been easier! Can’t wait to go back!'],\n",
       " ['Great location. Not sure how noise levels would be if there was a baseball game going on as we were literally a stones throw from the back of Fenway park. Consider carefully if you are going to have a car because they charge $65 a night to park your car there. We were fortunate in that we found a garage across the street in the new condo building that was allowing non-condo owners to park there for hourly fees, and ended up spending a total of $55 over 48 hours, even though we came and went multiple times. This was in late August 2021, but that situation may change. If you’re just walking and Ubering around, I definitely recommend this place. It was special— the music-themed touches were really fun. The staff and service were very good.'],\n",
       " ['We stayed at The Verb for a Sox game so we didn’t have a late/long drive home and my only regret is that our stay wasn’t longer. I was worried about having our five year old twins but once we checked in, I realized it was more family friendly than I anticipated. The rooms were so clean and they’d even left a Disney vinyl on the record player in our room; no detail spared. We took a quick dip in the pool to cool off before the game and it was great. No complaints!'],\n",
       " ['My first time at the Verb! Not only is the vibe fun with a real record player in your room, the staff was over the top nice and accommodating. I’ll be staying here when I return to Boston! Also don’t miss out on the coffee in the lobby. So good.'],\n",
       " ['We loved our stay for many reasons. First, close to Fenway for a Sox game, best and most festive breakfast around with amazing live music, great employees from the front desk/Producers to the breakfast crew! We would stay there again in a heart beat!'],\n",
       " ['Groovy, clean (there is always someone cleaning somewhere - and it smells wonderful), cool as s%#+, fun, friendly staff. Definitely choose from the 1500 vinyl options for your in-room turntable. We were there for 3 consecutive nights of games at Fenway - it’s busy, but great to be in the middle of it! Expensive overnight parking - choose the garage around the corner.'],\n",
       " ['Fun boutique hotel with outdoor pool and view of Fenway. Staff could not be friendlier. Breakfast buffet was excellent with lots of variety. Smaller rooms but well designed. Love a hotel who thinks of an extra blanket. Also best robes ever in a zebra print with Verb logo. Complimentary coffee and water. If you love Rock and have a great sense of humor this hotel is for you. Pet friendly as well.'],\n",
       " ['Our one night stay for a Red Sox game turned into a mini vacation. The Sox lost but we won, with a great stay. All the staff were fantastic and the complimentary breakfast was way beyond average. I highly recommend this place and will be back for future games'],\n",
       " ['This used to be the old Howard Johnsons. IT is such a fun hotel. Unique atmosphere/retro and colorful decor, very friendly staff, had fun playing assorted records on the turntable. Unlimited water bottles and cold nitro brew coffee on tap 24/7. The room is very clean, bed is very comfy (thank you BLANCA!). Hojoko, the next door Japanese restaurants, is excellent for its food and jelly sake. There are also lots of restaurants around within walking distance. The parking is a bit steep at $65/day, but it beats running to meters all day or trying to find a parking spot without being stressed out. Also, it is right next to Fenway Stadium. The valet people are incredibly nice and will run out to get your car in no time. The continental breakfast is excellent with plenty of delicious'],\n",
       " ['We had such a great time at The Verb! If you are sick of every hotel looking and feeling the same, it’s time to try a boutique hotel, and if you are in Boston you have to stay at The Verb. It’s right next to Fenway Park, so it would be a great way to stay over if you’re at a game that runs late. The Rock ‘n Roll theme is fantastic, and the friendly staff carry it off well. Joey, who checked us in was super friendly and welcoming, and Cisco, the valet, was really cool. We drove up into the wrong driveway, but he took care of us anyway. He also showed us around the vintage Flxible bus in the Verb parking lot --amazing! Cisco is a nice guy, and he has a great playlist.* We enjoyed the pool, but most of all the general vibe, even just getting the hotel key (er, I mean'],\n",
       " ['I stayed with my family for 3 nights and was very impressed with Saulo and his team, what a great job they did! The room was very clean and the housekeepers was very pleasant. My daughter loved the turn table in the room. Plaining on returning soon.'],\n",
       " ['We came for my son’s 11th birthday to go to a game at Fenway. It was a perfect weekend! Chris Sale pitched for the first time since his surgery and we loved the hotel! So much fun. The kids loved the pool and the records! Mom loved the Nitro on tap 24/7. The breakfast was great and the rooms were clean. I plan to come back and stay for Boston Calling in 2022.'],\n",
       " ['this Hotel is hyper.'],\n",
       " ['This Hotel works certainly well. It perfectly improves my mood by a lot.'],\n",
       " ['heard about this on gypsy jazz radio, decided to give it a try.'],\n",
       " ['Really good. No matter where you go, Hotel is the coolest, most happening thing around!'],\n",
       " [\"Thanks guys, keep up the good work! I love your system. Thanks to Hotel, we've just launched our 5th website!\"],\n",
       " [\"I can't say enough about Hotel.\"],\n",
       " [\"I would like to personally thank you for your outstanding product. It's really wonderful. Wow what great service, I love it!\"],\n",
       " [\"I don't always clap, but when I do, it's because of Hotel. Really good. Hotel is great.\"],\n",
       " [\"We can't understand how we've been living without Hotel.\"],\n",
       " ['Hotel is both attractive and highly adaptable. Hotel did exactly what you said it does. Hotel is the next killer app.'],\n",
       " [\"I STRONGLY recommend Hotel to EVERYONE interested in running a successful online business! I can't say enough about Hotel. Without Hotel, we would have gone bankrupt by now.\"],\n",
       " ['I am so pleased with this product.'],\n",
       " ['Hotel is the next level hotel and best management'],\n",
       " [\"I couldn't have asked for more than this. I will recommend you to my colleagues. The best on the net!\"],\n",
       " ['this hotel is revolting.'],\n",
       " ['I heard about this on dance-rock radio, decided to give it a try. Best Hotel'],\n",
       " ['Ver bad service of the managent. Threw my bags'],\n",
       " ['Excellent food and tasty also. The chef are very professional and cook very well. Awseome management'],\n",
       " ['I recommend this hotel to every one. My husband loved the outdoor seating and pool.'],\n",
       " ['Clean hotel with. I spent a week in this hotel when I was on a business trip. It felt Like I was at my house. Nice Food and very close to boston downtown.'],\n",
       " ['very nice visit with family over the Halloween weekend. Clean . very responsive staff to all our needs , umbrellas when raining, car, breakfast. thank you to amalia vasquez and crisela amaor for their kind assistance during the breakfast meals, the room staff and front desk. also enjoyed Hojoko next door.'],\n",
       " [\"Crisela and Amalia were so very nice and very sweet. They had everything prepared and we're happy to take special requests, we are very pleased! The smoothies were excellent and they were happy to make them.\"],\n",
       " ['Pass by this place frequently and didn’t know it was a hotel. Such a cool vibe and experience, most importantly…affordable! Workers were very nice as well. Just wish there were better parking options…other than that i Will be coming back!'],\n",
       " ['What FUN! The rooms are clean and somewhat large, the staff is nothing be wonderful and accommodating. They do whatever it takes to make you comfortable. Hats off to the breakfast attendants as well, especially Paula, Crisela and Amalia, nice, professional again doing whatever they can to please. Highly recommend especially if you like rock and roll!! In back of Fenway Park if you a sports fan.'],\n",
       " ['Neat boutique hotel for Boston music scene lovers and Boston Red Sox Fans! Record player in every room and a lovely all year round outdoor salt water pool. Complimentary Cold brew and hot coffee at front desk. Modern decor. Very hip and cool music memorabilia!'],\n",
       " ['Great first time stay here at Verb!! Everything was great from check in to check out! We will definitely be back. The rooms were clean, comfortable and quiet. Breakfast had a great selection of hot and cold options and was excellent.'],\n",
       " ['This is our second time staying here. Hotel is soo convenient to Fenway and Valet parking is a plus. Everyone here has been so friendly and the hotel has a really cool atmosphere. Not luxury but comfortable, clean and cool decor. The restaurant next door has a continental breakfast with a good selection and really lovely people working there. Crisela was so kind and helpful with my kids endless requests.'],\n",
       " ['Great room, very clean, had everything I needed. Friendly, laid back atmosphere. Very relaxing. Nice continental breakfast with friendly servers. Right next to Fenway so it will be loud on game nights - bring earplugs if you’re not watching the game. Will stay again.'],\n",
       " ['ROOM 109 was comfortable BUT at night the room was lit up like daylight. The curtain did not contain the lights by the pool, we had a very poor night sleep. The room was too expensive for the accommodations.'],\n",
       " [\"This review is specific to Amalia (breakfast attendant) and the other early AM staff at the Verb. Awesome service! Early flight in got me to the hotel many hours before check in, but the staff checked my bag for me and they had a great complimentary breakfast available right then and there. Amalia was wonderful, answering my questions with kindness you don't often see at 7am. Looking forward to the rest of my stay, and future visits.\"],\n",
       " ['This rock and roll themed hotel was great. Loved all the posters and other memorabilia. Every room has a turn table and there are tons of records you can get from the lobby to play. Beds were very comfortable. Breakfast was a cut above with excellent baked goods, hard boiled eggs,, fruit, yogurt and waffles - and all served with a smile. Only issue for us was it was a ways from most of our activities which were closer to Back Bay area and convention center.'],\n",
       " ['This hotel is everything it advertised and more! The great music theme vibe, the amazing photo ops and the staff are all so friendly. Continental breakfast included :) Crisela the breakfast attendant was the best.'],\n",
       " ['This was a college visit trip for us. The hotel is easy walking distance to BU and Northeastern (and many other universities for that matter). Things we loved about the hotel—the staff are really friendly and upbeat, the complementary beverages including nitro cold brew, wide array of breakfast offerings, clean and funky decor, clever rock n roll sayings ALL OVER THE PLACE, generous name brand toiletries in the room (I could’ve left so many liquids at home), Keurig vs the sachet, comfortable bedding and pillows, fun baseball crowd when the Red Sox are in town, walking distance to many attractions otherwise near the train. My teen daughter and I enjoyed our stay very much. I will return.'],\n",
       " [\"Our first visit and we were totally impressed! Perfect location with Fenway directly behind the hotel, and walking distance to plenty of food (Lorraine's) and nightlife (House of Blues). Can walk to BU and Northeastern campuses within 15 minutes. Love the vibrant rock 'n roll vibe and decor throughout! Each room has a vinyl turntable and a stock of some records but you can take/choose more from the hotel's extensive collection in the lobby. Breakfast is included and we had live guitar music during our weekend stay. Outdoor heated pool and variety of outside seating spots to sit with a morning coffee or around the pool. The front desk staff was AMAZING!! All of them! Kind, courteous, helpful outgoing and seem to really enjoy their job and the guests. A breath of fresh air to\"],\n",
       " ['Crisela was so polite and helpful our breakfast was fresh service was great and quick The verb hotel is awesome and the staff attentive and helpful Everything was clean and delightful This is our second time here and we will be back again'],\n",
       " [\"My girlfriend and I embarked on a 5+ city east coast tour.The Verb Hotel was easily the most memorable of our lodging decisions. The place is charming and the hospitality was second to none. We thoroughly enjoyed exploring new music with the in room record player. Not to mention, it's next door to one of the most revered sporting venues in the world. The only regret was that it wasn't a little warmer during our trip, so that we could have enjoyed the pool. The Verb will be at the top of our list when we make a return trip to Boston.\"],\n",
       " [\"Probably to cool for me, this property is boutique in every sense. Upon entering, we were warmly greeted by the front desk staff as each of them introduced themselves by name. We knew we were in a place unlike any other by the dark walls and rock and roll décor. After we checked in, we were shown the amp that was a refrigerator holding bottles of water for the guests and the vinyl record collection you could borrow from to use in your room which was equipped with a record player. The rooms were nice but I could have used a newer mattress. The hotel located right beside Fenway. We could literally see one of Fenway's walls from the small hotel pool. The pool was amazing! They keep it heated to what I would describe as bathwater temperatures. One of the nights that we were\"],\n",
       " [\"My daughter and I (15) stayed here recently. Love!! The staff was great. Helpful. Fun. Kind. Genuinely interested in us and our travel. On site restaurant was amazing. A stranger even helped us with our bag. Back to the vibe... we pulled records from the lobby and played them in our room. Great musical theme and feel. I was a bit concerned about the party vibe but it was low-key and well, so fun. Great Energy! The tour buses were ADORABLE. We'd stay again in a hot minute. My teenager agrees.\"],\n",
       " ['This is our second stay here and each time they have been professional and fun at the same time . Their music theme is a real plus and adds so much to the atmosphere. It’s appealing to a variety of age groups. The rooms are a good size and have all the amenities you could want including a turntable and speaker!'],\n",
       " ['We booked a two-night stay and were impressed that the theme of the hotel is clear but not overbearing. Parking is a bit outrageous at $65/day. Understandably, parking is a luxury in Boston, but it would have been nice to have a slightly better rate, considering the price of the room was almost $250/night. Complimentary breakfast was surprisingly good - they had a nice spread of fruit, waffles, oatmeal, cereal, bagels, toast, smoothies, coffee/juice/tea, etc. Room was very clean, check in and check out were quick and easy. We would stay at this hotel again, but would recommend not bringing a car if you can avoid it. Ubers around the city are cheap, and many things are within walking distance.'],\n",
       " ['This is not our first time nor will it be our last! We have a son in college nearby the Verb. It is so convenient. An amazing boutique hotel that is always clean and friendly. The complimentary breakfast always is just enough. Tom at the front desk always goes above and beyond to be personable. Makes a huge difference! This was about our 8th time staying and We look forward to returning very soon.'],\n",
       " ['Needed a last-minute room for the night when going to a Sox game and The Verb did not disappoint. Its location, literally feet from Fenway Park, is ideal. What’s not A deal is the cost— over $600/night + taxes + parking fee, but it was a busy Sox/Yankees weekend and I was in a bind. Too much $$ BUT the friendly staff and great room made up for it, and they very generously gave me a small discount and a late checkout 🙌 Really comfy king bed, huge TV w/lots of channels, huge bathroom and the cool rock ‘n roll paraphernalia give the rooms and the whole hotel a great vibe. Big kudos to the GM Paul and the front desk staff who really helped me (& my dog!) when I was in a rush, and even bigger kudos to the super-friendly and helpful valet staff, James & CISCO!! Thank you guys!'],\n",
       " [\"Our second time staying at the Verb while attending a Red Sox game. It couldn't be better. The location is perfect, the people at The Verb work hard to make your stay fun. And if you're a Rock n' Roll fan, it doesn't get any better!\"],\n",
       " ['We stayed here for a Red Sox game, the park is literally 100 feet from the hotel. If you like a little old school Rock and Roll with a Modern flare, this is the place for you. Rooms were clean and comfortable, and the Staff were very knowledgeable and friendly. Definitely 5 out of 5 ⭐️ For us.'],\n",
       " ['Great location within walking distance to The House of Blues, which is why we stayed here at the Verb. We wanted a night out and a safe walk back. Awesome vibe, we played records and enjoyed people watching from our room looking into Fenway. Very clean, comfortable bed and pillows, and A.C. Friendly and accommodating staff. We used the valet to park our car overnight for a fee. Can’t wait to stay here again!'],\n",
       " [\"Fun decor really leans in to the rock-'n'-roll vibe. Found some really cool music to enjoy. The staff was young and responsive. Always a cheerful greeting when we would get back . Location is good, although most restaurants and bars close early.\"],\n",
       " ['The hotel is right next to Fenway Park. You can see their theme on their website. They have a few cool twists, such as LPs you can take to your room. Every room has a turntable. I stayed in the Rolling Stones room. Each room has a specific rock-star or rock-star-group imprint. The one thing I didn\\'t like is the \"amenities\" fee, which covers access to the heated saltwater pool, the LPs and unlimited free water in the lobby mini fridge (which looks like a speaker). This wasn\\'t divulged ahead of time. I didn\\'t see it on their website. So what are you going to do at check in? Say no... and go look for another hotel? No, you pony up the $25 or whatever it is. Not the most transparent business practice. It\\'s increasingly used by some hotels but if it\\'s not clear before you'],\n",
       " ['Stayed here with my daughter the week leading up to her dorm move-in day and we loved it. Because of the nature of it being a motor lodge setup (and the large quantity of college students that particular week), the hallways could get a little noisy at times, but it was generally brief. Hotel is cool and on trend, lots of fun rock memorabilia everywhere. LOVED having a record player in our room and made use of it (and the free bottled water and free Nitro-Brew in the lobby) daily. Very good sushi restaurant on site with live music. Walking distance form the Berklee/Boston Conservatory Campus (and I think Boston University.) Lots of shopping and dining choices extremely close by and, of course, Fenway stadium is right behind the hotel if you are in Boston for a game. Great staff,'],\n",
       " ['Let\\'s get the negative out of the way with first. Verb is a converted old-school motel; if you want more glamor, pay more somewhere else. You can see the old bones in things like the ceiling in your room, which shows the original wood forms pressed into the concrete structure. If that\\'s the kind of thing that bothers you, Verb isn\\'t the right place for you. But, if you don\\'t mind that, Verb offers a whole lot. It\\'s got a cool and funky vibe that isn\\'t TOO cool and funky; my 18 year old liked it, and so did I. The rooms are clean, the mattresses are comfortable, and the bathrooms very nice. The people are friendly and helpful. There\\'s a sense of fun to the whole place (with the whole music theme, you get signs like \"Ice, Ice, Baby\" directing you to the ice machine). The'],\n",
       " ['Love the Verb hotel and the whole music theme. The record players in rooms and vinyl library are a delightful touch. Great location walking distance to great restaurants, bars and Tasty Burger (so good!!). Great for visiting college parents or baseball fans. (Seconds from Fenway.)'],\n",
       " ['The Verb is, without a doubt, my favorite hotel in the city. My husband and I have stayed there a few times, and it’s always stellar: the rooms are fabulous, the location is amazing, and the staff is delightful from check in to check out. We had tickets to go to a concert at Fenway during our last stay (August 5), which happened to be the permanent roommate’s birthday. When I booked, I opted for the All You Need is Love package, but forgot to call the day before to set up a time for the chocolate and rosé to be set up. When we got back from the show, Tom (who I believe was the manager on duty) told me not to worry and showed up with the goods - the chocolate, the rosé, *and* a Beach Boys album that my husband and I bought on CD the weekend we got engaged. It was hospitality to'],\n",
       " [\"The Verb hotel was an amazing stay! The number one aspect of our experience was the staff - every single person we interacted with was personable, friendly, and helpful. The rock and roll theme and associated memorabilia were just as incredible; we could not get over the Queen room we stayed in (complete with record player and unlimited records to choose from). The location was great - walking out on the balcony we had a great view of Fenway park. Lots of great restaurants nearby! Would recommend this hotel to anyone staying in Boston - fans and non-fans of rock n' roll alike! BOOK NOW\"],\n",
       " ['Pros: literally across from Fenway, a salt water pool, super friendly staff, unique hotel decor. Cons: even though the decor is unique the rooms offer average amenities, hotel bar closes early, expensive (stayed 8/24/21 and the room ended up being over $400, high end pricing even for Boston)'],\n",
       " ['The location, musical theme, and breakfast were all solid! We were able to get a last minute ticket to a baseball game, had fantastic food near by, and the breakfast actually had protein options (not just a carb fest) -- wonderful value'],\n",
       " ['1st floor at door 123 the hall squeaks you know what I’m talking about…super cool friendly staff can’t beat the location…selection at breakfast was very good the smoothies are worth it…is the pool heated???'],\n",
       " ['The Verb is amazing! I mean, Nitro coffee ON TAP in the lobby 24/7?! Yes please! Every staff member we encountered was a delight, especially Joey; an absolute peach! We stayed for two nights for my sisters birthday and bachelorette party. Continental breakfast was perfect for grabbing a quick bite. We stayed during “hurricane” Henri so we weren’t able to utilize the pool but we had a balcony room overlooking the pool so good enough. Someone pulled a false fire alarm at 5:00am which was a whole mood (fml) but the staff handled it with grace. We went out to several local bars and restaurants, Lolita was the BEST! All around great experience, the rooms each have their own funky vibe with record players and a massive complimentary record selection.. and did I mention the Nitro'],\n",
       " ['1st impressions are everything! Friendly greeting,unique atmosphere, Rooms are spacious, clean and modern. Love the Bigelow products for shower & after shower. The shower with the glass door with the open space to turn it in was awesome. I would stay there again and recommend to others.'],\n",
       " ['The crew at the Verb were great. Thanks to Aracely, Amalia Vasquez, Cisco, Joey Jordan, Tom, and I’m sorry I can’t remember the rest of your names. You made the stay easy and pleasant. Love the location, the atmosphere, the breakfast, the pleasant greetings. Rock on!'],\n",
       " ['We loved the rooms and the atmosphere. The staff was excellent-friendly and so kind. Loved the cold brew! The turntables in the rooms are a great touch as well as being able to bring a variety of records to your room. Blanca left outer room near and tidy!'],\n",
       " ['I have stayed at the Verb several times with some friends it has always been a great experience. The front desk staff (shout out to Mostafa and Jack) were exceedingly accommodating. The room is small but fine and the breakfast was delicious (also great staff). The smoothie was awesome! We look forward to our next stay.'],\n",
       " [\"My family and I spent two great evenings as guests at The Verb and feel like we left as family. What a great little hotel gem. Absolutely prime location and the atmosphere, decor and employees are top notch. Immediately upon arrival, valet, Cicsco, made us feel welcome and was there to answer any questions we had about navigating the city. Hope to return here again. If music is your thing this hotel is a must! Also, it's right next to Fenway Park.\"],\n",
       " ['We booked this hotel last minute while visiting Boston for a Red Sox game. I was a little apprehensive because we were traveling with little kids and this is a “rock n roll” hotel. I was very wrong! The staff was accommodating and kind. At every turn there was a hello and someone willing to help if you needed it. The rooms were clean and comfortable! Amazing stay!'],\n",
       " [\"I cannot say enough great things about The Verb. From the moment we checked in, the staff made us feel like VIP rock stars! Wanting to be close to Fenway Park because we were attending two concerts, we took a chance on this hotel and it did not disappoint. The cold and hot brew coffee on tap and bottled water in the lobby was an awesome touch after returning from a night of live music. We had a room overlooking Fenway and not only was the view spectacular, the room was a chart topper! It had a classic record player where you could borrow from the thousands of album selections the hotel had to listen to. The puns on the amenities added that extra special touch. They did not miss a beat when it came to the little things. The only disappointment was that we didn't stay longer\"],\n",
       " [\"Absolutely loved our stay. Front desk staff was very friendly and helpful. Our kids loved the heated outdoor pool, they are still talking about it. We got a free short live concert from Guns'N Roses. They did a soundcheck at Fenway for their next day concert. Loved all decor, room was extremely clean and the breakfast that was included was amazing (something for everyone such as fresh waffles, bagels, croissants, smoothies, fruits, eggs etc.). The two breakfast ladies were amazing! Will definitely stay there again!\"],\n",
       " ['The Verb is a unique hotel and if you are a fan of supporting small businesses and shopping local then you definitely want to consider staying with them. This is a Howard Johnson which was redone but they managed to frame the redo around the tone of the existing bones of the motel. If you are a music fan then this is an absolutely joy of an experience. Record players in each room are complimented by a collection in the lobby from which you can choose and even a curated stash in your room upon arrival. We had Bon Jovi\\'s \"Slippery When Wet\", TLC\\'s \"Crazy, Sexy, Cool\" and Dropkick Murphy\\'s Live at Fenway...perfection as far as my family was concerned. Room was clean and layout is general. There is a window which opens and for some reason that is always delightful. We had a view of'],\n",
       " ['Sisco was a great staff member working at The Verb . He greeted us with a huge smile, welcomed us back, and asked why we were staying….of course for the Fenway concert! Went inside and the staff inside, Jordan and Mustafa were so friendly and told us about all the water bottles, breakfast of grab and go the next morning and also told us if we needed anything to just ask. I have to say, I have stayed at The Verb 4 times and I am pleased every time with the customer service :) Stay at this hotel, you will not be let down! Thank you all so much! Till next time :)'],\n",
       " ['We rented two rooms to stay in after a concert at Fenway. The hotel was great and really added to our experience! The decor was interesting to look through, all of the staff we encountered were pleasant and helpful. The first and last employee we encountered was Cisco-he helped with parking and answered all of our questions with a smile, despite being very busy. We definitely would return for another show!'],\n",
       " [\"We visited Boston for 2 days to go the Green Day/Weezer concert at Fenway. I booked the VERB thinking it looked pretty cool from their website, but honestly the website doesn't do it justice. The theming is on point, the staff is amazing and the restaurant attached is an absolute must! Everything from the fantastic breakfast to the vinyl were above and beyond. Can't say enough about our stay other than that we can't wait to come back. It's very kid friendly as well. Pro tip: get a fenway facing room. We got a free Billy Joel concert from our window the night before Green Day/Weezer!\"],\n",
       " [\"I recently won a contest that The Verb had and was excited to finally stay at this unique boutique hotel. I've been wanting to visit since I first discovered them on Instagram last year. Winning this contest finally gave me the opportunity. From the moment I walked into the lobby I was greeted by friendly, upbeat staff who were genuinely happy to check me in. I've been to hotels where the staff are just going through the motions. Not here. From the front desk to the valet to the girls serving breakfast, it is obvious that the staff at The Verb love their jobs. We had the Deluxe Aerosmith suite and it was decorated with all sorts of cool memorabilia, a record player connected to a small marshall speaker and a balcony view of Fenway Park. We could choose from a large\"],\n",
       " ['I had a sisters vacation at the verb and we are already wanting to go back! The vibe is chill and the staff is so accommodating and welcoming. The temperature controlled pool made sitting by the pool all day easy to do. The hotel is centrally located to restaurants and bars. The rooms and balconies are spacious making it a perfect spot to relax!'],\n",
       " ['It was everything I had hoped for in booking my 1st Trip to Boston !! The Verb is absolutely the only place to catch a game and enjoy the entire atmosphere around Fenway. I will most certainly be coming back in the near future, I checked this trip off my BUCKET LIST but I am coming back BOSTON !!'],\n",
       " ['Our 1st visit will not be our last! The vintage atmosphere was refreshing. Thoroughly enjoyed the heated saltwater pool. Loved the vinyl record collection we could play in our rooms. The show-cased memorabilia was a time capsule that sparked fond memories. Even the 1947 Greyhound-converted camper was a thrill of its own. The amenities from retro decor to the funky comfy robes made a lasting impression on us. But what really topped our charts was the fantastic friendly staff. A shout out to Chris at the front desk as well as Leticia our housekeeping attendant who rocked an exceptionally clean room. We look forward to our next stay at the Verb. Carolyn & Steven Bueno'],\n",
       " [\"This place rocks, literally. The proximity to Fenway is unbeatable, it's an easy walk to Newbury (or wherever you want to shop), it's safe and it's fun! The free breakfast was more than enough...and you can eat poolside.\"],\n",
       " ['Hotel is in a fantastic location in the Fenway neighborhood of Boston, right next to Fenway Park. Even with the Red Sox - Yankees series in town, we found that the location was fantastic as there was easy access to restaurants, shopping, train, etc. They allow families but just feels like a better fit for a couple.'],\n",
       " ['Super cool place, nice room and shower, clean and convenient. Very friendly staff that was a pleasure to chat with. Enjoyed the music and pool. Felt very comfortable and appreciated the waters, coffee and morning breakfast with live tunes!!'],\n",
       " ['We LOVED our stay at the Verb Hotel! It is located just behind Fenway Park, and we chose it specifically for this reason. BUT, it did not disappoint in any other category! We loved the staff--all of them. They were all very friendly and accommodating. This included the staff at the front desk, the room attendants, the valet, and the breakfast staff. EVERYONE was amazing! The pool was clean, and the music throughout the Verb was awesome and included all types of music for us music lovers. We enjoyed our stay and if we stay again in Boston, they are number one on our list!! Thank you Verb!!'],\n",
       " ['Absolutely loved our stay at The Verb. The hotel itself was adorable -- loved the decor and the music theme. The fact that you could take classic records back to your room and play them on your own record player located in the room was so fun!! The pool was insanely cool and the on-site restaurant one of the best meals I had on my vacation. Complimentary breakfast was generous. Location was decent -- the only way to get any closer to Fenway Park would be inside the stadium itself. Use the app Parking Whiz to access cheaper parking. We found safe 24 hour parking within a 5 minute walk from the hotel for $25.'],\n",
       " ['Awesome stay awesome theme everything was amazing the pool was awesome the employees were so friendly and hospitable such a cool experience and great selection of music very quiet and comfortable sleep and tasty breakfast'],\n",
       " ['What a wonderful hotel! We love the personal attention and care. Such a special place and we can not wait to get back to Boston, also telling everyone about it! Thanks again for such a meaningful trip !'],\n",
       " ['I had an amazing time on my staycation at The Verb. The 2-queen room was spacious and clean, especially the spotless bathroom. I love the overall design scheme of ‘70’s punk/rock & roll subculture. The record players in every room with the library of records in the lobby to choose from was a genius touch. The pool area was great, my meal at Hojoko was excellent and the complimentary breakfast was the best setup I’ve seen since covid- very smart setup. At the front desk, Olivia was wonderful- she recognized on the phone that I was a local on a staycation and went way out of her way to make sure I had a good time during my stay, from an early check-in to ensure I had some extra pool time, to a complimentary room upgrade, she really went the extra mile, while offering good advice'],\n",
       " ['Wonderful location. The staff are professional and super helpful. Very fun place for families. Nia Jack and Olivia were fantastic and made our stay so fun. They welcomed us when we came in at 1AM with clapping and great big smiles . We felt very welcome and it kicked off a great two night stay.'],\n",
       " [\"We loved staying here for 4 nights while visiting our son who lives in the area. It was our first hotel stay since COVID started. This hotel is like walking through a Rock and Roll museum! The breakfast was FABULOUS also. Staff were all so friendly. Safe and walkable area. The beds were super comfortable and the hotel was surprisingly quiet at night (and we are super picky about that). Loved playing some vinyl LPs in the room too. Also fun having my picture taken right underneath Mick on that yellow couch in the lobby! Highly recommend this hotel. The only surpise was the $25 fee per night, but that's because I didn't read the fine print when booking online. Rock and Roll, Hoochie Coo, right on!\"],\n",
       " ['Loved our stay! Awesome place and attention to detail! The breakfast was awesome, the rooms fabulous and all the amenities. The staff was so lovely and helpful- we ate at the restaurant on property and it was delish. We can not wait to come back!'],\n",
       " ['We stayed 6/29-7/1 and had a great experience. You will not find a better staff. Everyone was so welcoming and fun to be around. It’s right next to Fenway park. Aracely cleaned our room and did a phenomenal job! We will stay again.'],\n",
       " ['We just returned from a four night stay and cannot recommend the place enough! From check in (and out) with Jordan, the stay started out excellent and stayed that way the entire visit. From the amazing music vibe and memorabilia, the the very retro and fun rooms (including your own record player, with access to a huge library of loaner records, a vintage typewriter and a clutch fan for those of you that are used to blasting your ceiling fan at night! The location was great if you are going to a Sox game! We had a room that had a view of Fenway, and actually opened our window one night and listened to part of the game while we watched in on our in room flat screen TV with the sound muted. The rooms were very clean, so a shout out to Karen who took care of ours! The game we did'],\n",
       " ['We had a amazing time staying here for a Red Sox game. The musical theme was on point. The record players and LPs in the room were such an awesome touch and the free nitro coffee in the lobby was also a big hit!! We will be staying here whenever we’re in Boston. Super fun and super friendly!'],\n",
       " ['Visiting Boston with our teenage son. We all loved this place. Music/rock vibe is fun, pool lovely on a sunny day, great location next to Fenway, not far from the Charles, and 3 blocks to Fen park with paths, a track, b-ball hoops, and a beautiful rose garden. Breakfast was amazing and Amalia prepped waffles, bagels, and smoothies with a smile! Employees all seemed happy. Thomas at checkin also was positive and always helpful. Really enjoyed dinner at Hojoko too- great cocktails and interesting food. Was worried slightly about party atmosphere at pool but it was always shut down right at 10 to ensure all guests can have a good sleep.'],\n",
       " ['This pillow saved my back. I love the look and feel of this pillow. Good padding and nice quality.  I love the feel of the fabric.  I would buy again'],\n",
       " ['Missing information on how to use it, stupid but it is a great product for the price!  I These are so flimsy! They are not the quality you would expect from a piece of furniture.'],\n",
       " ['Very nice set. Good quality. We have had the set for two months now and have not been horrendous and mad'],\n",
       " ['I WANTED DIFFERENT FLAVORS BUT THEY ARE NOT. Nice but the size of the containers is a little small.Very pretty.'],\n",
       " ['These do fit well and look great.  I love the smoothness of the edges'],\n",
       " ['My son loves this comforter and it is very well made.  God We also have a baby She also loves it very much'],\n",
       " ['Very handy for one of my kids and the tools are included in the package. I have one in perfect size, an easy to use and efficient'],\n",
       " [\"Makes may tea with out stirring. The only problem is that it's kind of hard to put\"],\n",
       " ['Love this!  Perfect size for an entire family! Very good quality.'],\n",
       " ['Exactly what you would expect. I love the look and feel of this pillow. Fits well and seems to last a long time. Very good quality.'],\n",
       " ['Does not do a very good job; difficult to use. Not good quality product. Returned and exchanged twice now. Over it.'],\n",
       " [\"frame was beautifully crafted and looks great with my picture. Nice and easy to assemble, it serves it's purpose both functional and aesthetically\"],\n",
       " ['SOOOOOOO cute. I love them. Adorable. Well made and totally worth the price!! Purchased as a Christmas gift.  She will love it.'],\n",
       " [\"Great product, does it's job well holding my lunch several days a week. A little pricey for what it is.\"],\n",
       " ['Does the job, but nothing special. Not hard to install.'],\n",
       " ['Item as described and arrived in a timely manner.'],\n",
       " ['Made well holds all my make brushes, pencils, mascara etc. It was as exactly decribed as it was shown on the picture. '],\n",
       " ['These are so weak and worse. They barely bring in any air. THEY NEED TO BE MORE RESILIENT AND STRONGER.'],\n",
       " [\"Great set of glasses!  Good quality, comfortable to handle. Good price and I've gotten many compliments.\"],\n",
       " ['Nice and contemporary. Great for the price. Easy to assemble. Beautiful little set!  Nice colors.  Love the colors!  Love that they are bright'],\n",
       " ['HYATT IN KOH SAMUI! Fantastic.Beautiful location'],\n",
       " ['Bettwr then the westgate timeshare i own. I rent that pos out and stay at the hyatt when in orlando. '],\n",
       " ['Stayed in orlando and it was amazing. Very clean and friendly staff. '],\n",
       " ['We have been Hyatt vacation club owners for nearly 20 years. With the pandemic and lockdowns we’ve not used them for the last 2 years( very understandable). Unlike U.K. companies that have tried look after people after holidays have been cancelled by ensuring refund'],\n",
       " ['We stayed at the Grand Hyatt - Amman hotel in Jordan and it was a highlight of the holiday. Nice to relax after a hot dusty day at the spa and two pools. Everything was empty due to covid 19  which added to the luxury and feeling of space.  Staff were excellent. '],\n",
       " ['Stay here for consistent quality - and for slightly less than the rest'],\n",
       " ['We were transiting through Charlotte'],\n",
       " ['We stayed at the Hyatt Centric on Murano recently and felt thoroughly pampered from beginning to end. Wonderful location'],\n",
       " ['Two days of trying to adjust a work trip reservation. multiple phone calls with over then 40 min waits and nothing resolved. I will never use Hyatt for any personal trips in the future. Just insane that you cant change a reservation with online chat. Best advise is to stay somewhere else then have to deal with Hyatts lack luster of customer service '],\n",
       " ['No hotel room is big and the Buffay but I do not like the color of the pool and the smell of it'],\n",
       " ['Hotel in morocco was amazing. Present in the heart of city'],\n",
       " ['he Buffet at this palace was amazing. One of the best location and buffet'],\n",
       " ['The Parking lot of the hotel was very nice. It infact made the hotel standout'],\n",
       " ['very niceeeee']]"
      ]
     },
     "execution_count": 216,
     "metadata": {},
     "output_type": "execute_result"
    }
   ],
   "source": [
    "list_new"
   ]
  },
  {
   "cell_type": "code",
   "execution_count": 228,
   "id": "c82df64c",
   "metadata": {},
   "outputs": [],
   "source": [
    "list_new1=[]\n",
    "for i in list_new:\n",
    "    list_new1.append(str(i).replace(\"[\",\"\").replace(\"]\",\"\").replace(\"'\",\"\").replace('\"',\"\"))"
   ]
  },
  {
   "cell_type": "code",
   "execution_count": 229,
   "id": "38349fa5",
   "metadata": {},
   "outputs": [
    {
     "data": {
      "text/plain": [
       "['\\\\ufeffAll was great',\n",
       " 'Placed order and very quick delivery',\n",
       " 'Was great thank you',\n",
       " 'Great support and help through the entire process.',\n",
       " 'Great and very quick help with refund!!!',\n",
       " 'Always love my seasonings! Fast delivery and great taste!',\n",
       " 'Size came back great',\n",
       " 'Easy to find the part I needed which was delivered quickly.',\n",
       " 'Chat Agent-was very helpful!',\n",
       " 'Great Company and Great service',\n",
       " 'Fast delivery & what I needed',\n",
       " 'Hi... after my review Specsavers solved my issue.',\n",
       " 'Fantastic service with a personal touch which was nice. Thank you!',\n",
       " 'SMM Panel is a Social Media Marketing website. I was delighted with this and the excellent service it provides.  thank you very much for this.',\n",
       " 'I have been using Spreaker for at least 5 years. My only complaint is that they need to not give our payments later than the date its due.',\n",
       " 'World of Books did an oustanding job. The book arrived in fine condition.',\n",
       " 'Terrible quality for a high priced item. Took a long time to get it. No returns because its a foreign based company. Beware!!',\n",
       " 'Very pleased with our settees. Very helpful all the way through as always. Thank you.',\n",
       " 'This is a great and best website to use. I am very satisfied with the services provided. Thanks for everything.',\n",
       " 'Lovely door knobs. Beautifully wrapped and speedy delivery. Really pleased with them. Thank you',\n",
       " 'The product was great, the quality was good, fitted properly.',\n",
       " 'Little bit small and long',\n",
       " 'I love this top. I am obssesed with the colour brown.',\n",
       " 'Ordered both colours, I love them',\n",
       " 'l Love this beanie so much, it sags just right. Been searching for one like it for a long time.',\n",
       " 'Auto ships works great. I have it timed to arrive just when we are on the last bottle.  They have been good about working with me to set up a schedule for auto delivery',\n",
       " 'Service Was good!!! And Delivery was on time.',\n",
       " 'Will always use this service! Great products!',\n",
       " 'Great products and great service',\n",
       " 'A friend recommended this page to me because the supplements they sell are very effective in boosting my immune system. And just as I thank my friend for telling me about this I also thank BetterWayHealth for the fantastic supplements that have helped me and for the kind service provided',\n",
       " 'Very happy with products and delivery',\n",
       " 'The products were very helpful in getting my supplements level to the point',\n",
       " 'Always great products and great service with Better Way Health!',\n",
       " 'Health is wealth.Very good experience and totally satisfied.',\n",
       " 'Great Products and also satisfied with the service.',\n",
       " 'It would be helpful if they could improve the payment services.',\n",
       " 'Had trouble navigating website and accessing discount code but a nice rep followed up and helped sort it out. Thanks.',\n",
       " 'If the delivery is within the expected time  it would be nice. Bit frustating if the order is delayed.',\n",
       " 'Everyone is always helpful.  I had to change  payment methods and delivery dates and it is always a pleasure to talk to them.',\n",
       " 'Have been using Better Way Health Beta Glucan consistently for 3 years. Love the product backed up by scientific research. Ordering is a breeze & their text notification pre-auto shipment makes it super easy if I need to amend my order. Great customer service. Also recommend the Vitamin D & Curcumin.',\n",
       " 'Poor Service',\n",
       " 'Excellent service',\n",
       " 'Premium quality of supplements. Great Shop would recommend this store to my friends',\n",
       " 'Easy to order and the text message from Better Way Health is great way for me to monitor or adjust future ordering.',\n",
       " 'Products are Good but it would be nice if some improvements are made in the way to order. ',\n",
       " 'Best phone service. They have all your info right there to help you place your next order. All representatives Ive dealt with over the years  have been very friendly.',\n",
       " 'The customer service was so good and it was so helpful.',\n",
       " 'The benefits of better health supplement is to get you in tip top shape.',\n",
       " 'I couldn\\\\x92t get my phone to purchase my items  so I ended up calling.  I got excellent help and was able to finish my order.  She was very helpful in helping me order the right items for my situation.',\n",
       " 'This company is a must-visit for everyone on a diet who wants to try a dieting supplement. The Quality of the products were top notch.',\n",
       " 'This company is a must-visit for everyone on a diet who wants to try a dieting supplement. They have a trustworthy  organic and non-toxic supplement and you may choose and choose which vitamins you need based on your health\\\\xa0condition.',\n",
       " 'Some 0f the supplements quality were bad and disappointing.',\n",
       " 'Best hotel everrr!',\n",
       " 'Back at The Verb!',\n",
       " 'We loved Verb & Ryan so much',\n",
       " 'Stay here if you get the chance',\n",
       " 'Best Hotel in Boston',\n",
       " 'Amazing!',\n",
       " 'Heated outdoor pool a must',\n",
       " 'Rock Boston at the Verb!',\n",
       " 'Breakfast at The Verb',\n",
       " 'Fun, funky and fantastic staff',\n",
       " 'Our two boys (5 and 7) absolutely love this place. It’s our second visit and just as good as the first. Amalia and Paula took great care of us at breakfast (magical breakfast feast of all the things banned at home with some healthy stuff to placate the parents) and the vinyl selection is so fun. Now we’re off to jump in the pool again - in November - in Massachusetts…',\n",
       " 'As always, a wonderful, vinyl spinning stay in the Fenway, at The Verb Hotel. Come for the funky atmosphere & vinyl, stay for the wonderful staff & Hojoko restaurant. Crisela will make you feel welcome at Breakfast and Audrey takes care of everything else!',\n",
       " 'This hotel is beautiful, service is amazing. Ryan is one of the best workers here. We loved him! so friendly and all around cool guy. Also shout out to Chris too. Thank you Verb for the lovely experience, will be back soon xx',\n",
       " 'Staff was warm and exciting the minute we stepped in. The ambiance was as cool as it gets. It’s like you step into a time warp that somehow includes the 50s through today. Staff and room cleaning was more than accommodating. Super fun location right by Fenway and only a short Uber to and from popular spots. Couldn’t recommend this place enough.',\n",
       " 'What an amazing, funky place to stay! We loved our experience at the Verb Hotel in Boston. ALL of the staff was super friendly, knowledge and cared about our trip and our experiences while we were in Boston. We loved the vinyl library and having our very own record player in our room! We were in town for a show at the House of Blues, easy walk from the Hotel and plenty of places to grab yummy food nearby. Well be back for sure!',\n",
       " 'Our stay was absolutely wonderful! We loved this hotel! Everyone was so nice we especially liked Cisco and Mustafa! They were so accommodating and gave good advice which helped since we had never been to Boston. We would definitely stay here again!',\n",
       " 'very unique hotel and a plus for the kids because there’s an outside heated pool. It was heated to I think close to 90° or maybe 100 which was needed especially if you’re visiting this hotel in the month of February. Not a fan of the breakfast at the diner attached to the hotel but the hotel is located in Fenway so many options for you to choose from. The front desk was very patient, friendly, and helpful. I had such a great time that I booked for another two nights in a month of April with my husband.',\n",
       " 'The hotel was so fun and had such a great vibe. It was decorated retro music complete with a record player in your room and records in the lobby available for you to listen to in your room. The room was well equipped and had clever touches throughout. In fact, the whole hotel had unexpected, original design from signage to your hotel key to the exterior. The service was even better! Our flight was delayed, and they were very accommodating. Every person we dealt with was friendly, knowledgable, and eager to help with anything we needed. Great location too!',\n",
       " 'Amalia and her team made our morning so much better! They were all so friendly, helpful and kind, not to mention the breakfast was delicious!! We will be back just for that alone. They took great care of us!',\n",
       " 'We were in town for appointments at Boston Children’s. I’ve always wanted to try out this hotel. Wish I’d been picking this one every time! Clean, excellent staff, good quality quick breakfast, relaxing in our room with great records to play on the record player was just unique and fun… especially with my young adult son.',\n",
       " 'I was taking my high school senior daughter on a college tour to schools in Boston when I accidentally discovered this gem. I’ve been to many hotels. I’ve almost never written a review, but what an amazing, novel experience this was! In addition to an incredibly friendly staff, the rock n roll vibe and decor is everywhere. Love the record players in every room AND the hundreds of vinyl albums to choose from in the lobby. And electric guitars we could jam on near the front desk? Wow! One of the coolest, best value places one could find anywhere in the country.',\n",
       " 'The complementary breakfast at the Verb is delicious and the attendants are great! (Thanks Crisela Amador.)I had a waffle and a muffin and they both were wonderful. What a fantastic start to a east coast road trip.',\n",
       " 'crislea was very helpful with serving us breakfast and helping us and offering us anything we needed. I got a choclate crossiant and it was really good. i also got a bowl of cereal. It was all very good.',\n",
       " 'Brooked The Verb for a 1 night stay to take my 9yo son to his first game at Fenway. Staff was awesome and the location was perfect. Should have made it a longer stay in Boston but I already had my son miss two days of school for this trip. Absolutely will stay again when I take the rest of the family to Boston. Plenty of food choices near the hotel and in the hotel. My son also learned what a typewriter and record player was thanks to both being in the room. He was amazed at the typewriter.',\n",
       " 'Great stay! Was there for a medical need and staff was super accommodating. In particular a front desk staff went out to the local CVS to buy me some medicine I didn’t have. And they brought my dinner up to my room from the downstairs ramen restaurant. The breakfast staff, Paula and Kristala were super great too! 10/10 would stay again.',\n",
       " 'This was such a great little eclectic hotel... everyone was so friendly and helpful - the evening manager (sorry I forgot his name) to Saulo and Blanca who were both helpful and kept my room clean. My room had a record player - and you could pick your choice of oldies but goodies and bring them to your room... Will definitely return...',\n",
       " 'An exciting hotel to tease your visual and audible senses! The decor, the music, and the vibe was more than we expected. And not to forget the complimentary breakfast! Chisela and her staff made every accommodation so that we enjoyed every bite. Highly recommend the Verb, it was perfect from start to finish! The Lindsay’s from VA',\n",
       " 'My friend and I attended a concert at Fenway and stayed at The Verb Hotel afterwards. The location was great and convenient, the staff was very friendly and nice, the room was clean, and the ambiance was amazing',\n",
       " 'Not only was the location great, but the hotel itself is awesome. Staff was very friendly and rooms were very clean. They even had a record player in every room-totally worth the price!!! If you’re looking for a hotel to stay at for a Fenway event, look no further!',\n",
       " 'This place was awesome. It is a must stay place for music lovers. The staff was friendly and the hotel was very clean and located within walking distance of many of our needs. We will definitely be back!',\n",
       " 'This place was better than I expected. Perfect location and within walking distance of restaurants, souvenir stores, and Fenway Park. The zebra robes were a hit with my husband! Super friendly and helpful staff.',\n",
       " 'The Verb Hotel is such a fun, retro environment! Very friendly staff, including Crisela Amador who served a delicious breakfast, offer a welcoming vibe. Highly recommend a stay at the Verb, especially if you need a quick walk to Fenway Park!',\n",
       " 'Truly the coolest and cleanest hotel we have ever stayed in. So neat and different. The staff is INCREDIBLE. Everyone is so kind and really helpful. Chris the valet was fantastic and always had our car ready quickly. 10/10 recommend staying here if you get the chance. Best hotel experience in Boston.',\n",
       " 'hi, i’m korean. i can’t speak english very well. this hotel giving for us very nice night. so If I come to Boston again, I will come to this hotel. Especially the curly-haired male staff, thank you for being so kind to me.',\n",
       " 'Our stay was awesome! We stayed at the Verb so we could be with in walking distance of Fenway! The room was clean, we had free breakfast, free coffee, and even had a couple discounts for local restaurants when you showed them your room key! Overall we had a great time and would definitely stay at the Verb again!',\n",
       " 'This hotel is the full rock ‘n’ roll experience, from the mid century modern meets rock ‘n’ roll lobby to the clean lines minimalist modern room decor, our stay was top notch. There were some really cool little details like free 24 cold brew in the lobby, to the bottle of champagne delivered to my room because it was my birthday, to the zebra rock ‘n’ roll robes, and the most unique thing was the in-room record player and the huge library of vinyl that you could choose from to bring up to your room The location also cannot be beat, a few minutes walk to the green line train and Fenway Park was right out my window! So very cool!',\n",
       " 'Cool place. Great location. Clean and comfortable. Friendly staff. Lots of great music memorabilia. Pool looked nice but we didn’t use it. Valet parking and amenities fee is going to run you an additional $100 bucks per night. Just an FYI.',\n",
       " 'Where do I even begin? This place is like a rock stars dream come true! And if you are dreaming of the Rockstar life then look no further! From playable guitars in the lobby to a heated salt water pool! You feel like you just went backstage after your own show! There are even record players in each room and a FULL ASS SELECTION of LPS to choose from if you feel the need to rock out in your room! Or you can stroll the halls and check out all the memorabilia that they change out to keep it fresh or read the names of all the famous peeps that have stayed here that Aretha Franklin is singing out Witten on the wall near the lobby. Im writing this out right now sitting out front while there is a band playing in fenway that I can hear is clear as if Im in the venue. This isnt my',\n",
       " 'This rock and roll themed hotel is right behind Fenway Park - it took us 2 minutes to walk there. Easy valet parking and in minutes we were sitting on our balcony listening to the tunes of Stevie Wonder as we had a pre-game cocktail. Upon check in, they upgraded us to a deluxe themed room! We stayed in the Led Zeppelin room, which had authentic memorabilia from the band covering the walls. There are record players in each room with a collection of albums in each room, but there is also a large assortment of albums from which to choose from in the lobby. The atmosphere in this place is awesome - trendy, hip and fun. The lobby has nitro cold brew and hot coffee on tap and unlimited water bottles available to guests. We didnt know this upon arrival, but it is a dog friendly hotel!',\n",
       " 'Every employee, every visitor all were so nice! Check in and out were easy, valet parking was great. Record player and records in the rooms were so fun, and the pool was heavenly. The walk around the building to be at the Red Sox game couldn’t have been easier! Can’t wait to go back!',\n",
       " 'Great location. Not sure how noise levels would be if there was a baseball game going on as we were literally a stones throw from the back of Fenway park. Consider carefully if you are going to have a car because they charge $65 a night to park your car there. We were fortunate in that we found a garage across the street in the new condo building that was allowing non-condo owners to park there for hourly fees, and ended up spending a total of $55 over 48 hours, even though we came and went multiple times. This was in late August 2021, but that situation may change. If you’re just walking and Ubering around, I definitely recommend this place. It was special— the music-themed touches were really fun. The staff and service were very good.',\n",
       " 'We stayed at The Verb for a Sox game so we didn’t have a late/long drive home and my only regret is that our stay wasn’t longer. I was worried about having our five year old twins but once we checked in, I realized it was more family friendly than I anticipated. The rooms were so clean and they’d even left a Disney vinyl on the record player in our room; no detail spared. We took a quick dip in the pool to cool off before the game and it was great. No complaints!',\n",
       " 'My first time at the Verb! Not only is the vibe fun with a real record player in your room, the staff was over the top nice and accommodating. I’ll be staying here when I return to Boston! Also don’t miss out on the coffee in the lobby. So good.',\n",
       " 'We loved our stay for many reasons. First, close to Fenway for a Sox game, best and most festive breakfast around with amazing live music, great employees from the front desk/Producers to the breakfast crew! We would stay there again in a heart beat!',\n",
       " 'Groovy, clean (there is always someone cleaning somewhere - and it smells wonderful), cool as s%#+, fun, friendly staff. Definitely choose from the 1500 vinyl options for your in-room turntable. We were there for 3 consecutive nights of games at Fenway - it’s busy, but great to be in the middle of it! Expensive overnight parking - choose the garage around the corner.',\n",
       " 'Fun boutique hotel with outdoor pool and view of Fenway. Staff could not be friendlier. Breakfast buffet was excellent with lots of variety. Smaller rooms but well designed. Love a hotel who thinks of an extra blanket. Also best robes ever in a zebra print with Verb logo. Complimentary coffee and water. If you love Rock and have a great sense of humor this hotel is for you. Pet friendly as well.',\n",
       " 'Our one night stay for a Red Sox game turned into a mini vacation. The Sox lost but we won, with a great stay. All the staff were fantastic and the complimentary breakfast was way beyond average. I highly recommend this place and will be back for future games',\n",
       " 'This used to be the old Howard Johnsons. IT is such a fun hotel. Unique atmosphere/retro and colorful decor, very friendly staff, had fun playing assorted records on the turntable. Unlimited water bottles and cold nitro brew coffee on tap 24/7. The room is very clean, bed is very comfy (thank you BLANCA!). Hojoko, the next door Japanese restaurants, is excellent for its food and jelly sake. There are also lots of restaurants around within walking distance. The parking is a bit steep at $65/day, but it beats running to meters all day or trying to find a parking spot without being stressed out. Also, it is right next to Fenway Stadium. The valet people are incredibly nice and will run out to get your car in no time. The continental breakfast is excellent with plenty of delicious',\n",
       " 'We had such a great time at The Verb! If you are sick of every hotel looking and feeling the same, it’s time to try a boutique hotel, and if you are in Boston you have to stay at The Verb. It’s right next to Fenway Park, so it would be a great way to stay over if you’re at a game that runs late. The Rock ‘n Roll theme is fantastic, and the friendly staff carry it off well. Joey, who checked us in was super friendly and welcoming, and Cisco, the valet, was really cool. We drove up into the wrong driveway, but he took care of us anyway. He also showed us around the vintage Flxible bus in the Verb parking lot --amazing! Cisco is a nice guy, and he has a great playlist.* We enjoyed the pool, but most of all the general vibe, even just getting the hotel key (er, I mean',\n",
       " 'I stayed with my family for 3 nights and was very impressed with Saulo and his team, what a great job they did! The room was very clean and the housekeepers was very pleasant. My daughter loved the turn table in the room. Plaining on returning soon.',\n",
       " 'We came for my son’s 11th birthday to go to a game at Fenway. It was a perfect weekend! Chris Sale pitched for the first time since his surgery and we loved the hotel! So much fun. The kids loved the pool and the records! Mom loved the Nitro on tap 24/7. The breakfast was great and the rooms were clean. I plan to come back and stay for Boston Calling in 2022.',\n",
       " 'this Hotel is hyper.',\n",
       " 'This Hotel works certainly well. It perfectly improves my mood by a lot.',\n",
       " 'heard about this on gypsy jazz radio, decided to give it a try.',\n",
       " 'Really good. No matter where you go, Hotel is the coolest, most happening thing around!',\n",
       " 'Thanks guys, keep up the good work! I love your system. Thanks to Hotel, weve just launched our 5th website!',\n",
       " 'I cant say enough about Hotel.',\n",
       " 'I would like to personally thank you for your outstanding product. Its really wonderful. Wow what great service, I love it!',\n",
       " 'I dont always clap, but when I do, its because of Hotel. Really good. Hotel is great.',\n",
       " 'We cant understand how weve been living without Hotel.',\n",
       " 'Hotel is both attractive and highly adaptable. Hotel did exactly what you said it does. Hotel is the next killer app.',\n",
       " 'I STRONGLY recommend Hotel to EVERYONE interested in running a successful online business! I cant say enough about Hotel. Without Hotel, we would have gone bankrupt by now.',\n",
       " 'I am so pleased with this product.',\n",
       " 'Hotel is the next level hotel and best management',\n",
       " 'I couldnt have asked for more than this. I will recommend you to my colleagues. The best on the net!',\n",
       " 'this hotel is revolting.',\n",
       " 'I heard about this on dance-rock radio, decided to give it a try. Best Hotel',\n",
       " 'Ver bad service of the managent. Threw my bags',\n",
       " 'Excellent food and tasty also. The chef are very professional and cook very well. Awseome management',\n",
       " 'I recommend this hotel to every one. My husband loved the outdoor seating and pool.',\n",
       " 'Clean hotel with. I spent a week in this hotel when I was on a business trip. It felt Like I was at my house. Nice Food and very close to boston downtown.',\n",
       " 'very nice visit with family over the Halloween weekend. Clean . very responsive staff to all our needs , umbrellas when raining, car, breakfast. thank you to amalia vasquez and crisela amaor for their kind assistance during the breakfast meals, the room staff and front desk. also enjoyed Hojoko next door.',\n",
       " 'Crisela and Amalia were so very nice and very sweet. They had everything prepared and were happy to take special requests, we are very pleased! The smoothies were excellent and they were happy to make them.',\n",
       " 'Pass by this place frequently and didn’t know it was a hotel. Such a cool vibe and experience, most importantly…affordable! Workers were very nice as well. Just wish there were better parking options…other than that i Will be coming back!',\n",
       " 'What FUN! The rooms are clean and somewhat large, the staff is nothing be wonderful and accommodating. They do whatever it takes to make you comfortable. Hats off to the breakfast attendants as well, especially Paula, Crisela and Amalia, nice, professional again doing whatever they can to please. Highly recommend especially if you like rock and roll!! In back of Fenway Park if you a sports fan.',\n",
       " 'Neat boutique hotel for Boston music scene lovers and Boston Red Sox Fans! Record player in every room and a lovely all year round outdoor salt water pool. Complimentary Cold brew and hot coffee at front desk. Modern decor. Very hip and cool music memorabilia!',\n",
       " 'Great first time stay here at Verb!! Everything was great from check in to check out! We will definitely be back. The rooms were clean, comfortable and quiet. Breakfast had a great selection of hot and cold options and was excellent.',\n",
       " 'This is our second time staying here. Hotel is soo convenient to Fenway and Valet parking is a plus. Everyone here has been so friendly and the hotel has a really cool atmosphere. Not luxury but comfortable, clean and cool decor. The restaurant next door has a continental breakfast with a good selection and really lovely people working there. Crisela was so kind and helpful with my kids endless requests.',\n",
       " 'Great room, very clean, had everything I needed. Friendly, laid back atmosphere. Very relaxing. Nice continental breakfast with friendly servers. Right next to Fenway so it will be loud on game nights - bring earplugs if you’re not watching the game. Will stay again.',\n",
       " 'ROOM 109 was comfortable BUT at night the room was lit up like daylight. The curtain did not contain the lights by the pool, we had a very poor night sleep. The room was too expensive for the accommodations.',\n",
       " 'This review is specific to Amalia (breakfast attendant) and the other early AM staff at the Verb. Awesome service! Early flight in got me to the hotel many hours before check in, but the staff checked my bag for me and they had a great complimentary breakfast available right then and there. Amalia was wonderful, answering my questions with kindness you dont often see at 7am. Looking forward to the rest of my stay, and future visits.',\n",
       " 'This rock and roll themed hotel was great. Loved all the posters and other memorabilia. Every room has a turn table and there are tons of records you can get from the lobby to play. Beds were very comfortable. Breakfast was a cut above with excellent baked goods, hard boiled eggs,, fruit, yogurt and waffles - and all served with a smile. Only issue for us was it was a ways from most of our activities which were closer to Back Bay area and convention center.',\n",
       " 'This hotel is everything it advertised and more! The great music theme vibe, the amazing photo ops and the staff are all so friendly. Continental breakfast included :) Crisela the breakfast attendant was the best.',\n",
       " 'This was a college visit trip for us. The hotel is easy walking distance to BU and Northeastern (and many other universities for that matter). Things we loved about the hotel—the staff are really friendly and upbeat, the complementary beverages including nitro cold brew, wide array of breakfast offerings, clean and funky decor, clever rock n roll sayings ALL OVER THE PLACE, generous name brand toiletries in the room (I could’ve left so many liquids at home), Keurig vs the sachet, comfortable bedding and pillows, fun baseball crowd when the Red Sox are in town, walking distance to many attractions otherwise near the train. My teen daughter and I enjoyed our stay very much. I will return.',\n",
       " 'Our first visit and we were totally impressed! Perfect location with Fenway directly behind the hotel, and walking distance to plenty of food (Lorraines) and nightlife (House of Blues). Can walk to BU and Northeastern campuses within 15 minutes. Love the vibrant rock n roll vibe and decor throughout! Each room has a vinyl turntable and a stock of some records but you can take/choose more from the hotels extensive collection in the lobby. Breakfast is included and we had live guitar music during our weekend stay. Outdoor heated pool and variety of outside seating spots to sit with a morning coffee or around the pool. The front desk staff was AMAZING!! All of them! Kind, courteous, helpful outgoing and seem to really enjoy their job and the guests. A breath of fresh air to',\n",
       " 'Crisela was so polite and helpful our breakfast was fresh service was great and quick The verb hotel is awesome and the staff attentive and helpful Everything was clean and delightful This is our second time here and we will be back again',\n",
       " 'My girlfriend and I embarked on a 5+ city east coast tour.The Verb Hotel was easily the most memorable of our lodging decisions. The place is charming and the hospitality was second to none. We thoroughly enjoyed exploring new music with the in room record player. Not to mention, its next door to one of the most revered sporting venues in the world. The only regret was that it wasnt a little warmer during our trip, so that we could have enjoyed the pool. The Verb will be at the top of our list when we make a return trip to Boston.',\n",
       " 'Probably to cool for me, this property is boutique in every sense. Upon entering, we were warmly greeted by the front desk staff as each of them introduced themselves by name. We knew we were in a place unlike any other by the dark walls and rock and roll décor. After we checked in, we were shown the amp that was a refrigerator holding bottles of water for the guests and the vinyl record collection you could borrow from to use in your room which was equipped with a record player. The rooms were nice but I could have used a newer mattress. The hotel located right beside Fenway. We could literally see one of Fenways walls from the small hotel pool. The pool was amazing! They keep it heated to what I would describe as bathwater temperatures. One of the nights that we were',\n",
       " 'My daughter and I (15) stayed here recently. Love!! The staff was great. Helpful. Fun. Kind. Genuinely interested in us and our travel. On site restaurant was amazing. A stranger even helped us with our bag. Back to the vibe... we pulled records from the lobby and played them in our room. Great musical theme and feel. I was a bit concerned about the party vibe but it was low-key and well, so fun. Great Energy! The tour buses were ADORABLE. Wed stay again in a hot minute. My teenager agrees.',\n",
       " 'This is our second stay here and each time they have been professional and fun at the same time . Their music theme is a real plus and adds so much to the atmosphere. It’s appealing to a variety of age groups. The rooms are a good size and have all the amenities you could want including a turntable and speaker!',\n",
       " 'We booked a two-night stay and were impressed that the theme of the hotel is clear but not overbearing. Parking is a bit outrageous at $65/day. Understandably, parking is a luxury in Boston, but it would have been nice to have a slightly better rate, considering the price of the room was almost $250/night. Complimentary breakfast was surprisingly good - they had a nice spread of fruit, waffles, oatmeal, cereal, bagels, toast, smoothies, coffee/juice/tea, etc. Room was very clean, check in and check out were quick and easy. We would stay at this hotel again, but would recommend not bringing a car if you can avoid it. Ubers around the city are cheap, and many things are within walking distance.',\n",
       " 'This is not our first time nor will it be our last! We have a son in college nearby the Verb. It is so convenient. An amazing boutique hotel that is always clean and friendly. The complimentary breakfast always is just enough. Tom at the front desk always goes above and beyond to be personable. Makes a huge difference! This was about our 8th time staying and We look forward to returning very soon.',\n",
       " 'Needed a last-minute room for the night when going to a Sox game and The Verb did not disappoint. Its location, literally feet from Fenway Park, is ideal. What’s not A deal is the cost— over $600/night + taxes + parking fee, but it was a busy Sox/Yankees weekend and I was in a bind. Too much $$ BUT the friendly staff and great room made up for it, and they very generously gave me a small discount and a late checkout 🙌 Really comfy king bed, huge TV w/lots of channels, huge bathroom and the cool rock ‘n roll paraphernalia give the rooms and the whole hotel a great vibe. Big kudos to the GM Paul and the front desk staff who really helped me (& my dog!) when I was in a rush, and even bigger kudos to the super-friendly and helpful valet staff, James & CISCO!! Thank you guys!',\n",
       " 'Our second time staying at the Verb while attending a Red Sox game. It couldnt be better. The location is perfect, the people at The Verb work hard to make your stay fun. And if youre a Rock n Roll fan, it doesnt get any better!',\n",
       " 'We stayed here for a Red Sox game, the park is literally 100 feet from the hotel. If you like a little old school Rock and Roll with a Modern flare, this is the place for you. Rooms were clean and comfortable, and the Staff were very knowledgeable and friendly. Definitely 5 out of 5 ⭐️ For us.',\n",
       " 'Great location within walking distance to The House of Blues, which is why we stayed here at the Verb. We wanted a night out and a safe walk back. Awesome vibe, we played records and enjoyed people watching from our room looking into Fenway. Very clean, comfortable bed and pillows, and A.C. Friendly and accommodating staff. We used the valet to park our car overnight for a fee. Can’t wait to stay here again!',\n",
       " 'Fun decor really leans in to the rock-n-roll vibe. Found some really cool music to enjoy. The staff was young and responsive. Always a cheerful greeting when we would get back . Location is good, although most restaurants and bars close early.',\n",
       " 'The hotel is right next to Fenway Park. You can see their theme on their website. They have a few cool twists, such as LPs you can take to your room. Every room has a turntable. I stayed in the Rolling Stones room. Each room has a specific rock-star or rock-star-group imprint. The one thing I didn\\\\t like is the amenities fee, which covers access to the heated saltwater pool, the LPs and unlimited free water in the lobby mini fridge (which looks like a speaker). This wasn\\\\t divulged ahead of time. I didn\\\\t see it on their website. So what are you going to do at check in? Say no... and go look for another hotel? No, you pony up the $25 or whatever it is. Not the most transparent business practice. It\\\\s increasingly used by some hotels but if it\\\\s not clear before you',\n",
       " 'Stayed here with my daughter the week leading up to her dorm move-in day and we loved it. Because of the nature of it being a motor lodge setup (and the large quantity of college students that particular week), the hallways could get a little noisy at times, but it was generally brief. Hotel is cool and on trend, lots of fun rock memorabilia everywhere. LOVED having a record player in our room and made use of it (and the free bottled water and free Nitro-Brew in the lobby) daily. Very good sushi restaurant on site with live music. Walking distance form the Berklee/Boston Conservatory Campus (and I think Boston University.) Lots of shopping and dining choices extremely close by and, of course, Fenway stadium is right behind the hotel if you are in Boston for a game. Great staff,',\n",
       " 'Let\\\\s get the negative out of the way with first. Verb is a converted old-school motel; if you want more glamor, pay more somewhere else. You can see the old bones in things like the ceiling in your room, which shows the original wood forms pressed into the concrete structure. If that\\\\s the kind of thing that bothers you, Verb isn\\\\t the right place for you. But, if you don\\\\t mind that, Verb offers a whole lot. It\\\\s got a cool and funky vibe that isn\\\\t TOO cool and funky; my 18 year old liked it, and so did I. The rooms are clean, the mattresses are comfortable, and the bathrooms very nice. The people are friendly and helpful. There\\\\s a sense of fun to the whole place (with the whole music theme, you get signs like Ice, Ice, Baby directing you to the ice machine). The',\n",
       " 'Love the Verb hotel and the whole music theme. The record players in rooms and vinyl library are a delightful touch. Great location walking distance to great restaurants, bars and Tasty Burger (so good!!). Great for visiting college parents or baseball fans. (Seconds from Fenway.)',\n",
       " 'The Verb is, without a doubt, my favorite hotel in the city. My husband and I have stayed there a few times, and it’s always stellar: the rooms are fabulous, the location is amazing, and the staff is delightful from check in to check out. We had tickets to go to a concert at Fenway during our last stay (August 5), which happened to be the permanent roommate’s birthday. When I booked, I opted for the All You Need is Love package, but forgot to call the day before to set up a time for the chocolate and rosé to be set up. When we got back from the show, Tom (who I believe was the manager on duty) told me not to worry and showed up with the goods - the chocolate, the rosé, *and* a Beach Boys album that my husband and I bought on CD the weekend we got engaged. It was hospitality to',\n",
       " 'The Verb hotel was an amazing stay! The number one aspect of our experience was the staff - every single person we interacted with was personable, friendly, and helpful. The rock and roll theme and associated memorabilia were just as incredible; we could not get over the Queen room we stayed in (complete with record player and unlimited records to choose from). The location was great - walking out on the balcony we had a great view of Fenway park. Lots of great restaurants nearby! Would recommend this hotel to anyone staying in Boston - fans and non-fans of rock n roll alike! BOOK NOW',\n",
       " 'Pros: literally across from Fenway, a salt water pool, super friendly staff, unique hotel decor. Cons: even though the decor is unique the rooms offer average amenities, hotel bar closes early, expensive (stayed 8/24/21 and the room ended up being over $400, high end pricing even for Boston)',\n",
       " 'The location, musical theme, and breakfast were all solid! We were able to get a last minute ticket to a baseball game, had fantastic food near by, and the breakfast actually had protein options (not just a carb fest) -- wonderful value',\n",
       " '1st floor at door 123 the hall squeaks you know what I’m talking about…super cool friendly staff can’t beat the location…selection at breakfast was very good the smoothies are worth it…is the pool heated???',\n",
       " 'The Verb is amazing! I mean, Nitro coffee ON TAP in the lobby 24/7?! Yes please! Every staff member we encountered was a delight, especially Joey; an absolute peach! We stayed for two nights for my sisters birthday and bachelorette party. Continental breakfast was perfect for grabbing a quick bite. We stayed during “hurricane” Henri so we weren’t able to utilize the pool but we had a balcony room overlooking the pool so good enough. Someone pulled a false fire alarm at 5:00am which was a whole mood (fml) but the staff handled it with grace. We went out to several local bars and restaurants, Lolita was the BEST! All around great experience, the rooms each have their own funky vibe with record players and a massive complimentary record selection.. and did I mention the Nitro',\n",
       " '1st impressions are everything! Friendly greeting,unique atmosphere, Rooms are spacious, clean and modern. Love the Bigelow products for shower & after shower. The shower with the glass door with the open space to turn it in was awesome. I would stay there again and recommend to others.',\n",
       " 'The crew at the Verb were great. Thanks to Aracely, Amalia Vasquez, Cisco, Joey Jordan, Tom, and I’m sorry I can’t remember the rest of your names. You made the stay easy and pleasant. Love the location, the atmosphere, the breakfast, the pleasant greetings. Rock on!',\n",
       " 'We loved the rooms and the atmosphere. The staff was excellent-friendly and so kind. Loved the cold brew! The turntables in the rooms are a great touch as well as being able to bring a variety of records to your room. Blanca left outer room near and tidy!',\n",
       " 'I have stayed at the Verb several times with some friends it has always been a great experience. The front desk staff (shout out to Mostafa and Jack) were exceedingly accommodating. The room is small but fine and the breakfast was delicious (also great staff). The smoothie was awesome! We look forward to our next stay.',\n",
       " 'My family and I spent two great evenings as guests at The Verb and feel like we left as family. What a great little hotel gem. Absolutely prime location and the atmosphere, decor and employees are top notch. Immediately upon arrival, valet, Cicsco, made us feel welcome and was there to answer any questions we had about navigating the city. Hope to return here again. If music is your thing this hotel is a must! Also, its right next to Fenway Park.',\n",
       " 'We booked this hotel last minute while visiting Boston for a Red Sox game. I was a little apprehensive because we were traveling with little kids and this is a “rock n roll” hotel. I was very wrong! The staff was accommodating and kind. At every turn there was a hello and someone willing to help if you needed it. The rooms were clean and comfortable! Amazing stay!',\n",
       " 'I cannot say enough great things about The Verb. From the moment we checked in, the staff made us feel like VIP rock stars! Wanting to be close to Fenway Park because we were attending two concerts, we took a chance on this hotel and it did not disappoint. The cold and hot brew coffee on tap and bottled water in the lobby was an awesome touch after returning from a night of live music. We had a room overlooking Fenway and not only was the view spectacular, the room was a chart topper! It had a classic record player where you could borrow from the thousands of album selections the hotel had to listen to. The puns on the amenities added that extra special touch. They did not miss a beat when it came to the little things. The only disappointment was that we didnt stay longer',\n",
       " 'Absolutely loved our stay. Front desk staff was very friendly and helpful. Our kids loved the heated outdoor pool, they are still talking about it. We got a free short live concert from GunsN Roses. They did a soundcheck at Fenway for their next day concert. Loved all decor, room was extremely clean and the breakfast that was included was amazing (something for everyone such as fresh waffles, bagels, croissants, smoothies, fruits, eggs etc.). The two breakfast ladies were amazing! Will definitely stay there again!',\n",
       " 'The Verb is a unique hotel and if you are a fan of supporting small businesses and shopping local then you definitely want to consider staying with them. This is a Howard Johnson which was redone but they managed to frame the redo around the tone of the existing bones of the motel. If you are a music fan then this is an absolutely joy of an experience. Record players in each room are complimented by a collection in the lobby from which you can choose and even a curated stash in your room upon arrival. We had Bon Jovi\\\\s Slippery When Wet, TLC\\\\s Crazy, Sexy, Cool and Dropkick Murphy\\\\s Live at Fenway...perfection as far as my family was concerned. Room was clean and layout is general. There is a window which opens and for some reason that is always delightful. We had a view of',\n",
       " 'Sisco was a great staff member working at The Verb . He greeted us with a huge smile, welcomed us back, and asked why we were staying….of course for the Fenway concert! Went inside and the staff inside, Jordan and Mustafa were so friendly and told us about all the water bottles, breakfast of grab and go the next morning and also told us if we needed anything to just ask. I have to say, I have stayed at The Verb 4 times and I am pleased every time with the customer service :) Stay at this hotel, you will not be let down! Thank you all so much! Till next time :)',\n",
       " 'We rented two rooms to stay in after a concert at Fenway. The hotel was great and really added to our experience! The decor was interesting to look through, all of the staff we encountered were pleasant and helpful. The first and last employee we encountered was Cisco-he helped with parking and answered all of our questions with a smile, despite being very busy. We definitely would return for another show!',\n",
       " 'We visited Boston for 2 days to go the Green Day/Weezer concert at Fenway. I booked the VERB thinking it looked pretty cool from their website, but honestly the website doesnt do it justice. The theming is on point, the staff is amazing and the restaurant attached is an absolute must! Everything from the fantastic breakfast to the vinyl were above and beyond. Cant say enough about our stay other than that we cant wait to come back. Its very kid friendly as well. Pro tip: get a fenway facing room. We got a free Billy Joel concert from our window the night before Green Day/Weezer!',\n",
       " 'I recently won a contest that The Verb had and was excited to finally stay at this unique boutique hotel. Ive been wanting to visit since I first discovered them on Instagram last year. Winning this contest finally gave me the opportunity. From the moment I walked into the lobby I was greeted by friendly, upbeat staff who were genuinely happy to check me in. Ive been to hotels where the staff are just going through the motions. Not here. From the front desk to the valet to the girls serving breakfast, it is obvious that the staff at The Verb love their jobs. We had the Deluxe Aerosmith suite and it was decorated with all sorts of cool memorabilia, a record player connected to a small marshall speaker and a balcony view of Fenway Park. We could choose from a large',\n",
       " 'I had a sisters vacation at the verb and we are already wanting to go back! The vibe is chill and the staff is so accommodating and welcoming. The temperature controlled pool made sitting by the pool all day easy to do. The hotel is centrally located to restaurants and bars. The rooms and balconies are spacious making it a perfect spot to relax!',\n",
       " 'It was everything I had hoped for in booking my 1st Trip to Boston !! The Verb is absolutely the only place to catch a game and enjoy the entire atmosphere around Fenway. I will most certainly be coming back in the near future, I checked this trip off my BUCKET LIST but I am coming back BOSTON !!',\n",
       " 'Our 1st visit will not be our last! The vintage atmosphere was refreshing. Thoroughly enjoyed the heated saltwater pool. Loved the vinyl record collection we could play in our rooms. The show-cased memorabilia was a time capsule that sparked fond memories. Even the 1947 Greyhound-converted camper was a thrill of its own. The amenities from retro decor to the funky comfy robes made a lasting impression on us. But what really topped our charts was the fantastic friendly staff. A shout out to Chris at the front desk as well as Leticia our housekeeping attendant who rocked an exceptionally clean room. We look forward to our next stay at the Verb. Carolyn & Steven Bueno',\n",
       " 'This place rocks, literally. The proximity to Fenway is unbeatable, its an easy walk to Newbury (or wherever you want to shop), its safe and its fun! The free breakfast was more than enough...and you can eat poolside.',\n",
       " 'Hotel is in a fantastic location in the Fenway neighborhood of Boston, right next to Fenway Park. Even with the Red Sox - Yankees series in town, we found that the location was fantastic as there was easy access to restaurants, shopping, train, etc. They allow families but just feels like a better fit for a couple.',\n",
       " 'Super cool place, nice room and shower, clean and convenient. Very friendly staff that was a pleasure to chat with. Enjoyed the music and pool. Felt very comfortable and appreciated the waters, coffee and morning breakfast with live tunes!!',\n",
       " 'We LOVED our stay at the Verb Hotel! It is located just behind Fenway Park, and we chose it specifically for this reason. BUT, it did not disappoint in any other category! We loved the staff--all of them. They were all very friendly and accommodating. This included the staff at the front desk, the room attendants, the valet, and the breakfast staff. EVERYONE was amazing! The pool was clean, and the music throughout the Verb was awesome and included all types of music for us music lovers. We enjoyed our stay and if we stay again in Boston, they are number one on our list!! Thank you Verb!!',\n",
       " 'Absolutely loved our stay at The Verb. The hotel itself was adorable -- loved the decor and the music theme. The fact that you could take classic records back to your room and play them on your own record player located in the room was so fun!! The pool was insanely cool and the on-site restaurant one of the best meals I had on my vacation. Complimentary breakfast was generous. Location was decent -- the only way to get any closer to Fenway Park would be inside the stadium itself. Use the app Parking Whiz to access cheaper parking. We found safe 24 hour parking within a 5 minute walk from the hotel for $25.',\n",
       " 'Awesome stay awesome theme everything was amazing the pool was awesome the employees were so friendly and hospitable such a cool experience and great selection of music very quiet and comfortable sleep and tasty breakfast',\n",
       " 'What a wonderful hotel! We love the personal attention and care. Such a special place and we can not wait to get back to Boston, also telling everyone about it! Thanks again for such a meaningful trip !',\n",
       " 'I had an amazing time on my staycation at The Verb. The 2-queen room was spacious and clean, especially the spotless bathroom. I love the overall design scheme of ‘70’s punk/rock & roll subculture. The record players in every room with the library of records in the lobby to choose from was a genius touch. The pool area was great, my meal at Hojoko was excellent and the complimentary breakfast was the best setup I’ve seen since covid- very smart setup. At the front desk, Olivia was wonderful- she recognized on the phone that I was a local on a staycation and went way out of her way to make sure I had a good time during my stay, from an early check-in to ensure I had some extra pool time, to a complimentary room upgrade, she really went the extra mile, while offering good advice',\n",
       " 'Wonderful location. The staff are professional and super helpful. Very fun place for families. Nia Jack and Olivia were fantastic and made our stay so fun. They welcomed us when we came in at 1AM with clapping and great big smiles . We felt very welcome and it kicked off a great two night stay.',\n",
       " 'We loved staying here for 4 nights while visiting our son who lives in the area. It was our first hotel stay since COVID started. This hotel is like walking through a Rock and Roll museum! The breakfast was FABULOUS also. Staff were all so friendly. Safe and walkable area. The beds were super comfortable and the hotel was surprisingly quiet at night (and we are super picky about that). Loved playing some vinyl LPs in the room too. Also fun having my picture taken right underneath Mick on that yellow couch in the lobby! Highly recommend this hotel. The only surpise was the $25 fee per night, but thats because I didnt read the fine print when booking online. Rock and Roll, Hoochie Coo, right on!',\n",
       " 'Loved our stay! Awesome place and attention to detail! The breakfast was awesome, the rooms fabulous and all the amenities. The staff was so lovely and helpful- we ate at the restaurant on property and it was delish. We can not wait to come back!',\n",
       " 'We stayed 6/29-7/1 and had a great experience. You will not find a better staff. Everyone was so welcoming and fun to be around. It’s right next to Fenway park. Aracely cleaned our room and did a phenomenal job! We will stay again.',\n",
       " 'We just returned from a four night stay and cannot recommend the place enough! From check in (and out) with Jordan, the stay started out excellent and stayed that way the entire visit. From the amazing music vibe and memorabilia, the the very retro and fun rooms (including your own record player, with access to a huge library of loaner records, a vintage typewriter and a clutch fan for those of you that are used to blasting your ceiling fan at night! The location was great if you are going to a Sox game! We had a room that had a view of Fenway, and actually opened our window one night and listened to part of the game while we watched in on our in room flat screen TV with the sound muted. The rooms were very clean, so a shout out to Karen who took care of ours! The game we did',\n",
       " 'We had a amazing time staying here for a Red Sox game. The musical theme was on point. The record players and LPs in the room were such an awesome touch and the free nitro coffee in the lobby was also a big hit!! We will be staying here whenever we’re in Boston. Super fun and super friendly!',\n",
       " 'Visiting Boston with our teenage son. We all loved this place. Music/rock vibe is fun, pool lovely on a sunny day, great location next to Fenway, not far from the Charles, and 3 blocks to Fen park with paths, a track, b-ball hoops, and a beautiful rose garden. Breakfast was amazing and Amalia prepped waffles, bagels, and smoothies with a smile! Employees all seemed happy. Thomas at checkin also was positive and always helpful. Really enjoyed dinner at Hojoko too- great cocktails and interesting food. Was worried slightly about party atmosphere at pool but it was always shut down right at 10 to ensure all guests can have a good sleep.',\n",
       " 'This pillow saved my back. I love the look and feel of this pillow. Good padding and nice quality.  I love the feel of the fabric.  I would buy again',\n",
       " 'Missing information on how to use it, stupid but it is a great product for the price!  I These are so flimsy! They are not the quality you would expect from a piece of furniture.',\n",
       " 'Very nice set. Good quality. We have had the set for two months now and have not been horrendous and mad',\n",
       " 'I WANTED DIFFERENT FLAVORS BUT THEY ARE NOT. Nice but the size of the containers is a little small.Very pretty.',\n",
       " 'These do fit well and look great.  I love the smoothness of the edges',\n",
       " 'My son loves this comforter and it is very well made.  God We also have a baby She also loves it very much',\n",
       " 'Very handy for one of my kids and the tools are included in the package. I have one in perfect size, an easy to use and efficient',\n",
       " 'Makes may tea with out stirring. The only problem is that its kind of hard to put',\n",
       " 'Love this!  Perfect size for an entire family! Very good quality.',\n",
       " 'Exactly what you would expect. I love the look and feel of this pillow. Fits well and seems to last a long time. Very good quality.',\n",
       " 'Does not do a very good job; difficult to use. Not good quality product. Returned and exchanged twice now. Over it.',\n",
       " 'frame was beautifully crafted and looks great with my picture. Nice and easy to assemble, it serves its purpose both functional and aesthetically',\n",
       " 'SOOOOOOO cute. I love them. Adorable. Well made and totally worth the price!! Purchased as a Christmas gift.  She will love it.',\n",
       " 'Great product, does its job well holding my lunch several days a week. A little pricey for what it is.',\n",
       " 'Does the job, but nothing special. Not hard to install.',\n",
       " 'Item as described and arrived in a timely manner.',\n",
       " 'Made well holds all my make brushes, pencils, mascara etc. It was as exactly decribed as it was shown on the picture. ',\n",
       " 'These are so weak and worse. They barely bring in any air. THEY NEED TO BE MORE RESILIENT AND STRONGER.',\n",
       " 'Great set of glasses!  Good quality, comfortable to handle. Good price and Ive gotten many compliments.',\n",
       " 'Nice and contemporary. Great for the price. Easy to assemble. Beautiful little set!  Nice colors.  Love the colors!  Love that they are bright',\n",
       " 'HYATT IN KOH SAMUI! Fantastic.Beautiful location',\n",
       " 'Bettwr then the westgate timeshare i own. I rent that pos out and stay at the hyatt when in orlando. ',\n",
       " 'Stayed in orlando and it was amazing. Very clean and friendly staff. ',\n",
       " 'We have been Hyatt vacation club owners for nearly 20 years. With the pandemic and lockdowns we’ve not used them for the last 2 years( very understandable). Unlike U.K. companies that have tried look after people after holidays have been cancelled by ensuring refund',\n",
       " 'We stayed at the Grand Hyatt - Amman hotel in Jordan and it was a highlight of the holiday. Nice to relax after a hot dusty day at the spa and two pools. Everything was empty due to covid 19  which added to the luxury and feeling of space.  Staff were excellent. ',\n",
       " 'Stay here for consistent quality - and for slightly less than the rest',\n",
       " 'We were transiting through Charlotte',\n",
       " 'We stayed at the Hyatt Centric on Murano recently and felt thoroughly pampered from beginning to end. Wonderful location',\n",
       " 'Two days of trying to adjust a work trip reservation. multiple phone calls with over then 40 min waits and nothing resolved. I will never use Hyatt for any personal trips in the future. Just insane that you cant change a reservation with online chat. Best advise is to stay somewhere else then have to deal with Hyatts lack luster of customer service ',\n",
       " 'No hotel room is big and the Buffay but I do not like the color of the pool and the smell of it',\n",
       " 'Hotel in morocco was amazing. Present in the heart of city',\n",
       " 'he Buffet at this palace was amazing. One of the best location and buffet',\n",
       " 'The Parking lot of the hotel was very nice. It infact made the hotel standout',\n",
       " 'very niceeeee']"
      ]
     },
     "execution_count": 229,
     "metadata": {},
     "output_type": "execute_result"
    }
   ],
   "source": [
    "list_new1"
   ]
  },
  {
   "cell_type": "code",
   "execution_count": 230,
   "id": "49ccc3bb",
   "metadata": {
    "scrolled": false
   },
   "outputs": [
    {
     "name": "stdout",
     "output_type": "stream",
     "text": [
      "\\ufeffAll was great\n",
      "compound: 0.6249, neg: 0.0, neu: 0.328, pos: 0.672, \n",
      "Placed order and very quick delivery\n",
      "compound: 0.0, neg: 0.0, neu: 1.0, pos: 0.0, \n",
      "Was great thank you\n",
      "compound: 0.765, neg: 0.0, neu: 0.233, pos: 0.767, \n",
      "Great support and help through the entire process.\n",
      "compound: 0.8591, neg: 0.0, neu: 0.345, pos: 0.655, \n",
      "Great and very quick help with refund!!!\n",
      "compound: 0.8383, neg: 0.0, neu: 0.386, pos: 0.614, \n",
      "Always love my seasonings! Fast delivery and great taste!\n",
      "compound: 0.8715, neg: 0.0, neu: 0.441, pos: 0.559, \n",
      "Size came back great\n",
      "compound: 0.6249, neg: 0.0, neu: 0.423, pos: 0.577, \n",
      "Easy to find the part I needed which was delivered quickly.\n",
      "compound: 0.4404, neg: 0.0, neu: 0.756, pos: 0.244, \n",
      "Chat Agent-was very helpful!\n",
      "compound: 0.5244, neg: 0.0, neu: 0.47, pos: 0.53, \n",
      "Great Company and Great service\n",
      "compound: 0.8481, neg: 0.0, neu: 0.268, pos: 0.732, \n",
      "Fast delivery & what I needed\n",
      "compound: 0.0, neg: 0.0, neu: 1.0, pos: 0.0, \n",
      "Hi... after my review Specsavers solved my issue.\n",
      "compound: 0.2732, neg: 0.0, neu: 0.769, pos: 0.231, \n",
      "Fantastic service with a personal touch which was nice. Thank you!\n",
      "compound: 0.8478, neg: 0.0, neu: 0.432, pos: 0.568, \n",
      "SMM Panel is a Social Media Marketing website. I was delighted with this and the excellent service it provides.  thank you very much for this.\n",
      "compound: 0.8591, neg: 0.0, neu: 0.678, pos: 0.322, \n",
      "I have been using Spreaker for at least 5 years. My only complaint is that they need to not give our payments later than the date its due.\n",
      "compound: -0.296, neg: 0.081, neu: 0.919, pos: 0.0, \n",
      "World of Books did an oustanding job. The book arrived in fine condition.\n",
      "compound: 0.2023, neg: 0.0, neu: 0.87, pos: 0.13, \n",
      "Terrible quality for a high priced item. Took a long time to get it. No returns because its a foreign based company. Beware!!\n",
      "compound: -0.7081, neg: 0.246, neu: 0.754, pos: 0.0, \n",
      "Very pleased with our settees. Very helpful all the way through as always. Thank you.\n",
      "compound: 0.831, neg: 0.0, neu: 0.577, pos: 0.423, \n",
      "This is a great and best website to use. I am very satisfied with the services provided. Thanks for everything.\n",
      "compound: 0.9359, neg: 0.0, neu: 0.495, pos: 0.505, \n",
      "Lovely door knobs. Beautifully wrapped and speedy delivery. Really pleased with them. Thank you\n",
      "compound: 0.9216, neg: 0.0, neu: 0.431, pos: 0.569, \n",
      "The product was great, the quality was good, fitted properly.\n",
      "compound: 0.7906, neg: 0.0, neu: 0.533, pos: 0.467, \n",
      "Little bit small and long\n",
      "compound: 0.0, neg: 0.0, neu: 1.0, pos: 0.0, \n",
      "I love this top. I am obssesed with the colour brown.\n",
      "compound: 0.7184, neg: 0.0, neu: 0.538, pos: 0.462, \n",
      "Ordered both colours, I love them\n",
      "compound: 0.6369, neg: 0.0, neu: 0.488, pos: 0.512, \n",
      "l Love this beanie so much, it sags just right. Been searching for one like it for a long time.\n",
      "compound: 0.7717, neg: 0.0, neu: 0.705, pos: 0.295, \n",
      "Auto ships works great. I have it timed to arrive just when we are on the last bottle.  They have been good about working with me to set up a schedule for auto delivery\n",
      "compound: 0.7906, neg: 0.0, neu: 0.811, pos: 0.189, \n",
      "Service Was good!!! And Delivery was on time.\n",
      "compound: 0.5826, neg: 0.0, neu: 0.65, pos: 0.35, \n",
      "Will always use this service! Great products!\n",
      "compound: 0.6892, neg: 0.0, neu: 0.562, pos: 0.438, \n",
      "Great products and great service\n",
      "compound: 0.8481, neg: 0.0, neu: 0.268, pos: 0.732, \n",
      "A friend recommended this page to me because the supplements they sell are very effective in boosting my immune system. And just as I thank my friend for telling me about this I also thank BetterWayHealth for the fantastic supplements that have helped me and for the kind service provided\n",
      "compound: 0.9787, neg: 0.0, neu: 0.565, pos: 0.435, \n",
      "Very happy with products and delivery\n",
      "compound: 0.6115, neg: 0.0, neu: 0.556, pos: 0.444, \n",
      "The products were very helpful in getting my supplements level to the point\n",
      "compound: 0.4754, neg: 0.0, neu: 0.795, pos: 0.205, \n",
      "Always great products and great service with Better Way Health!\n",
      "compound: 0.908, neg: 0.0, neu: 0.381, pos: 0.619, \n",
      "Health is wealth.Very good experience and totally satisfied.\n",
      "compound: 0.7178, neg: 0.0, neu: 0.5, pos: 0.5, \n",
      "Great Products and also satisfied with the service.\n",
      "compound: 0.7845, neg: 0.0, neu: 0.465, pos: 0.535, \n",
      "It would be helpful if they could improve the payment services.\n",
      "compound: 0.6908, neg: 0.0, neu: 0.612, pos: 0.388, \n",
      "Had trouble navigating website and accessing discount code but a nice rep followed up and helped sort it out. Thanks.\n",
      "compound: 0.7717, neg: 0.073, neu: 0.63, pos: 0.297, \n",
      "If the delivery is within the expected time  it would be nice. Bit frustating if the order is delayed.\n",
      "compound: 0.2263, neg: 0.088, neu: 0.783, pos: 0.129, \n",
      "Everyone is always helpful.  I had to change  payment methods and delivery dates and it is always a pleasure to talk to them.\n",
      "compound: 0.7579, neg: 0.0, neu: 0.745, pos: 0.255, \n",
      "Have been using Better Way Health Beta Glucan consistently for 3 years. Love the product backed up by scientific research. Ordering is a breeze & their text notification pre-auto shipment makes it super easy if I need to amend my order. Great customer service. Also recommend the Vitamin D & Curcumin.\n",
      "compound: 0.9712, neg: 0.0, neu: 0.609, pos: 0.391, \n",
      "Poor Service\n",
      "compound: -0.4767, neg: 0.756, neu: 0.244, pos: 0.0, \n",
      "Excellent service\n",
      "compound: 0.5719, neg: 0.0, neu: 0.213, pos: 0.787, \n",
      "Premium quality of supplements. Great Shop would recommend this store to my friends\n",
      "compound: 0.8658, neg: 0.0, neu: 0.508, pos: 0.492, \n",
      "Easy to order and the text message from Better Way Health is great way for me to monitor or adjust future ordering.\n",
      "compound: 0.872, neg: 0.0, neu: 0.657, pos: 0.343, \n",
      "Products are Good but it would be nice if some improvements are made in the way to order. \n",
      "compound: 0.8225, neg: 0.0, neu: 0.636, pos: 0.364, \n",
      "Best phone service. They have all your info right there to help you place your next order. All representatives Ive dealt with over the years  have been very friendly.\n",
      "compound: 0.8858, neg: 0.0, neu: 0.714, pos: 0.286, \n",
      "The customer service was so good and it was so helpful.\n",
      "compound: 0.8104, neg: 0.0, neu: 0.55, pos: 0.45, \n",
      "The benefits of better health supplement is to get you in tip top shape.\n",
      "compound: 0.743, neg: 0.0, neu: 0.601, pos: 0.399, \n",
      "I couldn\\x92t get my phone to purchase my items  so I ended up calling.  I got excellent help and was able to finish my order.  She was very helpful in helping me order the right items for my situation.\n",
      "compound: 0.8991, neg: 0.0, neu: 0.728, pos: 0.272, \n",
      "This company is a must-visit for everyone on a diet who wants to try a dieting supplement. The Quality of the products were top notch.\n",
      "compound: 0.2023, neg: 0.0, neu: 0.921, pos: 0.079, \n",
      "This company is a must-visit for everyone on a diet who wants to try a dieting supplement. They have a trustworthy  organic and non-toxic supplement and you may choose and choose which vitamins you need based on your health\\xa0condition.\n",
      "compound: 0.5574, neg: 0.0, neu: 0.904, pos: 0.096, \n",
      "Some 0f the supplements quality were bad and disappointing.\n",
      "compound: -0.7717, neg: 0.489, neu: 0.511, pos: 0.0, \n",
      "Best hotel everrr!\n",
      "compound: 0.6696, neg: 0.0, neu: 0.308, pos: 0.692, \n",
      "Back at The Verb!\n",
      "compound: 0.0, neg: 0.0, neu: 1.0, pos: 0.0, \n",
      "We loved Verb & Ryan so much\n",
      "compound: 0.5994, neg: 0.0, neu: 0.562, pos: 0.438, \n",
      "Stay here if you get the chance\n",
      "compound: 0.25, neg: 0.0, neu: 0.75, pos: 0.25, \n",
      "Best Hotel in Boston\n",
      "compound: 0.6369, neg: 0.0, neu: 0.417, pos: 0.583, \n",
      "Amazing!\n",
      "compound: 0.6239, neg: 0.0, neu: 0.0, pos: 1.0, \n",
      "Heated outdoor pool a must\n",
      "compound: 0.0, neg: 0.0, neu: 1.0, pos: 0.0, \n",
      "Rock Boston at the Verb!\n",
      "compound: 0.0, neg: 0.0, neu: 1.0, pos: 0.0, \n",
      "Breakfast at The Verb\n",
      "compound: 0.0, neg: 0.0, neu: 1.0, pos: 0.0, \n",
      "Fun, funky and fantastic staff\n",
      "compound: 0.7579, neg: 0.136, neu: 0.194, pos: 0.67, \n",
      "Our two boys (5 and 7) absolutely love this place. It’s our second visit and just as good as the first. Amalia and Paula took great care of us at breakfast (magical breakfast feast of all the things banned at home with some healthy stuff to placate the parents) and the vinyl selection is so fun. Now we’re off to jump in the pool again - in November - in Massachusetts…\n",
      "compound: 0.9619, neg: 0.035, neu: 0.716, pos: 0.25, \n",
      "As always, a wonderful, vinyl spinning stay in the Fenway, at The Verb Hotel. Come for the funky atmosphere & vinyl, stay for the wonderful staff & Hojoko restaurant. Crisela will make you feel welcome at Breakfast and Audrey takes care of everything else!\n",
      "compound: 0.9259, neg: 0.027, neu: 0.702, pos: 0.271, \n",
      "This hotel is beautiful, service is amazing. Ryan is one of the best workers here. We loved him! so friendly and all around cool guy. Also shout out to Chris too. Thank you Verb for the lovely experience, will be back soon xx\n",
      "compound: 0.9821, neg: 0.0, neu: 0.554, pos: 0.446, \n",
      "Staff was warm and exciting the minute we stepped in. The ambiance was as cool as it gets. It’s like you step into a time warp that somehow includes the 50s through today. Staff and room cleaning was more than accommodating. Super fun location right by Fenway and only a short Uber to and from popular spots. Couldn’t recommend this place enough.\n",
      "compound: 0.9668, neg: 0.0, neu: 0.696, pos: 0.304, \n",
      "What an amazing, funky place to stay! We loved our experience at the Verb Hotel in Boston. ALL of the staff was super friendly, knowledge and cared about our trip and our experiences while we were in Boston. We loved the vinyl library and having our very own record player in our room! We were in town for a show at the House of Blues, easy walk from the Hotel and plenty of places to grab yummy food nearby. Well be back for sure!\n",
      "compound: 0.9857, neg: 0.013, neu: 0.676, pos: 0.311, \n",
      "Our stay was absolutely wonderful! We loved this hotel! Everyone was so nice we especially liked Cisco and Mustafa! They were so accommodating and gave good advice which helped since we had never been to Boston. We would definitely stay here again!\n",
      "compound: 0.9707, neg: 0.0, neu: 0.625, pos: 0.375, \n",
      "very unique hotel and a plus for the kids because there’s an outside heated pool. It was heated to I think close to 90° or maybe 100 which was needed especially if you’re visiting this hotel in the month of February. Not a fan of the breakfast at the diner attached to the hotel but the hotel is located in Fenway so many options for you to choose from. The front desk was very patient, friendly, and helpful. I had such a great time that I booked for another two nights in a month of April with my husband.\n",
      "compound: 0.9391, neg: 0.014, neu: 0.85, pos: 0.136, \n",
      "The hotel was so fun and had such a great vibe. It was decorated retro music complete with a record player in your room and records in the lobby available for you to listen to in your room. The room was well equipped and had clever touches throughout. In fact, the whole hotel had unexpected, original design from signage to your hotel key to the exterior. The service was even better! Our flight was delayed, and they were very accommodating. Every person we dealt with was friendly, knowledgable, and eager to help with anything we needed. Great location too!\n",
      "compound: 0.9833, neg: 0.016, neu: 0.71, pos: 0.274, \n",
      "Amalia and her team made our morning so much better! They were all so friendly, helpful and kind, not to mention the breakfast was delicious!! We will be back just for that alone. They took great care of us!\n",
      "compound: 0.9775, neg: 0.034, neu: 0.526, pos: 0.44, \n",
      "We were in town for appointments at Boston Children’s. I’ve always wanted to try out this hotel. Wish I’d been picking this one every time! Clean, excellent staff, good quality quick breakfast, relaxing in our room with great records to play on the record player was just unique and fun… especially with my young adult son.\n",
      "compound: 0.9682, neg: 0.0, neu: 0.69, pos: 0.31, \n",
      "I was taking my high school senior daughter on a college tour to schools in Boston when I accidentally discovered this gem. I’ve been to many hotels. I’ve almost never written a review, but what an amazing, novel experience this was! In addition to an incredibly friendly staff, the rock n roll vibe and decor is everywhere. Love the record players in every room AND the hundreds of vinyl albums to choose from in the lobby. And electric guitars we could jam on near the front desk? Wow! One of the coolest, best value places one could find anywhere in the country.\n",
      "compound: 0.9889, neg: 0.014, neu: 0.708, pos: 0.278, \n",
      "The complementary breakfast at the Verb is delicious and the attendants are great! (Thanks Crisela Amador.)I had a waffle and a muffin and they both were wonderful. What a fantastic start to a east coast road trip.\n",
      "compound: 0.9468, neg: 0.0, neu: 0.653, pos: 0.347, \n",
      "crislea was very helpful with serving us breakfast and helping us and offering us anything we needed. I got a choclate crossiant and it was really good. i also got a bowl of cereal. It was all very good.\n",
      "compound: 0.8929, neg: 0.0, neu: 0.726, pos: 0.274, \n",
      "Brooked The Verb for a 1 night stay to take my 9yo son to his first game at Fenway. Staff was awesome and the location was perfect. Should have made it a longer stay in Boston but I already had my son miss two days of school for this trip. Absolutely will stay again when I take the rest of the family to Boston. Plenty of food choices near the hotel and in the hotel. My son also learned what a typewriter and record player was thanks to both being in the room. He was amazed at the typewriter.\n",
      "compound: 0.9032, neg: 0.018, neu: 0.855, pos: 0.127, \n",
      "Great stay! Was there for a medical need and staff was super accommodating. In particular a front desk staff went out to the local CVS to buy me some medicine I didn’t have. And they brought my dinner up to my room from the downstairs ramen restaurant. The breakfast staff, Paula and Kristala were super great too! 10/10 would stay again.\n",
      "compound: 0.9558, neg: 0.0, neu: 0.765, pos: 0.235, \n",
      "This was such a great little eclectic hotel... everyone was so friendly and helpful - the evening manager (sorry I forgot his name) to Saulo and Blanca who were both helpful and kept my room clean. My room had a record player - and you could pick your choice of oldies but goodies and bring them to your room... Will definitely return...\n",
      "compound: 0.9113, neg: 0.0, neu: 0.778, pos: 0.222, \n",
      "An exciting hotel to tease your visual and audible senses! The decor, the music, and the vibe was more than we expected. And not to forget the complimentary breakfast! Chisela and her staff made every accommodation so that we enjoyed every bite. Highly recommend the Verb, it was perfect from start to finish! The Lindsay’s from VA\n",
      "compound: 0.9468, neg: 0.032, neu: 0.704, pos: 0.263, \n",
      "My friend and I attended a concert at Fenway and stayed at The Verb Hotel afterwards. The location was great and convenient, the staff was very friendly and nice, the room was clean, and the ambiance was amazing\n",
      "compound: 0.9655, neg: 0.0, neu: 0.596, pos: 0.404, \n",
      "Not only was the location great, but the hotel itself is awesome. Staff was very friendly and rooms were very clean. They even had a record player in every room-totally worth the price!!! If you’re looking for a hotel to stay at for a Fenway event, look no further!\n",
      "compound: 0.962, neg: 0.044, neu: 0.632, pos: 0.323, \n",
      "This place was awesome. It is a must stay place for music lovers. The staff was friendly and the hotel was very clean and located within walking distance of many of our needs. We will definitely be back!\n",
      "compound: 0.9492, neg: 0.0, neu: 0.657, pos: 0.343, \n",
      "This place was better than I expected. Perfect location and within walking distance of restaurants, souvenir stores, and Fenway Park. The zebra robes were a hit with my husband! Super friendly and helpful staff.\n",
      "compound: 0.9501, neg: 0.0, neu: 0.617, pos: 0.383, \n",
      "The Verb Hotel is such a fun, retro environment! Very friendly staff, including Crisela Amador who served a delicious breakfast, offer a welcoming vibe. Highly recommend a stay at the Verb, especially if you need a quick walk to Fenway Park!\n",
      "compound: 0.9499, neg: 0.0, neu: 0.649, pos: 0.351, \n",
      "Truly the coolest and cleanest hotel we have ever stayed in. So neat and different. The staff is INCREDIBLE. Everyone is so kind and really helpful. Chris the valet was fantastic and always had our car ready quickly. 10/10 recommend staying here if you get the chance. Best hotel experience in Boston.\n",
      "compound: 0.9807, neg: 0.0, neu: 0.602, pos: 0.398, \n",
      "hi, i’m korean. i can’t speak english very well. this hotel giving for us very nice night. so If I come to Boston again, I will come to this hotel. Especially the curly-haired male staff, thank you for being so kind to me.\n",
      "compound: 0.9294, neg: 0.0, neu: 0.703, pos: 0.297, \n",
      "Our stay was awesome! We stayed at the Verb so we could be with in walking distance of Fenway! The room was clean, we had free breakfast, free coffee, and even had a couple discounts for local restaurants when you showed them your room key! Overall we had a great time and would definitely stay at the Verb again!\n",
      "compound: 0.9697, neg: 0.0, neu: 0.705, pos: 0.295, \n",
      "This hotel is the full rock ‘n’ roll experience, from the mid century modern meets rock ‘n’ roll lobby to the clean lines minimalist modern room decor, our stay was top notch. There were some really cool little details like free 24 cold brew in the lobby, to the bottle of champagne delivered to my room because it was my birthday, to the zebra rock ‘n’ roll robes, and the most unique thing was the in-room record player and the huge library of vinyl that you could choose from to bring up to your room The location also cannot be beat, a few minutes walk to the green line train and Fenway Park was right out my window! So very cool!\n",
      "compound: 0.9533, neg: 0.0, neu: 0.832, pos: 0.168, \n",
      "Cool place. Great location. Clean and comfortable. Friendly staff. Lots of great music memorabilia. Pool looked nice but we didn’t use it. Valet parking and amenities fee is going to run you an additional $100 bucks per night. Just an FYI.\n",
      "compound: 0.9331, neg: 0.0, neu: 0.646, pos: 0.354, \n",
      "Where do I even begin? This place is like a rock stars dream come true! And if you are dreaming of the Rockstar life then look no further! From playable guitars in the lobby to a heated salt water pool! You feel like you just went backstage after your own show! There are even record players in each room and a FULL ASS SELECTION of LPS to choose from if you feel the need to rock out in your room! Or you can stroll the halls and check out all the memorabilia that they change out to keep it fresh or read the names of all the famous peeps that have stayed here that Aretha Franklin is singing out Witten on the wall near the lobby. Im writing this out right now sitting out front while there is a band playing in fenway that I can hear is clear as if Im in the venue. This isnt my\n",
      "compound: 0.8568, neg: 0.038, neu: 0.843, pos: 0.119, \n",
      "This rock and roll themed hotel is right behind Fenway Park - it took us 2 minutes to walk there. Easy valet parking and in minutes we were sitting on our balcony listening to the tunes of Stevie Wonder as we had a pre-game cocktail. Upon check in, they upgraded us to a deluxe themed room! We stayed in the Led Zeppelin room, which had authentic memorabilia from the band covering the walls. There are record players in each room with a collection of albums in each room, but there is also a large assortment of albums from which to choose from in the lobby. The atmosphere in this place is awesome - trendy, hip and fun. The lobby has nitro cold brew and hot coffee on tap and unlimited water bottles available to guests. We didnt know this upon arrival, but it is a dog friendly hotel!\n",
      "compound: 0.9597, neg: 0.0, neu: 0.874, pos: 0.126, \n",
      "Every employee, every visitor all were so nice! Check in and out were easy, valet parking was great. Record player and records in the rooms were so fun, and the pool was heavenly. The walk around the building to be at the Red Sox game couldn’t have been easier! Can’t wait to go back!\n",
      "compound: 0.9736, neg: 0.0, neu: 0.681, pos: 0.319, \n",
      "Great location. Not sure how noise levels would be if there was a baseball game going on as we were literally a stones throw from the back of Fenway park. Consider carefully if you are going to have a car because they charge $65 a night to park your car there. We were fortunate in that we found a garage across the street in the new condo building that was allowing non-condo owners to park there for hourly fees, and ended up spending a total of $55 over 48 hours, even though we came and went multiple times. This was in late August 2021, but that situation may change. If you’re just walking and Ubering around, I definitely recommend this place. It was special— the music-themed touches were really fun. The staff and service were very good.\n",
      "compound: 0.965, neg: 0.01, neu: 0.84, pos: 0.15, \n",
      "We stayed at The Verb for a Sox game so we didn’t have a late/long drive home and my only regret is that our stay wasn’t longer. I was worried about having our five year old twins but once we checked in, I realized it was more family friendly than I anticipated. The rooms were so clean and they’d even left a Disney vinyl on the record player in our room; no detail spared. We took a quick dip in the pool to cool off before the game and it was great. No complaints!\n",
      "compound: 0.8656, neg: 0.116, neu: 0.716, pos: 0.168, \n",
      "My first time at the Verb! Not only is the vibe fun with a real record player in your room, the staff was over the top nice and accommodating. I’ll be staying here when I return to Boston! Also don’t miss out on the coffee in the lobby. So good.\n",
      "compound: 0.88, neg: 0.028, neu: 0.745, pos: 0.227, \n",
      "We loved our stay for many reasons. First, close to Fenway for a Sox game, best and most festive breakfast around with amazing live music, great employees from the front desk/Producers to the breakfast crew! We would stay there again in a heart beat!\n",
      "compound: 0.9677, neg: 0.0, neu: 0.651, pos: 0.349, \n",
      "Groovy, clean (there is always someone cleaning somewhere - and it smells wonderful), cool as s%#+, fun, friendly staff. Definitely choose from the 1500 vinyl options for your in-room turntable. We were there for 3 consecutive nights of games at Fenway - it’s busy, but great to be in the middle of it! Expensive overnight parking - choose the garage around the corner.\n",
      "compound: 0.9266, neg: 0.0, neu: 0.773, pos: 0.227, \n",
      "Fun boutique hotel with outdoor pool and view of Fenway. Staff could not be friendlier. Breakfast buffet was excellent with lots of variety. Smaller rooms but well designed. Love a hotel who thinks of an extra blanket. Also best robes ever in a zebra print with Verb logo. Complimentary coffee and water. If you love Rock and have a great sense of humor this hotel is for you. Pet friendly as well.\n",
      "compound: 0.9927, neg: 0.017, neu: 0.557, pos: 0.426, \n",
      "Our one night stay for a Red Sox game turned into a mini vacation. The Sox lost but we won, with a great stay. All the staff were fantastic and the complimentary breakfast was way beyond average. I highly recommend this place and will be back for future games\n",
      "compound: 0.9763, neg: 0.026, neu: 0.611, pos: 0.363, \n",
      "This used to be the old Howard Johnsons. IT is such a fun hotel. Unique atmosphere/retro and colorful decor, very friendly staff, had fun playing assorted records on the turntable. Unlimited water bottles and cold nitro brew coffee on tap 24/7. The room is very clean, bed is very comfy (thank you BLANCA!). Hojoko, the next door Japanese restaurants, is excellent for its food and jelly sake. There are also lots of restaurants around within walking distance. The parking is a bit steep at $65/day, but it beats running to meters all day or trying to find a parking spot without being stressed out. Also, it is right next to Fenway Stadium. The valet people are incredibly nice and will run out to get your car in no time. The continental breakfast is excellent with plenty of delicious\n",
      "compound: 0.9766, neg: 0.018, neu: 0.794, pos: 0.188, \n",
      "We had such a great time at The Verb! If you are sick of every hotel looking and feeling the same, it’s time to try a boutique hotel, and if you are in Boston you have to stay at The Verb. It’s right next to Fenway Park, so it would be a great way to stay over if you’re at a game that runs late. The Rock ‘n Roll theme is fantastic, and the friendly staff carry it off well. Joey, who checked us in was super friendly and welcoming, and Cisco, the valet, was really cool. We drove up into the wrong driveway, but he took care of us anyway. He also showed us around the vintage Flxible bus in the Verb parking lot --amazing! Cisco is a nice guy, and he has a great playlist.* We enjoyed the pool, but most of all the general vibe, even just getting the hotel key (er, I mean\n",
      "compound: 0.9862, neg: 0.024, neu: 0.755, pos: 0.221, \n",
      "I stayed with my family for 3 nights and was very impressed with Saulo and his team, what a great job they did! The room was very clean and the housekeepers was very pleasant. My daughter loved the turn table in the room. Plaining on returning soon.\n",
      "compound: 0.96, neg: 0.0, neu: 0.681, pos: 0.319, \n",
      "We came for my son’s 11th birthday to go to a game at Fenway. It was a perfect weekend! Chris Sale pitched for the first time since his surgery and we loved the hotel! So much fun. The kids loved the pool and the records! Mom loved the Nitro on tap 24/7. The breakfast was great and the rooms were clean. I plan to come back and stay for Boston Calling in 2022.\n",
      "compound: 0.9811, neg: 0.0, neu: 0.703, pos: 0.297, \n",
      "this Hotel is hyper.\n",
      "compound: 0.0, neg: 0.0, neu: 1.0, pos: 0.0, \n",
      "This Hotel works certainly well. It perfectly improves my mood by a lot.\n",
      "compound: 0.8885, neg: 0.0, neu: 0.41, pos: 0.59, \n",
      "heard about this on gypsy jazz radio, decided to give it a try.\n",
      "compound: 0.0, neg: 0.0, neu: 1.0, pos: 0.0, \n",
      "Really good. No matter where you go, Hotel is the coolest, most happening thing around!\n",
      "compound: 0.3336, neg: 0.128, neu: 0.621, pos: 0.251, \n",
      "Thanks guys, keep up the good work! I love your system. Thanks to Hotel, weve just launched our 5th website!\n",
      "compound: 0.9323, neg: 0.0, neu: 0.483, pos: 0.517, \n",
      "I cant say enough about Hotel.\n",
      "compound: 0.0, neg: 0.0, neu: 1.0, pos: 0.0, \n",
      "I would like to personally thank you for your outstanding product. Its really wonderful. Wow what great service, I love it!\n",
      "compound: 0.9791, neg: 0.0, neu: 0.319, pos: 0.681, \n",
      "I dont always clap, but when I do, its because of Hotel. Really good. Hotel is great.\n",
      "compound: 0.8988, neg: 0.0, neu: 0.567, pos: 0.433, \n",
      "We cant understand how weve been living without Hotel.\n",
      "compound: 0.0, neg: 0.0, neu: 1.0, pos: 0.0, \n",
      "Hotel is both attractive and highly adaptable. Hotel did exactly what you said it does. Hotel is the next killer app.\n",
      "compound: -0.34, neg: 0.164, neu: 0.725, pos: 0.111, \n",
      "I STRONGLY recommend Hotel to EVERYONE interested in running a successful online business! I cant say enough about Hotel. Without Hotel, we would have gone bankrupt by now.\n",
      "compound: 0.8188, neg: 0.101, neu: 0.56, pos: 0.339, \n",
      "I am so pleased with this product.\n",
      "compound: 0.4927, neg: 0.0, neu: 0.61, pos: 0.39, \n",
      "Hotel is the next level hotel and best management\n",
      "compound: 0.6369, neg: 0.0, neu: 0.656, pos: 0.344, \n",
      "I couldnt have asked for more than this. I will recommend you to my colleagues. The best on the net!\n",
      "compound: 0.7901, neg: 0.0, neu: 0.696, pos: 0.304, \n",
      "this hotel is revolting.\n",
      "compound: 0.0, neg: 0.0, neu: 1.0, pos: 0.0, \n",
      "I heard about this on dance-rock radio, decided to give it a try. Best Hotel\n",
      "compound: 0.6369, neg: 0.0, neu: 0.741, pos: 0.259, \n",
      "Ver bad service of the managent. Threw my bags\n",
      "compound: -0.5423, neg: 0.304, neu: 0.696, pos: 0.0, \n",
      "Excellent food and tasty also. The chef are very professional and cook very well. Awseome management\n",
      "compound: 0.7264, neg: 0.0, neu: 0.697, pos: 0.303, \n",
      "I recommend this hotel to every one. My husband loved the outdoor seating and pool.\n",
      "compound: 0.7506, neg: 0.0, neu: 0.652, pos: 0.348, \n",
      "Clean hotel with. I spent a week in this hotel when I was on a business trip. It felt Like I was at my house. Nice Food and very close to boston downtown.\n",
      "compound: 0.7906, neg: 0.0, neu: 0.758, pos: 0.242, \n",
      "very nice visit with family over the Halloween weekend. Clean . very responsive staff to all our needs , umbrellas when raining, car, breakfast. thank you to amalia vasquez and crisela amaor for their kind assistance during the breakfast meals, the room staff and front desk. also enjoyed Hojoko next door.\n",
      "compound: 0.95, neg: 0.0, neu: 0.707, pos: 0.293, \n",
      "Crisela and Amalia were so very nice and very sweet. They had everything prepared and were happy to take special requests, we are very pleased! The smoothies were excellent and they were happy to make them.\n",
      "compound: 0.9773, neg: 0.0, neu: 0.52, pos: 0.48, \n",
      "Pass by this place frequently and didn’t know it was a hotel. Such a cool vibe and experience, most importantly…affordable! Workers were very nice as well. Just wish there were better parking options…other than that i Will be coming back!\n",
      "compound: 0.9176, neg: 0.0, neu: 0.697, pos: 0.303, \n",
      "What FUN! The rooms are clean and somewhat large, the staff is nothing be wonderful and accommodating. They do whatever it takes to make you comfortable. Hats off to the breakfast attendants as well, especially Paula, Crisela and Amalia, nice, professional again doing whatever they can to please. Highly recommend especially if you like rock and roll!! In back of Fenway Park if you a sports fan.\n",
      "compound: 0.9681, neg: 0.035, neu: 0.659, pos: 0.306, \n",
      "Neat boutique hotel for Boston music scene lovers and Boston Red Sox Fans! Record player in every room and a lovely all year round outdoor salt water pool. Complimentary Cold brew and hot coffee at front desk. Modern decor. Very hip and cool music memorabilia!\n",
      "compound: 0.9455, neg: 0.0, neu: 0.706, pos: 0.294, \n",
      "Great first time stay here at Verb!! Everything was great from check in to check out! We will definitely be back. The rooms were clean, comfortable and quiet. Breakfast had a great selection of hot and cold options and was excellent.\n",
      "compound: 0.9789, neg: 0.0, neu: 0.563, pos: 0.437, \n",
      "This is our second time staying here. Hotel is soo convenient to Fenway and Valet parking is a plus. Everyone here has been so friendly and the hotel has a really cool atmosphere. Not luxury but comfortable, clean and cool decor. The restaurant next door has a continental breakfast with a good selection and really lovely people working there. Crisela was so kind and helpful with my kids endless requests.\n",
      "compound: 0.9824, neg: 0.039, neu: 0.623, pos: 0.338, \n",
      "Great room, very clean, had everything I needed. Friendly, laid back atmosphere. Very relaxing. Nice continental breakfast with friendly servers. Right next to Fenway so it will be loud on game nights - bring earplugs if you’re not watching the game. Will stay again.\n",
      "compound: 0.9641, neg: 0.0, neu: 0.642, pos: 0.358, \n",
      "ROOM 109 was comfortable BUT at night the room was lit up like daylight. The curtain did not contain the lights by the pool, we had a very poor night sleep. The room was too expensive for the accommodations.\n",
      "compound: -0.0489, neg: 0.102, neu: 0.778, pos: 0.12, \n",
      "This review is specific to Amalia (breakfast attendant) and the other early AM staff at the Verb. Awesome service! Early flight in got me to the hotel many hours before check in, but the staff checked my bag for me and they had a great complimentary breakfast available right then and there. Amalia was wonderful, answering my questions with kindness you dont often see at 7am. Looking forward to the rest of my stay, and future visits.\n",
      "compound: 0.9732, neg: 0.0, neu: 0.768, pos: 0.232, \n",
      "This rock and roll themed hotel was great. Loved all the posters and other memorabilia. Every room has a turn table and there are tons of records you can get from the lobby to play. Beds were very comfortable. Breakfast was a cut above with excellent baked goods, hard boiled eggs,, fruit, yogurt and waffles - and all served with a smile. Only issue for us was it was a ways from most of our activities which were closer to Back Bay area and convention center.\n",
      "compound: 0.9571, neg: 0.036, neu: 0.744, pos: 0.22, \n",
      "This hotel is everything it advertised and more! The great music theme vibe, the amazing photo ops and the staff are all so friendly. Continental breakfast included :) Crisela the breakfast attendant was the best.\n",
      "compound: 0.9674, neg: 0.0, neu: 0.603, pos: 0.397, \n",
      "This was a college visit trip for us. The hotel is easy walking distance to BU and Northeastern (and many other universities for that matter). Things we loved about the hotel—the staff are really friendly and upbeat, the complementary beverages including nitro cold brew, wide array of breakfast offerings, clean and funky decor, clever rock n roll sayings ALL OVER THE PLACE, generous name brand toiletries in the room (I could’ve left so many liquids at home), Keurig vs the sachet, comfortable bedding and pillows, fun baseball crowd when the Red Sox are in town, walking distance to many attractions otherwise near the train. My teen daughter and I enjoyed our stay very much. I will return.\n",
      "compound: 0.9843, neg: 0.01, neu: 0.753, pos: 0.236, \n",
      "Our first visit and we were totally impressed! Perfect location with Fenway directly behind the hotel, and walking distance to plenty of food (Lorraines) and nightlife (House of Blues). Can walk to BU and Northeastern campuses within 15 minutes. Love the vibrant rock n roll vibe and decor throughout! Each room has a vinyl turntable and a stock of some records but you can take/choose more from the hotels extensive collection in the lobby. Breakfast is included and we had live guitar music during our weekend stay. Outdoor heated pool and variety of outside seating spots to sit with a morning coffee or around the pool. The front desk staff was AMAZING!! All of them! Kind, courteous, helpful outgoing and seem to really enjoy their job and the guests. A breath of fresh air to\n",
      "compound: 0.9914, neg: 0.0, neu: 0.741, pos: 0.259, \n",
      "Crisela was so polite and helpful our breakfast was fresh service was great and quick The verb hotel is awesome and the staff attentive and helpful Everything was clean and delightful This is our second time here and we will be back again\n",
      "compound: 0.9724, neg: 0.0, neu: 0.609, pos: 0.391, \n",
      "My girlfriend and I embarked on a 5+ city east coast tour.The Verb Hotel was easily the most memorable of our lodging decisions. The place is charming and the hospitality was second to none. We thoroughly enjoyed exploring new music with the in room record player. Not to mention, its next door to one of the most revered sporting venues in the world. The only regret was that it wasnt a little warmer during our trip, so that we could have enjoyed the pool. The Verb will be at the top of our list when we make a return trip to Boston.\n",
      "compound: 0.3147, neg: 0.092, neu: 0.804, pos: 0.104, \n",
      "Probably to cool for me, this property is boutique in every sense. Upon entering, we were warmly greeted by the front desk staff as each of them introduced themselves by name. We knew we were in a place unlike any other by the dark walls and rock and roll décor. After we checked in, we were shown the amp that was a refrigerator holding bottles of water for the guests and the vinyl record collection you could borrow from to use in your room which was equipped with a record player. The rooms were nice but I could have used a newer mattress. The hotel located right beside Fenway. We could literally see one of Fenways walls from the small hotel pool. The pool was amazing! They keep it heated to what I would describe as bathwater temperatures. One of the nights that we were\n",
      "compound: 0.8871, neg: 0.0, neu: 0.915, pos: 0.085, \n",
      "My daughter and I (15) stayed here recently. Love!! The staff was great. Helpful. Fun. Kind. Genuinely interested in us and our travel. On site restaurant was amazing. A stranger even helped us with our bag. Back to the vibe... we pulled records from the lobby and played them in our room. Great musical theme and feel. I was a bit concerned about the party vibe but it was low-key and well, so fun. Great Energy! The tour buses were ADORABLE. Wed stay again in a hot minute. My teenager agrees.\n",
      "compound: 0.9925, neg: 0.0, neu: 0.587, pos: 0.413, \n",
      "This is our second stay here and each time they have been professional and fun at the same time . Their music theme is a real plus and adds so much to the atmosphere. It’s appealing to a variety of age groups. The rooms are a good size and have all the amenities you could want including a turntable and speaker!\n",
      "compound: 0.7777, neg: 0.0, neu: 0.872, pos: 0.128, \n",
      "We booked a two-night stay and were impressed that the theme of the hotel is clear but not overbearing. Parking is a bit outrageous at $65/day. Understandably, parking is a luxury in Boston, but it would have been nice to have a slightly better rate, considering the price of the room was almost $250/night. Complimentary breakfast was surprisingly good - they had a nice spread of fruit, waffles, oatmeal, cereal, bagels, toast, smoothies, coffee/juice/tea, etc. Room was very clean, check in and check out were quick and easy. We would stay at this hotel again, but would recommend not bringing a car if you can avoid it. Ubers around the city are cheap, and many things are within walking distance.\n",
      "compound: 0.9818, neg: 0.048, neu: 0.701, pos: 0.251, \n",
      "This is not our first time nor will it be our last! We have a son in college nearby the Verb. It is so convenient. An amazing boutique hotel that is always clean and friendly. The complimentary breakfast always is just enough. Tom at the front desk always goes above and beyond to be personable. Makes a huge difference! This was about our 8th time staying and We look forward to returning very soon.\n",
      "compound: 0.9408, neg: 0.0, neu: 0.81, pos: 0.19, \n",
      "Needed a last-minute room for the night when going to a Sox game and The Verb did not disappoint. Its location, literally feet from Fenway Park, is ideal. What’s not A deal is the cost— over $600/night + taxes + parking fee, but it was a busy Sox/Yankees weekend and I was in a bind. Too much $$ BUT the friendly staff and great room made up for it, and they very generously gave me a small discount and a late checkout 🙌 Really comfy king bed, huge TV w/lots of channels, huge bathroom and the cool rock ‘n roll paraphernalia give the rooms and the whole hotel a great vibe. Big kudos to the GM Paul and the front desk staff who really helped me (& my dog!) when I was in a rush, and even bigger kudos to the super-friendly and helpful valet staff, James & CISCO!! Thank you guys!\n",
      "compound: 0.9944, neg: 0.0, neu: 0.715, pos: 0.285, \n",
      "Our second time staying at the Verb while attending a Red Sox game. It couldnt be better. The location is perfect, the people at The Verb work hard to make your stay fun. And if youre a Rock n Roll fan, it doesnt get any better!\n",
      "compound: 0.6575, neg: 0.118, neu: 0.701, pos: 0.182, \n",
      "We stayed here for a Red Sox game, the park is literally 100 feet from the hotel. If you like a little old school Rock and Roll with a Modern flare, this is the place for you. Rooms were clean and comfortable, and the Staff were very knowledgeable and friendly. Definitely 5 out of 5 ⭐️ For us.\n",
      "compound: 0.9282, neg: 0.0, neu: 0.766, pos: 0.234, \n",
      "Great location within walking distance to The House of Blues, which is why we stayed here at the Verb. We wanted a night out and a safe walk back. Awesome vibe, we played records and enjoyed people watching from our room looking into Fenway. Very clean, comfortable bed and pillows, and A.C. Friendly and accommodating staff. We used the valet to park our car overnight for a fee. Can’t wait to stay here again!\n",
      "compound: 0.9796, neg: 0.0, neu: 0.701, pos: 0.299, \n",
      "Fun decor really leans in to the rock-n-roll vibe. Found some really cool music to enjoy. The staff was young and responsive. Always a cheerful greeting when we would get back . Location is good, although most restaurants and bars close early.\n",
      "compound: 0.9617, neg: 0.0, neu: 0.616, pos: 0.384, \n",
      "The hotel is right next to Fenway Park. You can see their theme on their website. They have a few cool twists, such as LPs you can take to your room. Every room has a turntable. I stayed in the Rolling Stones room. Each room has a specific rock-star or rock-star-group imprint. The one thing I didn\\t like is the amenities fee, which covers access to the heated saltwater pool, the LPs and unlimited free water in the lobby mini fridge (which looks like a speaker). This wasn\\t divulged ahead of time. I didn\\t see it on their website. So what are you going to do at check in? Say no... and go look for another hotel? No, you pony up the $25 or whatever it is. Not the most transparent business practice. It\\s increasingly used by some hotels but if it\\s not clear before you\n",
      "compound: 0.3257, neg: 0.03, neu: 0.91, pos: 0.06, \n",
      "Stayed here with my daughter the week leading up to her dorm move-in day and we loved it. Because of the nature of it being a motor lodge setup (and the large quantity of college students that particular week), the hallways could get a little noisy at times, but it was generally brief. Hotel is cool and on trend, lots of fun rock memorabilia everywhere. LOVED having a record player in our room and made use of it (and the free bottled water and free Nitro-Brew in the lobby) daily. Very good sushi restaurant on site with live music. Walking distance form the Berklee/Boston Conservatory Campus (and I think Boston University.) Lots of shopping and dining choices extremely close by and, of course, Fenway stadium is right behind the hotel if you are in Boston for a game. Great staff,\n",
      "compound: 0.9898, neg: 0.007, neu: 0.776, pos: 0.216, \n",
      "Let\\s get the negative out of the way with first. Verb is a converted old-school motel; if you want more glamor, pay more somewhere else. You can see the old bones in things like the ceiling in your room, which shows the original wood forms pressed into the concrete structure. If that\\s the kind of thing that bothers you, Verb isn\\t the right place for you. But, if you don\\t mind that, Verb offers a whole lot. It\\s got a cool and funky vibe that isn\\t TOO cool and funky; my 18 year old liked it, and so did I. The rooms are clean, the mattresses are comfortable, and the bathrooms very nice. The people are friendly and helpful. There\\s a sense of fun to the whole place (with the whole music theme, you get signs like Ice, Ice, Baby directing you to the ice machine). The\n",
      "compound: 0.9898, neg: 0.047, neu: 0.703, pos: 0.25, \n",
      "Love the Verb hotel and the whole music theme. The record players in rooms and vinyl library are a delightful touch. Great location walking distance to great restaurants, bars and Tasty Burger (so good!!). Great for visiting college parents or baseball fans. (Seconds from Fenway.)\n",
      "compound: 0.9715, neg: 0.0, neu: 0.651, pos: 0.349, \n",
      "The Verb is, without a doubt, my favorite hotel in the city. My husband and I have stayed there a few times, and it’s always stellar: the rooms are fabulous, the location is amazing, and the staff is delightful from check in to check out. We had tickets to go to a concert at Fenway during our last stay (August 5), which happened to be the permanent roommate’s birthday. When I booked, I opted for the All You Need is Love package, but forgot to call the day before to set up a time for the chocolate and rosé to be set up. When we got back from the show, Tom (who I believe was the manager on duty) told me not to worry and showed up with the goods - the chocolate, the rosé, *and* a Beach Boys album that my husband and I bought on CD the weekend we got engaged. It was hospitality to\n",
      "compound: 0.9334, neg: 0.011, neu: 0.876, pos: 0.113, \n",
      "The Verb hotel was an amazing stay! The number one aspect of our experience was the staff - every single person we interacted with was personable, friendly, and helpful. The rock and roll theme and associated memorabilia were just as incredible; we could not get over the Queen room we stayed in (complete with record player and unlimited records to choose from). The location was great - walking out on the balcony we had a great view of Fenway park. Lots of great restaurants nearby! Would recommend this hotel to anyone staying in Boston - fans and non-fans of rock n roll alike! BOOK NOW\n",
      "compound: 0.9794, neg: 0.0, neu: 0.775, pos: 0.225, \n",
      "Pros: literally across from Fenway, a salt water pool, super friendly staff, unique hotel decor. Cons: even though the decor is unique the rooms offer average amenities, hotel bar closes early, expensive (stayed 8/24/21 and the room ended up being over $400, high end pricing even for Boston)\n",
      "compound: 0.7964, neg: 0.0, neu: 0.864, pos: 0.136, \n",
      "The location, musical theme, and breakfast were all solid! We were able to get a last minute ticket to a baseball game, had fantastic food near by, and the breakfast actually had protein options (not just a carb fest) -- wonderful value\n",
      "compound: 0.8908, neg: 0.0, neu: 0.751, pos: 0.249, \n",
      "1st floor at door 123 the hall squeaks you know what I’m talking about…super cool friendly staff can’t beat the location…selection at breakfast was very good the smoothies are worth it…is the pool heated???\n",
      "compound: 0.8788, neg: 0.0, neu: 0.729, pos: 0.271, \n",
      "The Verb is amazing! I mean, Nitro coffee ON TAP in the lobby 24/7?! Yes please! Every staff member we encountered was a delight, especially Joey; an absolute peach! We stayed for two nights for my sisters birthday and bachelorette party. Continental breakfast was perfect for grabbing a quick bite. We stayed during “hurricane” Henri so we weren’t able to utilize the pool but we had a balcony room overlooking the pool so good enough. Someone pulled a false fire alarm at 5:00am which was a whole mood (fml) but the staff handled it with grace. We went out to several local bars and restaurants, Lolita was the BEST! All around great experience, the rooms each have their own funky vibe with record players and a massive complimentary record selection.. and did I mention the Nitro\n",
      "compound: 0.9863, neg: 0.049, neu: 0.703, pos: 0.249, \n",
      "1st impressions are everything! Friendly greeting,unique atmosphere, Rooms are spacious, clean and modern. Love the Bigelow products for shower & after shower. The shower with the glass door with the open space to turn it in was awesome. I would stay there again and recommend to others.\n",
      "compound: 0.9577, neg: 0.0, neu: 0.674, pos: 0.326, \n",
      "The crew at the Verb were great. Thanks to Aracely, Amalia Vasquez, Cisco, Joey Jordan, Tom, and I’m sorry I can’t remember the rest of your names. You made the stay easy and pleasant. Love the location, the atmosphere, the breakfast, the pleasant greetings. Rock on!\n",
      "compound: 0.9735, neg: 0.021, neu: 0.596, pos: 0.383, \n",
      "We loved the rooms and the atmosphere. The staff was excellent-friendly and so kind. Loved the cold brew! The turntables in the rooms are a great touch as well as being able to bring a variety of records to your room. Blanca left outer room near and tidy!\n",
      "compound: 0.9649, neg: 0.0, neu: 0.681, pos: 0.319, \n",
      "I have stayed at the Verb several times with some friends it has always been a great experience. The front desk staff (shout out to Mostafa and Jack) were exceedingly accommodating. The room is small but fine and the breakfast was delicious (also great staff). The smoothie was awesome! We look forward to our next stay.\n",
      "compound: 0.9762, neg: 0.0, neu: 0.672, pos: 0.328, \n",
      "My family and I spent two great evenings as guests at The Verb and feel like we left as family. What a great little hotel gem. Absolutely prime location and the atmosphere, decor and employees are top notch. Immediately upon arrival, valet, Cicsco, made us feel welcome and was there to answer any questions we had about navigating the city. Hope to return here again. If music is your thing this hotel is a must! Also, its right next to Fenway Park.\n",
      "compound: 0.9565, neg: 0.0, neu: 0.796, pos: 0.204, \n",
      "We booked this hotel last minute while visiting Boston for a Red Sox game. I was a little apprehensive because we were traveling with little kids and this is a “rock n roll” hotel. I was very wrong! The staff was accommodating and kind. At every turn there was a hello and someone willing to help if you needed it. The rooms were clean and comfortable! Amazing stay!\n",
      "compound: 0.9244, neg: 0.045, neu: 0.732, pos: 0.223, \n",
      "I cannot say enough great things about The Verb. From the moment we checked in, the staff made us feel like VIP rock stars! Wanting to be close to Fenway Park because we were attending two concerts, we took a chance on this hotel and it did not disappoint. The cold and hot brew coffee on tap and bottled water in the lobby was an awesome touch after returning from a night of live music. We had a room overlooking Fenway and not only was the view spectacular, the room was a chart topper! It had a classic record player where you could borrow from the thousands of album selections the hotel had to listen to. The puns on the amenities added that extra special touch. They did not miss a beat when it came to the little things. The only disappointment was that we didnt stay longer\n",
      "compound: 0.9027, neg: 0.042, neu: 0.827, pos: 0.131, \n",
      "Absolutely loved our stay. Front desk staff was very friendly and helpful. Our kids loved the heated outdoor pool, they are still talking about it. We got a free short live concert from GunsN Roses. They did a soundcheck at Fenway for their next day concert. Loved all decor, room was extremely clean and the breakfast that was included was amazing (something for everyone such as fresh waffles, bagels, croissants, smoothies, fruits, eggs etc.). The two breakfast ladies were amazing! Will definitely stay there again!\n",
      "compound: 0.9901, neg: 0.0, neu: 0.653, pos: 0.347, \n",
      "The Verb is a unique hotel and if you are a fan of supporting small businesses and shopping local then you definitely want to consider staying with them. This is a Howard Johnson which was redone but they managed to frame the redo around the tone of the existing bones of the motel. If you are a music fan then this is an absolutely joy of an experience. Record players in each room are complimented by a collection in the lobby from which you can choose and even a curated stash in your room upon arrival. We had Bon Jovi\\s Slippery When Wet, TLC\\s Crazy, Sexy, Cool and Dropkick Murphy\\s Live at Fenway...perfection as far as my family was concerned. Room was clean and layout is general. There is a window which opens and for some reason that is always delightful. We had a view of\n",
      "compound: 0.9852, neg: 0.019, neu: 0.76, pos: 0.221, \n",
      "Sisco was a great staff member working at The Verb . He greeted us with a huge smile, welcomed us back, and asked why we were staying….of course for the Fenway concert! Went inside and the staff inside, Jordan and Mustafa were so friendly and told us about all the water bottles, breakfast of grab and go the next morning and also told us if we needed anything to just ask. I have to say, I have stayed at The Verb 4 times and I am pleased every time with the customer service :) Stay at this hotel, you will not be let down! Thank you all so much! Till next time :)\n",
      "compound: 0.9814, neg: 0.0, neu: 0.763, pos: 0.237, \n",
      "We rented two rooms to stay in after a concert at Fenway. The hotel was great and really added to our experience! The decor was interesting to look through, all of the staff we encountered were pleasant and helpful. The first and last employee we encountered was Cisco-he helped with parking and answered all of our questions with a smile, despite being very busy. We definitely would return for another show!\n",
      "compound: 0.9581, neg: 0.0, neu: 0.769, pos: 0.231, \n",
      "We visited Boston for 2 days to go the Green Day/Weezer concert at Fenway. I booked the VERB thinking it looked pretty cool from their website, but honestly the website doesnt do it justice. The theming is on point, the staff is amazing and the restaurant attached is an absolute must! Everything from the fantastic breakfast to the vinyl were above and beyond. Cant say enough about our stay other than that we cant wait to come back. Its very kid friendly as well. Pro tip: get a fenway facing room. We got a free Billy Joel concert from our window the night before Green Day/Weezer!\n",
      "compound: 0.981, neg: 0.029, neu: 0.733, pos: 0.238, \n",
      "I recently won a contest that The Verb had and was excited to finally stay at this unique boutique hotel. Ive been wanting to visit since I first discovered them on Instagram last year. Winning this contest finally gave me the opportunity. From the moment I walked into the lobby I was greeted by friendly, upbeat staff who were genuinely happy to check me in. Ive been to hotels where the staff are just going through the motions. Not here. From the front desk to the valet to the girls serving breakfast, it is obvious that the staff at The Verb love their jobs. We had the Deluxe Aerosmith suite and it was decorated with all sorts of cool memorabilia, a record player connected to a small marshall speaker and a balcony view of Fenway Park. We could choose from a large\n",
      "compound: 0.9796, neg: 0.0, neu: 0.81, pos: 0.19, \n",
      "I had a sisters vacation at the verb and we are already wanting to go back! The vibe is chill and the staff is so accommodating and welcoming. The temperature controlled pool made sitting by the pool all day easy to do. The hotel is centrally located to restaurants and bars. The rooms and balconies are spacious making it a perfect spot to relax!\n",
      "compound: 0.9224, neg: 0.0, neu: 0.811, pos: 0.189, \n",
      "It was everything I had hoped for in booking my 1st Trip to Boston !! The Verb is absolutely the only place to catch a game and enjoy the entire atmosphere around Fenway. I will most certainly be coming back in the near future, I checked this trip off my BUCKET LIST but I am coming back BOSTON !!\n",
      "compound: 0.7109, neg: 0.0, neu: 0.881, pos: 0.119, \n",
      "Our 1st visit will not be our last! The vintage atmosphere was refreshing. Thoroughly enjoyed the heated saltwater pool. Loved the vinyl record collection we could play in our rooms. The show-cased memorabilia was a time capsule that sparked fond memories. Even the 1947 Greyhound-converted camper was a thrill of its own. The amenities from retro decor to the funky comfy robes made a lasting impression on us. But what really topped our charts was the fantastic friendly staff. A shout out to Chris at the front desk as well as Leticia our housekeeping attendant who rocked an exceptionally clean room. We look forward to our next stay at the Verb. Carolyn & Steven Bueno\n",
      "compound: 0.9764, neg: 0.009, neu: 0.774, pos: 0.217, \n",
      "This place rocks, literally. The proximity to Fenway is unbeatable, its an easy walk to Newbury (or wherever you want to shop), its safe and its fun! The free breakfast was more than enough...and you can eat poolside.\n",
      "compound: 0.9184, neg: 0.0, neu: 0.702, pos: 0.298, \n",
      "Hotel is in a fantastic location in the Fenway neighborhood of Boston, right next to Fenway Park. Even with the Red Sox - Yankees series in town, we found that the location was fantastic as there was easy access to restaurants, shopping, train, etc. They allow families but just feels like a better fit for a couple.\n",
      "compound: 0.9464, neg: 0.0, neu: 0.715, pos: 0.285, \n",
      "Super cool place, nice room and shower, clean and convenient. Very friendly staff that was a pleasure to chat with. Enjoyed the music and pool. Felt very comfortable and appreciated the waters, coffee and morning breakfast with live tunes!!\n",
      "compound: 0.9833, neg: 0.0, neu: 0.492, pos: 0.508, \n",
      "We LOVED our stay at the Verb Hotel! It is located just behind Fenway Park, and we chose it specifically for this reason. BUT, it did not disappoint in any other category! We loved the staff--all of them. They were all very friendly and accommodating. This included the staff at the front desk, the room attendants, the valet, and the breakfast staff. EVERYONE was amazing! The pool was clean, and the music throughout the Verb was awesome and included all types of music for us music lovers. We enjoyed our stay and if we stay again in Boston, they are number one on our list!! Thank you Verb!!\n",
      "compound: 0.9936, neg: 0.0, neu: 0.683, pos: 0.317, \n",
      "Absolutely loved our stay at The Verb. The hotel itself was adorable -- loved the decor and the music theme. The fact that you could take classic records back to your room and play them on your own record player located in the room was so fun!! The pool was insanely cool and the on-site restaurant one of the best meals I had on my vacation. Complimentary breakfast was generous. Location was decent -- the only way to get any closer to Fenway Park would be inside the stadium itself. Use the app Parking Whiz to access cheaper parking. We found safe 24 hour parking within a 5 minute walk from the hotel for $25.\n",
      "compound: 0.9876, neg: 0.0, neu: 0.748, pos: 0.252, \n",
      "Awesome stay awesome theme everything was amazing the pool was awesome the employees were so friendly and hospitable such a cool experience and great selection of music very quiet and comfortable sleep and tasty breakfast\n",
      "compound: 0.9851, neg: 0.0, neu: 0.463, pos: 0.537, \n",
      "What a wonderful hotel! We love the personal attention and care. Such a special place and we can not wait to get back to Boston, also telling everyone about it! Thanks again for such a meaningful trip !\n",
      "compound: 0.9632, neg: 0.0, neu: 0.585, pos: 0.415, \n",
      "I had an amazing time on my staycation at The Verb. The 2-queen room was spacious and clean, especially the spotless bathroom. I love the overall design scheme of ‘70’s punk/rock & roll subculture. The record players in every room with the library of records in the lobby to choose from was a genius touch. The pool area was great, my meal at Hojoko was excellent and the complimentary breakfast was the best setup I’ve seen since covid- very smart setup. At the front desk, Olivia was wonderful- she recognized on the phone that I was a local on a staycation and went way out of her way to make sure I had a good time during my stay, from an early check-in to ensure I had some extra pool time, to a complimentary room upgrade, she really went the extra mile, while offering good advice\n",
      "compound: 0.9928, neg: 0.0, neu: 0.719, pos: 0.281, \n",
      "Wonderful location. The staff are professional and super helpful. Very fun place for families. Nia Jack and Olivia were fantastic and made our stay so fun. They welcomed us when we came in at 1AM with clapping and great big smiles . We felt very welcome and it kicked off a great two night stay.\n",
      "compound: 0.9902, neg: 0.0, neu: 0.522, pos: 0.478, \n",
      "We loved staying here for 4 nights while visiting our son who lives in the area. It was our first hotel stay since COVID started. This hotel is like walking through a Rock and Roll museum! The breakfast was FABULOUS also. Staff were all so friendly. Safe and walkable area. The beds were super comfortable and the hotel was surprisingly quiet at night (and we are super picky about that). Loved playing some vinyl LPs in the room too. Also fun having my picture taken right underneath Mick on that yellow couch in the lobby! Highly recommend this hotel. The only surpise was the $25 fee per night, but thats because I didnt read the fine print when booking online. Rock and Roll, Hoochie Coo, right on!\n",
      "compound: 0.9682, neg: 0.013, neu: 0.774, pos: 0.212, \n",
      "Loved our stay! Awesome place and attention to detail! The breakfast was awesome, the rooms fabulous and all the amenities. The staff was so lovely and helpful- we ate at the restaurant on property and it was delish. We can not wait to come back!\n",
      "compound: 0.9783, neg: 0.0, neu: 0.616, pos: 0.384, \n",
      "We stayed 6/29-7/1 and had a great experience. You will not find a better staff. Everyone was so welcoming and fun to be around. It’s right next to Fenway park. Aracely cleaned our room and did a phenomenal job! We will stay again.\n",
      "compound: 0.8831, neg: 0.048, neu: 0.719, pos: 0.233, \n",
      "We just returned from a four night stay and cannot recommend the place enough! From check in (and out) with Jordan, the stay started out excellent and stayed that way the entire visit. From the amazing music vibe and memorabilia, the the very retro and fun rooms (including your own record player, with access to a huge library of loaner records, a vintage typewriter and a clutch fan for those of you that are used to blasting your ceiling fan at night! The location was great if you are going to a Sox game! We had a room that had a view of Fenway, and actually opened our window one night and listened to part of the game while we watched in on our in room flat screen TV with the sound muted. The rooms were very clean, so a shout out to Karen who took care of ours! The game we did\n",
      "compound: 0.9805, neg: 0.013, neu: 0.811, pos: 0.177, \n",
      "We had a amazing time staying here for a Red Sox game. The musical theme was on point. The record players and LPs in the room were such an awesome touch and the free nitro coffee in the lobby was also a big hit!! We will be staying here whenever we’re in Boston. Super fun and super friendly!\n",
      "compound: 0.9808, neg: 0.0, neu: 0.631, pos: 0.369, \n",
      "Visiting Boston with our teenage son. We all loved this place. Music/rock vibe is fun, pool lovely on a sunny day, great location next to Fenway, not far from the Charles, and 3 blocks to Fen park with paths, a track, b-ball hoops, and a beautiful rose garden. Breakfast was amazing and Amalia prepped waffles, bagels, and smoothies with a smile! Employees all seemed happy. Thomas at checkin also was positive and always helpful. Really enjoyed dinner at Hojoko too- great cocktails and interesting food. Was worried slightly about party atmosphere at pool but it was always shut down right at 10 to ensure all guests can have a good sleep.\n",
      "compound: 0.9855, neg: 0.024, neu: 0.664, pos: 0.313, \n",
      "This pillow saved my back. I love the look and feel of this pillow. Good padding and nice quality.  I love the feel of the fabric.  I would buy again\n",
      "compound: 0.9509, neg: 0.0, neu: 0.566, pos: 0.434, \n",
      "Missing information on how to use it, stupid but it is a great product for the price!  I These are so flimsy! They are not the quality you would expect from a piece of furniture.\n",
      "compound: 0.6634, neg: 0.097, neu: 0.743, pos: 0.16, \n",
      "Very nice set. Good quality. We have had the set for two months now and have not been horrendous and mad\n",
      "compound: 0.7293, neg: 0.108, neu: 0.576, pos: 0.316, \n",
      "I WANTED DIFFERENT FLAVORS BUT THEY ARE NOT. Nice but the size of the containers is a little small.Very pretty.\n",
      "compound: 0.2226, neg: 0.131, neu: 0.699, pos: 0.17, \n",
      "These do fit well and look great.  I love the smoothness of the edges\n",
      "compound: 0.9169, neg: 0.0, neu: 0.411, pos: 0.589, \n",
      "My son loves this comforter and it is very well made.  God We also have a baby She also loves it very much\n",
      "compound: 0.9385, neg: 0.0, neu: 0.523, pos: 0.477, \n",
      "Very handy for one of my kids and the tools are included in the package. I have one in perfect size, an easy to use and efficient\n",
      "compound: 0.8555, neg: 0.0, neu: 0.71, pos: 0.29, \n",
      "Makes may tea with out stirring. The only problem is that its kind of hard to put\n",
      "compound: -0.5256, neg: 0.227, neu: 0.773, pos: 0.0, \n",
      "Love this!  Perfect size for an entire family! Very good quality.\n",
      "compound: 0.9132, neg: 0.0, neu: 0.407, pos: 0.593, \n",
      "Exactly what you would expect. I love the look and feel of this pillow. Fits well and seems to last a long time. Very good quality.\n",
      "compound: 0.8588, neg: 0.0, neu: 0.689, pos: 0.311, \n",
      "Does not do a very good job; difficult to use. Not good quality product. Returned and exchanged twice now. Over it.\n",
      "compound: -0.7911, neg: 0.32, neu: 0.68, pos: 0.0, \n",
      "frame was beautifully crafted and looks great with my picture. Nice and easy to assemble, it serves its purpose both functional and aesthetically\n",
      "compound: 0.926, neg: 0.0, neu: 0.585, pos: 0.415, \n",
      "SOOOOOOO cute. I love them. Adorable. Well made and totally worth the price!! Purchased as a Christmas gift.  She will love it.\n",
      "compound: 0.9697, neg: 0.0, neu: 0.367, pos: 0.633, \n",
      "Great product, does its job well holding my lunch several days a week. A little pricey for what it is.\n",
      "compound: 0.7351, neg: 0.0, neu: 0.721, pos: 0.279, \n",
      "Does the job, but nothing special. Not hard to install.\n",
      "compound: -0.4965, neg: 0.345, neu: 0.655, pos: 0.0, \n",
      "Item as described and arrived in a timely manner.\n",
      "compound: 0.0, neg: 0.0, neu: 1.0, pos: 0.0, \n",
      "Made well holds all my make brushes, pencils, mascara etc. It was as exactly decribed as it was shown on the picture. \n",
      "compound: 0.2732, neg: 0.0, neu: 0.909, pos: 0.091, \n",
      "These are so weak and worse. They barely bring in any air. THEY NEED TO BE MORE RESILIENT AND STRONGER.\n",
      "compound: -0.4307, neg: 0.251, neu: 0.599, pos: 0.15, \n",
      "Great set of glasses!  Good quality, comfortable to handle. Good price and Ive gotten many compliments.\n",
      "compound: 0.945, neg: 0.0, neu: 0.405, pos: 0.595, \n",
      "Nice and contemporary. Great for the price. Easy to assemble. Beautiful little set!  Nice colors.  Love the colors!  Love that they are bright\n",
      "compound: 0.9824, neg: 0.0, neu: 0.346, pos: 0.654, \n",
      "HYATT IN KOH SAMUI! Fantastic.Beautiful location\n",
      "compound: 0.0, neg: 0.0, neu: 1.0, pos: 0.0, \n",
      "Bettwr then the westgate timeshare i own. I rent that pos out and stay at the hyatt when in orlando. \n",
      "compound: 0.0, neg: 0.0, neu: 1.0, pos: 0.0, \n",
      "Stayed in orlando and it was amazing. Very clean and friendly staff. \n",
      "compound: 0.8822, neg: 0.0, neu: 0.467, pos: 0.533, \n",
      "We have been Hyatt vacation club owners for nearly 20 years. With the pandemic and lockdowns we’ve not used them for the last 2 years( very understandable). Unlike U.K. companies that have tried look after people after holidays have been cancelled by ensuring refund\n",
      "compound: 0.4019, neg: 0.043, neu: 0.857, pos: 0.101, \n",
      "We stayed at the Grand Hyatt - Amman hotel in Jordan and it was a highlight of the holiday. Nice to relax after a hot dusty day at the spa and two pools. Everything was empty due to covid 19  which added to the luxury and feeling of space.  Staff were excellent. \n",
      "compound: 0.9451, neg: 0.029, neu: 0.663, pos: 0.307, \n",
      "Stay here for consistent quality - and for slightly less than the rest\n",
      "compound: 0.0, neg: 0.0, neu: 1.0, pos: 0.0, \n",
      "We were transiting through Charlotte\n",
      "compound: 0.0, neg: 0.0, neu: 1.0, pos: 0.0, \n",
      "We stayed at the Hyatt Centric on Murano recently and felt thoroughly pampered from beginning to end. Wonderful location\n",
      "compound: 0.5719, neg: 0.0, neu: 0.829, pos: 0.171, \n",
      "Two days of trying to adjust a work trip reservation. multiple phone calls with over then 40 min waits and nothing resolved. I will never use Hyatt for any personal trips in the future. Just insane that you cant change a reservation with online chat. Best advise is to stay somewhere else then have to deal with Hyatts lack luster of customer service \n",
      "compound: -0.0818, neg: 0.098, neu: 0.839, pos: 0.063, \n",
      "No hotel room is big and the Buffay but I do not like the color of the pool and the smell of it\n",
      "compound: -0.5048, neg: 0.176, neu: 0.824, pos: 0.0, \n",
      "Hotel in morocco was amazing. Present in the heart of city\n",
      "compound: 0.5859, neg: 0.0, neu: 0.725, pos: 0.275, \n",
      "he Buffet at this palace was amazing. One of the best location and buffet\n",
      "compound: 0.8402, neg: 0.0, neu: 0.6, pos: 0.4, \n",
      "The Parking lot of the hotel was very nice. It infact made the hotel standout\n",
      "compound: 0.4754, neg: 0.0, neu: 0.819, pos: 0.181, \n",
      "very niceeeee\n",
      "compound: 0.0, neg: 0.0, neu: 1.0, pos: 0.0, \n"
     ]
    }
   ],
   "source": [
    "for sentence in list_new1:\n",
    "    print(sentence)\n",
    "    ss = vader.polarity_scores(sentence)\n",
    "    for k in sorted(ss):\n",
    "        print('{0}: {1}, '.format(k, ss[k]), end='')\n",
    "    print()"
   ]
  },
  {
   "cell_type": "code",
   "execution_count": null,
   "id": "ec540613",
   "metadata": {},
   "outputs": [],
   "source": []
  }
 ],
 "metadata": {
  "kernelspec": {
   "display_name": "Python 3 (ipykernel)",
   "language": "python",
   "name": "python3"
  },
  "language_info": {
   "codemirror_mode": {
    "name": "ipython",
    "version": 3
   },
   "file_extension": ".py",
   "mimetype": "text/x-python",
   "name": "python",
   "nbconvert_exporter": "python",
   "pygments_lexer": "ipython3",
   "version": "3.9.5"
  }
 },
 "nbformat": 4,
 "nbformat_minor": 5
}
